{
  "nbformat": 4,
  "nbformat_minor": 0,
  "metadata": {
    "colab": {
      "name": "Word2Vec_with_LogReg.ipynb",
      "provenance": [],
      "collapsed_sections": []
    },
    "kernelspec": {
      "name": "python3",
      "display_name": "Python 3"
    },
    "language_info": {
      "name": "python"
    }
  },
  "cells": [
    {
      "cell_type": "markdown",
      "source": [
        "Word2Vec: https://www.kaggle.com/code/vladislavkisin/word2vec-in-supervised-nlp-tasks-shortcut/notebook"
      ],
      "metadata": {
        "id": "YRnkgz2z-3dg"
      }
    },
    {
      "cell_type": "code",
      "source": [
        "\n"
      ],
      "metadata": {
        "id": "f-ceFs35WUnt"
      },
      "execution_count": 65,
      "outputs": []
    },
    {
      "cell_type": "code",
      "source": [
        "##data_dir = '/content/drive/My Drive/Advance ML/Final Project/'\n",
        "test_csv = 'https://raw.githubusercontent.com/MatanTsarfaty/AML/main/Copy%20of%20dreaddit-test.csv'\n",
        "train_csv = 'https://raw.githubusercontent.com/MatanTsarfaty/AML/main/Copy%20of%20dreaddit-train.csv'"
      ],
      "metadata": {
        "id": "zQxTKQTQWW_s"
      },
      "execution_count": 66,
      "outputs": []
    },
    {
      "cell_type": "code",
      "execution_count": 67,
      "metadata": {
        "id": "8qOsS60kV6rj"
      },
      "outputs": [],
      "source": [
        "import pandas as pd\n",
        "import numpy as np\n",
        "import plotly.express as px \n",
        "import matplotlib.pyplot as plt \n",
        "from sklearn.preprocessing import LabelEncoder, MinMaxScaler, StandardScaler, Normalizer\n",
        "from sklearn.feature_selection import SelectKBest, chi2, RFE, VarianceThreshold, mutual_info_classif, SelectKBest"
      ]
    },
    {
      "cell_type": "code",
      "source": [
        "import re\n",
        "import nltk\n",
        "nltk.download('punkt')\n",
        "import warnings\n",
        "warnings.filterwarnings(\"ignore\")"
      ],
      "metadata": {
        "colab": {
          "base_uri": "https://localhost:8080/"
        },
        "id": "Fg104qpI49ee",
        "outputId": "769e57df-9673-4a6c-d80e-72ac62e49c14"
      },
      "execution_count": 68,
      "outputs": [
        {
          "output_type": "stream",
          "name": "stderr",
          "text": [
            "[nltk_data] Downloading package punkt to /root/nltk_data...\n",
            "[nltk_data]   Package punkt is already up-to-date!\n"
          ]
        }
      ]
    },
    {
      "cell_type": "code",
      "source": [
        "from sklearn.model_selection import train_test_split\n",
        "from sklearn.linear_model import LogisticRegression\n",
        "from sklearn.neighbors import KNeighborsClassifier\n",
        "from sklearn.tree import DecisionTreeClassifier\n",
        "from sklearn.ensemble import RandomForestClassifier\n",
        "from xgboost import XGBClassifier\n",
        "from sklearn.metrics import accuracy_score, classification_report, confusion_matrix\n",
        "from gensim.models import word2vec, Word2Vec"
      ],
      "metadata": {
        "id": "Tg3PVUr3yg6F"
      },
      "execution_count": 69,
      "outputs": []
    },
    {
      "cell_type": "code",
      "source": [
        "train_df = pd.read_csv(train_csv)\n",
        "test_df = pd.read_csv(test_csv)"
      ],
      "metadata": {
        "id": "c_Xd0q9HrCki"
      },
      "execution_count": 70,
      "outputs": []
    },
    {
      "cell_type": "code",
      "source": [
        "train_df['label'].value_counts().plot(kind='bar')"
      ],
      "metadata": {
        "colab": {
          "base_uri": "https://localhost:8080/",
          "height": 280
        },
        "id": "39H9PIQ6qcqa",
        "outputId": "52120a47-2cf7-4f00-c138-252855fd149d"
      },
      "execution_count": 71,
      "outputs": [
        {
          "output_type": "execute_result",
          "data": {
            "text/plain": [
              "<matplotlib.axes._subplots.AxesSubplot at 0x7fbf6f14ffd0>"
            ]
          },
          "metadata": {},
          "execution_count": 71
        },
        {
          "output_type": "display_data",
          "data": {
            "text/plain": [
              "<Figure size 432x288 with 1 Axes>"
            ],
            "image/png": "[encoded data removed]"
          },
          "metadata": {
            "needs_background": "light"
          }
        }
      ]
    },
    {
      "cell_type": "code",
      "source": [
        "train_df.head()"
      ],
      "metadata": {
        "id": "iZHipymlWBS4",
        "colab": {
          "base_uri": "https://localhost:8080/",
          "height": 647
        },
        "outputId": "eb9faec7-cad7-4bb0-a9a1-c3088d4ae5f5"
      },
      "execution_count": 72,
      "outputs": [
        {
          "output_type": "execute_result",
          "data": {
            "text/plain": [
              "          subreddit post_id sentence_range  \\\n",
              "0              ptsd  8601tu       (15, 20)   \n",
              "1        assistance  8lbrx9         (0, 5)   \n",
              "2              ptsd  9ch1zh       (15, 20)   \n",
              "3     relationships  7rorpp        [5, 10]   \n",
              "4  survivorsofabuse  9p2gbc         [0, 5]   \n",
              "\n",
              "                                                text     id  label  \\\n",
              "0  He said he had not felt that way before, sugge...  33181      1   \n",
              "1  Hey there r/assistance, Not sure if this is th...   2606      0   \n",
              "2  My mom then hit me with the newspaper and it s...  38816      1   \n",
              "3  until i met my new boyfriend, he is amazing, h...    239      1   \n",
              "4  October is Domestic Violence Awareness Month a...   1421      1   \n",
              "\n",
              "   confidence  social_timestamp  social_karma  syntax_ari  ...  \\\n",
              "0         0.8        1521614353             5    1.806818  ...   \n",
              "1         1.0        1527009817             4    9.429737  ...   \n",
              "2         0.8        1535935605             2    7.769821  ...   \n",
              "3         0.6        1516429555             0    2.667798  ...   \n",
              "4         0.8        1539809005            24    7.554238  ...   \n",
              "\n",
              "   lex_dal_min_pleasantness  lex_dal_min_activation  lex_dal_min_imagery  \\\n",
              "0                     1.000                  1.1250                  1.0   \n",
              "1                     1.125                  1.0000                  1.0   \n",
              "2                     1.000                  1.1429                  1.0   \n",
              "3                     1.000                  1.1250                  1.0   \n",
              "4                     1.000                  1.1250                  1.0   \n",
              "\n",
              "   lex_dal_avg_activation  lex_dal_avg_imagery  lex_dal_avg_pleasantness  \\\n",
              "0                 1.77000              1.52211                   1.89556   \n",
              "1                 1.69586              1.62045                   1.88919   \n",
              "2                 1.83088              1.58108                   1.85828   \n",
              "3                 1.75356              1.52114                   1.98848   \n",
              "4                 1.77644              1.64872                   1.81456   \n",
              "\n",
              "   social_upvote_ratio  social_num_comments  syntax_fk_grade  sentiment  \n",
              "0                 0.86                    1         3.253573  -0.002742  \n",
              "1                 0.65                    2         8.828316   0.292857  \n",
              "2                 0.67                    0         7.841667   0.011894  \n",
              "3                 0.50                    5         4.104027   0.141671  \n",
              "4                 1.00                    1         7.910952  -0.204167  \n",
              "\n",
              "[5 rows x 116 columns]"
            ],
            "text/html": [
              "\n",
              "  <div id=\"df-7bc1b2a8-dc5a-4756-9bd5-2c0c02684659\">\n",
              "    <div class=\"colab-df-container\">\n",
              "      <div>\n",
              "<style scoped>\n",
              "    .dataframe tbody tr th:only-of-type {\n",
              "        vertical-align: middle;\n",
              "    }\n",
              "\n",
              "    .dataframe tbody tr th {\n",
              "        vertical-align: top;\n",
              "    }\n",
              "\n",
              "    .dataframe thead th {\n",
              "        text-align: right;\n",
              "    }\n",
              "</style>\n",
              "<table border=\"1\" class=\"dataframe\">\n",
              "  <thead>\n",
              "    <tr style=\"text-align: right;\">\n",
              "      <th></th>\n",
              "      <th>subreddit</th>\n",
              "      <th>post_id</th>\n",
              "      <th>sentence_range</th>\n",
              "      <th>text</th>\n",
              "      <th>id</th>\n",
              "      <th>label</th>\n",
              "      <th>confidence</th>\n",
              "      <th>social_timestamp</th>\n",
              "      <th>social_karma</th>\n",
              "      <th>syntax_ari</th>\n",
              "      <th>...</th>\n",
              "      <th>lex_dal_min_pleasantness</th>\n",
              "      <th>lex_dal_min_activation</th>\n",
              "      <th>lex_dal_min_imagery</th>\n",
              "      <th>lex_dal_avg_activation</th>\n",
              "      <th>lex_dal_avg_imagery</th>\n",
              "      <th>lex_dal_avg_pleasantness</th>\n",
              "      <th>social_upvote_ratio</th>\n",
              "      <th>social_num_comments</th>\n",
              "      <th>syntax_fk_grade</th>\n",
              "      <th>sentiment</th>\n",
              "    </tr>\n",
              "  </thead>\n",
              "  <tbody>\n",
              "    <tr>\n",
              "      <th>0</th>\n",
              "      <td>ptsd</td>\n",
              "      <td>8601tu</td>\n",
              "      <td>(15, 20)</td>\n",
              "      <td>He said he had not felt that way before, sugge...</td>\n",
              "      <td>33181</td>\n",
              "      <td>1</td>\n",
              "      <td>0.8</td>\n",
              "      <td>1521614353</td>\n",
              "      <td>5</td>\n",
              "      <td>1.806818</td>\n",
              "      <td>...</td>\n",
              "      <td>1.000</td>\n",
              "      <td>1.1250</td>\n",
              "      <td>1.0</td>\n",
              "      <td>1.77000</td>\n",
              "      <td>1.52211</td>\n",
              "      <td>1.89556</td>\n",
              "      <td>0.86</td>\n",
              "      <td>1</td>\n",
              "      <td>3.253573</td>\n",
              "      <td>-0.002742</td>\n",
              "    </tr>\n",
              "    <tr>\n",
              "      <th>1</th>\n",
              "      <td>assistance</td>\n",
              "      <td>8lbrx9</td>\n",
              "      <td>(0, 5)</td>\n",
              "      <td>Hey there r/assistance, Not sure if this is th...</td>\n",
              "      <td>2606</td>\n",
              "      <td>0</td>\n",
              "      <td>1.0</td>\n",
              "      <td>1527009817</td>\n",
              "      <td>4</td>\n",
              "      <td>9.429737</td>\n",
              "      <td>...</td>\n",
              "      <td>1.125</td>\n",
              "      <td>1.0000</td>\n",
              "      <td>1.0</td>\n",
              "      <td>1.69586</td>\n",
              "      <td>1.62045</td>\n",
              "      <td>1.88919</td>\n",
              "      <td>0.65</td>\n",
              "      <td>2</td>\n",
              "      <td>8.828316</td>\n",
              "      <td>0.292857</td>\n",
              "    </tr>\n",
              "    <tr>\n",
              "      <th>2</th>\n",
              "      <td>ptsd</td>\n",
              "      <td>9ch1zh</td>\n",
              "      <td>(15, 20)</td>\n",
              "      <td>My mom then hit me with the newspaper and it s...</td>\n",
              "      <td>38816</td>\n",
              "      <td>1</td>\n",
              "      <td>0.8</td>\n",
              "      <td>1535935605</td>\n",
              "      <td>2</td>\n",
              "      <td>7.769821</td>\n",
              "      <td>...</td>\n",
              "      <td>1.000</td>\n",
              "      <td>1.1429</td>\n",
              "      <td>1.0</td>\n",
              "      <td>1.83088</td>\n",
              "      <td>1.58108</td>\n",
              "      <td>1.85828</td>\n",
              "      <td>0.67</td>\n",
              "      <td>0</td>\n",
              "      <td>7.841667</td>\n",
              "      <td>0.011894</td>\n",
              "    </tr>\n",
              "    <tr>\n",
              "      <th>3</th>\n",
              "      <td>relationships</td>\n",
              "      <td>7rorpp</td>\n",
              "      <td>[5, 10]</td>\n",
              "      <td>until i met my new boyfriend, he is amazing, h...</td>\n",
              "      <td>239</td>\n",
              "      <td>1</td>\n",
              "      <td>0.6</td>\n",
              "      <td>1516429555</td>\n",
              "      <td>0</td>\n",
              "      <td>2.667798</td>\n",
              "      <td>...</td>\n",
              "      <td>1.000</td>\n",
              "      <td>1.1250</td>\n",
              "      <td>1.0</td>\n",
              "      <td>1.75356</td>\n",
              "      <td>1.52114</td>\n",
              "      <td>1.98848</td>\n",
              "      <td>0.50</td>\n",
              "      <td>5</td>\n",
              "      <td>4.104027</td>\n",
              "      <td>0.141671</td>\n",
              "    </tr>\n",
              "    <tr>\n",
              "      <th>4</th>\n",
              "      <td>survivorsofabuse</td>\n",
              "      <td>9p2gbc</td>\n",
              "      <td>[0, 5]</td>\n",
              "      <td>October is Domestic Violence Awareness Month a...</td>\n",
              "      <td>1421</td>\n",
              "      <td>1</td>\n",
              "      <td>0.8</td>\n",
              "      <td>1539809005</td>\n",
              "      <td>24</td>\n",
              "      <td>7.554238</td>\n",
              "      <td>...</td>\n",
              "      <td>1.000</td>\n",
              "      <td>1.1250</td>\n",
              "      <td>1.0</td>\n",
              "      <td>1.77644</td>\n",
              "      <td>1.64872</td>\n",
              "      <td>1.81456</td>\n",
              "      <td>1.00</td>\n",
              "      <td>1</td>\n",
              "      <td>7.910952</td>\n",
              "      <td>-0.204167</td>\n",
              "    </tr>\n",
              "  </tbody>\n",
              "</table>\n",
              "<p>5 rows × 116 columns</p>\n",
              "</div>\n",
              "      <button class=\"colab-df-convert\" onclick=\"convertToInteractive('df-7bc1b2a8-dc5a-4756-9bd5-2c0c02684659')\"\n",
              "              title=\"Convert this dataframe to an interactive table.\"\n",
              "              style=\"display:none;\">\n",
              "        \n",
              "  <svg xmlns=\"http://www.w3.org/2000/svg\" height=\"24px\"viewBox=\"0 0 24 24\"\n",
              "       width=\"24px\">\n",
              "    <path d=\"M0 0h24v24H0V0z\" fill=\"none\"/>\n",
              "    <path d=\"M18.56 5.44l.94 2.06.94-2.06 2.06-.94-2.06-.94-.94-2.06-.94 2.06-2.06.94zm-11 1L8.5 8.5l.94-2.06 2.06-.94-2.06-.94L8.5 2.5l-.94 2.06-2.06.94zm10 10l.94 2.06.94-2.06 2.06-.94-2.06-.94-.94-2.06-.94 2.06-2.06.94z\"/><path d=\"M17.41 7.96l-1.37-1.37c-.4-.4-.92-.59-1.43-.59-.52 0-1.04.2-1.43.59L10.3 9.45l-7.72 7.72c-.78.78-.78 2.05 0 2.83L4 21.41c.39.39.9.59 1.41.59.51 0 1.02-.2 1.41-.59l7.78-7.78 2.81-2.81c.8-.78.8-2.07 0-2.86zM5.41 20L4 18.59l7.72-7.72 1.47 1.35L5.41 20z\"/>\n",
              "  </svg>\n",
              "      </button>\n",
              "      \n",
              "  <style>\n",
              "    .colab-df-container {\n",
              "      display:flex;\n",
              "      flex-wrap:wrap;\n",
              "      gap: 12px;\n",
              "    }\n",
              "\n",
              "    .colab-df-convert {\n",
              "      background-color: #E8F0FE;\n",
              "      border: none;\n",
              "      border-radius: 50%;\n",
              "      cursor: pointer;\n",
              "      display: none;\n",
              "      fill: #1967D2;\n",
              "      height: 32px;\n",
              "      padding: 0 0 0 0;\n",
              "      width: 32px;\n",
              "    }\n",
              "\n",
              "    .colab-df-convert:hover {\n",
              "      background-color: #E2EBFA;\n",
              "      box-shadow: 0px 1px 2px rgba(60, 64, 67, 0.3), 0px 1px 3px 1px rgba(60, 64, 67, 0.15);\n",
              "      fill: #174EA6;\n",
              "    }\n",
              "\n",
              "    [theme=dark] .colab-df-convert {\n",
              "      background-color: #3B4455;\n",
              "      fill: #D2E3FC;\n",
              "    }\n",
              "\n",
              "    [theme=dark] .colab-df-convert:hover {\n",
              "      background-color: #434B5C;\n",
              "      box-shadow: 0px 1px 3px 1px rgba(0, 0, 0, 0.15);\n",
              "      filter: drop-shadow(0px 1px 2px rgba(0, 0, 0, 0.3));\n",
              "      fill: #FFFFFF;\n",
              "    }\n",
              "  </style>\n",
              "\n",
              "      <script>\n",
              "        const buttonEl =\n",
              "          document.querySelector('#df-7bc1b2a8-dc5a-4756-9bd5-2c0c02684659 button.colab-df-convert');\n",
              "        buttonEl.style.display =\n",
              "          google.colab.kernel.accessAllowed ? 'block' : 'none';\n",
              "\n",
              "        async function convertToInteractive(key) {\n",
              "          const element = document.querySelector('#df-7bc1b2a8-dc5a-4756-9bd5-2c0c02684659');\n",
              "          const dataTable =\n",
              "            await google.colab.kernel.invokeFunction('convertToInteractive',\n",
              "                                                     [key], {});\n",
              "          if (!dataTable) return;\n",
              "\n",
              "          const docLinkHtml = 'Like what you see? Visit the ' +\n",
              "            '<a target=\"_blank\" href=https://colab.research.google.com/notebooks/data_table.ipynb>data table notebook</a>'\n",
              "            + ' to learn more about interactive tables.';\n",
              "          element.innerHTML = '';\n",
              "          dataTable['output_type'] = 'display_data';\n",
              "          await google.colab.output.renderOutput(dataTable, element);\n",
              "          const docLink = document.createElement('div');\n",
              "          docLink.innerHTML = docLinkHtml;\n",
              "          element.appendChild(docLink);\n",
              "        }\n",
              "      </script>\n",
              "    </div>\n",
              "  </div>\n",
              "  "
            ]
          },
          "metadata": {},
          "execution_count": 72
        }
      ]
    },
    {
      "cell_type": "code",
      "source": [
        "values = train_df['subreddit'].value_counts()\n",
        "labels = train_df['subreddit'].value_counts().index\n",
        "\n",
        "fig = px.pie(train_df, names=labels, values=values)\n",
        "fig.update_layout(title='Subreddits distribution')\n",
        "fig.update_traces(hovertemplate='%{label}: %{value}')\n",
        "fig.show()"
      ],
      "metadata": {
        "colab": {
          "base_uri": "https://localhost:8080/",
          "height": 542
        },
        "id": "Obh-Y1Y7q3hA",
        "outputId": "22f3832a-0814-4c17-8b41-23850b8df052"
      },
      "execution_count": 73,
      "outputs": [
        {
          "output_type": "display_data",
          "data": {
            "text/html": [
              "<html>\n",
              "<head><meta charset=\"utf-8\" /></head>\n",
              "<body>\n",
              "    <div>            <script src=\"https://cdnjs.cloudflare.com/ajax/libs/mathjax/2.7.5/MathJax.js?config=TeX-AMS-MML_SVG\"></script><script type=\"text/javascript\">if (window.MathJax) {MathJax.Hub.Config({SVG: {font: \"STIX-Web\"}});}</script>                <script type=\"text/javascript\">window.PlotlyConfig = {MathJaxConfig: 'local'};</script>\n",
              "        <script src=\"https://cdn.plot.ly/plotly-2.8.3.min.js\"></script>                <div id=\"ef2536e4-4164-4fdb-9b58-02a9a2a3dc01\" class=\"plotly-graph-div\" style=\"height:525px; width:100%;\"></div>            <script type=\"text/javascript\">                                    window.PLOTLYENV=window.PLOTLYENV || {};                                    if (document.getElementById(\"ef2536e4-4164-4fdb-9b58-02a9a2a3dc01\")) {                    Plotly.newPlot(                        \"ef2536e4-4164-4fdb-9b58-02a9a2a3dc01\",                        [{\"domain\":{\"x\":[0.0,1.0],\"y\":[0.0,1.0]},\"hovertemplate\":\"%{label}: %{value}\",\"labels\":[\"ptsd\",\"relationships\",\"anxiety\",\"domesticviolence\",\"assistance\",\"survivorsofabuse\",\"homeless\",\"almosthomeless\",\"stress\",\"food_pantry\"],\"legendgroup\":\"\",\"name\":\"\",\"showlegend\":true,\"values\":[584,552,503,316,289,245,168,80,64,37],\"type\":\"pie\"}],                        {\"template\":{\"data\":{\"bar\":[{\"error_x\":{\"color\":\"#2a3f5f\"},\"error_y\":{\"color\":\"#2a3f5f\"},\"marker\":{\"line\":{\"color\":\"#E5ECF6\",\"width\":0.5},\"pattern\":{\"fillmode\":\"overlay\",\"size\":10,\"solidity\":0.2}},\"type\":\"bar\"}],\"barpolar\":[{\"marker\":{\"line\":{\"color\":\"#E5ECF6\",\"width\":0.5},\"pattern\":{\"fillmode\":\"overlay\",\"size\":10,\"solidity\":0.2}},\"type\":\"barpolar\"}],\"carpet\":[{\"aaxis\":{\"endlinecolor\":\"#2a3f5f\",\"gridcolor\":\"white\",\"linecolor\":\"white\",\"minorgridcolor\":\"white\",\"startlinecolor\":\"#2a3f5f\"},\"baxis\":{\"endlinecolor\":\"#2a3f5f\",\"gridcolor\":\"white\",\"linecolor\":\"white\",\"minorgridcolor\":\"white\",\"startlinecolor\":\"#2a3f5f\"},\"type\":\"carpet\"}],\"choropleth\":[{\"colorbar\":{\"outlinewidth\":0,\"ticks\":\"\"},\"type\":\"choropleth\"}],\"contour\":[{\"colorbar\":{\"outlinewidth\":0,\"ticks\":\"\"},\"colorscale\":[[0.0,\"#0d0887\"],[0.1111111111111111,\"#46039f\"],[0.2222222222222222,\"#7201a8\"],[0.3333333333333333,\"#9c179e\"],[0.4444444444444444,\"#bd3786\"],[0.5555555555555556,\"#d8576b\"],[0.6666666666666666,\"#ed7953\"],[0.7777777777777778,\"#fb9f3a\"],[0.8888888888888888,\"#fdca26\"],[1.0,\"#f0f921\"]],\"type\":\"contour\"}],\"contourcarpet\":[{\"colorbar\":{\"outlinewidth\":0,\"ticks\":\"\"},\"type\":\"contourcarpet\"}],\"heatmap\":[{\"colorbar\":{\"outlinewidth\":0,\"ticks\":\"\"},\"colorscale\":[[0.0,\"#0d0887\"],[0.1111111111111111,\"#46039f\"],[0.2222222222222222,\"#7201a8\"],[0.3333333333333333,\"#9c179e\"],[0.4444444444444444,\"#bd3786\"],[0.5555555555555556,\"#d8576b\"],[0.6666666666666666,\"#ed7953\"],[0.7777777777777778,\"#fb9f3a\"],[0.8888888888888888,\"#fdca26\"],[1.0,\"#f0f921\"]],\"type\":\"heatmap\"}],\"heatmapgl\":[{\"colorbar\":{\"outlinewidth\":0,\"ticks\":\"\"},\"colorscale\":[[0.0,\"#0d0887\"],[0.1111111111111111,\"#46039f\"],[0.2222222222222222,\"#7201a8\"],[0.3333333333333333,\"#9c179e\"],[0.4444444444444444,\"#bd3786\"],[0.5555555555555556,\"#d8576b\"],[0.6666666666666666,\"#ed7953\"],[0.7777777777777778,\"#fb9f3a\"],[0.8888888888888888,\"#fdca26\"],[1.0,\"#f0f921\"]],\"type\":\"heatmapgl\"}],\"histogram\":[{\"marker\":{\"pattern\":{\"fillmode\":\"overlay\",\"size\":10,\"solidity\":0.2}},\"type\":\"histogram\"}],\"histogram2d\":[{\"colorbar\":{\"outlinewidth\":0,\"ticks\":\"\"},\"colorscale\":[[0.0,\"#0d0887\"],[0.1111111111111111,\"#46039f\"],[0.2222222222222222,\"#7201a8\"],[0.3333333333333333,\"#9c179e\"],[0.4444444444444444,\"#bd3786\"],[0.5555555555555556,\"#d8576b\"],[0.6666666666666666,\"#ed7953\"],[0.7777777777777778,\"#fb9f3a\"],[0.8888888888888888,\"#fdca26\"],[1.0,\"#f0f921\"]],\"type\":\"histogram2d\"}],\"histogram2dcontour\":[{\"colorbar\":{\"outlinewidth\":0,\"ticks\":\"\"},\"colorscale\":[[0.0,\"#0d0887\"],[0.1111111111111111,\"#46039f\"],[0.2222222222222222,\"#7201a8\"],[0.3333333333333333,\"#9c179e\"],[0.4444444444444444,\"#bd3786\"],[0.5555555555555556,\"#d8576b\"],[0.6666666666666666,\"#ed7953\"],[0.7777777777777778,\"#fb9f3a\"],[0.8888888888888888,\"#fdca26\"],[1.0,\"#f0f921\"]],\"type\":\"histogram2dcontour\"}],\"mesh3d\":[{\"colorbar\":{\"outlinewidth\":0,\"ticks\":\"\"},\"type\":\"mesh3d\"}],\"parcoords\":[{\"line\":{\"colorbar\":{\"outlinewidth\":0,\"ticks\":\"\"}},\"type\":\"parcoords\"}],\"pie\":[{\"automargin\":true,\"type\":\"pie\"}],\"scatter\":[{\"marker\":{\"colorbar\":{\"outlinewidth\":0,\"ticks\":\"\"}},\"type\":\"scatter\"}],\"scatter3d\":[{\"line\":{\"colorbar\":{\"outlinewidth\":0,\"ticks\":\"\"}},\"marker\":{\"colorbar\":{\"outlinewidth\":0,\"ticks\":\"\"}},\"type\":\"scatter3d\"}],\"scattercarpet\":[{\"marker\":{\"colorbar\":{\"outlinewidth\":0,\"ticks\":\"\"}},\"type\":\"scattercarpet\"}],\"scattergeo\":[{\"marker\":{\"colorbar\":{\"outlinewidth\":0,\"ticks\":\"\"}},\"type\":\"scattergeo\"}],\"scattergl\":[{\"marker\":{\"colorbar\":{\"outlinewidth\":0,\"ticks\":\"\"}},\"type\":\"scattergl\"}],\"scattermapbox\":[{\"marker\":{\"colorbar\":{\"outlinewidth\":0,\"ticks\":\"\"}},\"type\":\"scattermapbox\"}],\"scatterpolar\":[{\"marker\":{\"colorbar\":{\"outlinewidth\":0,\"ticks\":\"\"}},\"type\":\"scatterpolar\"}],\"scatterpolargl\":[{\"marker\":{\"colorbar\":{\"outlinewidth\":0,\"ticks\":\"\"}},\"type\":\"scatterpolargl\"}],\"scatterternary\":[{\"marker\":{\"colorbar\":{\"outlinewidth\":0,\"ticks\":\"\"}},\"type\":\"scatterternary\"}],\"surface\":[{\"colorbar\":{\"outlinewidth\":0,\"ticks\":\"\"},\"colorscale\":[[0.0,\"#0d0887\"],[0.1111111111111111,\"#46039f\"],[0.2222222222222222,\"#7201a8\"],[0.3333333333333333,\"#9c179e\"],[0.4444444444444444,\"#bd3786\"],[0.5555555555555556,\"#d8576b\"],[0.6666666666666666,\"#ed7953\"],[0.7777777777777778,\"#fb9f3a\"],[0.8888888888888888,\"#fdca26\"],[1.0,\"#f0f921\"]],\"type\":\"surface\"}],\"table\":[{\"cells\":{\"fill\":{\"color\":\"#EBF0F8\"},\"line\":{\"color\":\"white\"}},\"header\":{\"fill\":{\"color\":\"#C8D4E3\"},\"line\":{\"color\":\"white\"}},\"type\":\"table\"}]},\"layout\":{\"annotationdefaults\":{\"arrowcolor\":\"#2a3f5f\",\"arrowhead\":0,\"arrowwidth\":1},\"autotypenumbers\":\"strict\",\"coloraxis\":{\"colorbar\":{\"outlinewidth\":0,\"ticks\":\"\"}},\"colorscale\":{\"diverging\":[[0,\"#8e0152\"],[0.1,\"#c51b7d\"],[0.2,\"#de77ae\"],[0.3,\"#f1b6da\"],[0.4,\"#fde0ef\"],[0.5,\"#f7f7f7\"],[0.6,\"#e6f5d0\"],[0.7,\"#b8e186\"],[0.8,\"#7fbc41\"],[0.9,\"#4d9221\"],[1,\"#276419\"]],\"sequential\":[[0.0,\"#0d0887\"],[0.1111111111111111,\"#46039f\"],[0.2222222222222222,\"#7201a8\"],[0.3333333333333333,\"#9c179e\"],[0.4444444444444444,\"#bd3786\"],[0.5555555555555556,\"#d8576b\"],[0.6666666666666666,\"#ed7953\"],[0.7777777777777778,\"#fb9f3a\"],[0.8888888888888888,\"#fdca26\"],[1.0,\"#f0f921\"]],\"sequentialminus\":[[0.0,\"#0d0887\"],[0.1111111111111111,\"#46039f\"],[0.2222222222222222,\"#7201a8\"],[0.3333333333333333,\"#9c179e\"],[0.4444444444444444,\"#bd3786\"],[0.5555555555555556,\"#d8576b\"],[0.6666666666666666,\"#ed7953\"],[0.7777777777777778,\"#fb9f3a\"],[0.8888888888888888,\"#fdca26\"],[1.0,\"#f0f921\"]]},\"colorway\":[\"#636efa\",\"#EF553B\",\"#00cc96\",\"#ab63fa\",\"#FFA15A\",\"#19d3f3\",\"#FF6692\",\"#B6E880\",\"#FF97FF\",\"#FECB52\"],\"font\":{\"color\":\"#2a3f5f\"},\"geo\":{\"bgcolor\":\"white\",\"lakecolor\":\"white\",\"landcolor\":\"#E5ECF6\",\"showlakes\":true,\"showland\":true,\"subunitcolor\":\"white\"},\"hoverlabel\":{\"align\":\"left\"},\"hovermode\":\"closest\",\"mapbox\":{\"style\":\"light\"},\"paper_bgcolor\":\"white\",\"plot_bgcolor\":\"#E5ECF6\",\"polar\":{\"angularaxis\":{\"gridcolor\":\"white\",\"linecolor\":\"white\",\"ticks\":\"\"},\"bgcolor\":\"#E5ECF6\",\"radialaxis\":{\"gridcolor\":\"white\",\"linecolor\":\"white\",\"ticks\":\"\"}},\"scene\":{\"xaxis\":{\"backgroundcolor\":\"#E5ECF6\",\"gridcolor\":\"white\",\"gridwidth\":2,\"linecolor\":\"white\",\"showbackground\":true,\"ticks\":\"\",\"zerolinecolor\":\"white\"},\"yaxis\":{\"backgroundcolor\":\"#E5ECF6\",\"gridcolor\":\"white\",\"gridwidth\":2,\"linecolor\":\"white\",\"showbackground\":true,\"ticks\":\"\",\"zerolinecolor\":\"white\"},\"zaxis\":{\"backgroundcolor\":\"#E5ECF6\",\"gridcolor\":\"white\",\"gridwidth\":2,\"linecolor\":\"white\",\"showbackground\":true,\"ticks\":\"\",\"zerolinecolor\":\"white\"}},\"shapedefaults\":{\"line\":{\"color\":\"#2a3f5f\"}},\"ternary\":{\"aaxis\":{\"gridcolor\":\"white\",\"linecolor\":\"white\",\"ticks\":\"\"},\"baxis\":{\"gridcolor\":\"white\",\"linecolor\":\"white\",\"ticks\":\"\"},\"bgcolor\":\"#E5ECF6\",\"caxis\":{\"gridcolor\":\"white\",\"linecolor\":\"white\",\"ticks\":\"\"}},\"title\":{\"x\":0.05},\"xaxis\":{\"automargin\":true,\"gridcolor\":\"white\",\"linecolor\":\"white\",\"ticks\":\"\",\"title\":{\"standoff\":15},\"zerolinecolor\":\"white\",\"zerolinewidth\":2},\"yaxis\":{\"automargin\":true,\"gridcolor\":\"white\",\"linecolor\":\"white\",\"ticks\":\"\",\"title\":{\"standoff\":15},\"zerolinecolor\":\"white\",\"zerolinewidth\":2}}},\"legend\":{\"tracegroupgap\":0},\"margin\":{\"t\":60},\"title\":{\"text\":\"Subreddits distribution\"}},                        {\"responsive\": true}                    ).then(function(){\n",
              "                            \n",
              "var gd = document.getElementById('ef2536e4-4164-4fdb-9b58-02a9a2a3dc01');\n",
              "var x = new MutationObserver(function (mutations, observer) {{\n",
              "        var display = window.getComputedStyle(gd).display;\n",
              "        if (!display || display === 'none') {{\n",
              "            console.log([gd, 'removed!']);\n",
              "            Plotly.purge(gd);\n",
              "            observer.disconnect();\n",
              "        }}\n",
              "}});\n",
              "\n",
              "// Listen for the removal of the full notebook cells\n",
              "var notebookContainer = gd.closest('#notebook-container');\n",
              "if (notebookContainer) {{\n",
              "    x.observe(notebookContainer, {childList: true});\n",
              "}}\n",
              "\n",
              "// Listen for the clearing of the current output cell\n",
              "var outputEl = gd.closest('.output');\n",
              "if (outputEl) {{\n",
              "    x.observe(outputEl, {childList: true});\n",
              "}}\n",
              "\n",
              "                        })                };                            </script>        </div>\n",
              "</body>\n",
              "</html>"
            ]
          },
          "metadata": {}
        }
      ]
    },
    {
      "cell_type": "code",
      "source": [
        "train_df['subreddit']"
      ],
      "metadata": {
        "colab": {
          "base_uri": "https://localhost:8080/"
        },
        "id": "-zzmxbyyvVAU",
        "outputId": "b8821a5c-ee34-4651-eabe-fa9afb1ef711"
      },
      "execution_count": 74,
      "outputs": [
        {
          "output_type": "execute_result",
          "data": {
            "text/plain": [
              "0                   ptsd\n",
              "1             assistance\n",
              "2                   ptsd\n",
              "3          relationships\n",
              "4       survivorsofabuse\n",
              "              ...       \n",
              "2833       relationships\n",
              "2834                ptsd\n",
              "2835             anxiety\n",
              "2836      almosthomeless\n",
              "2837                ptsd\n",
              "Name: subreddit, Length: 2838, dtype: object"
            ]
          },
          "metadata": {},
          "execution_count": 74
        }
      ]
    },
    {
      "cell_type": "code",
      "source": [
        "label_enc = LabelEncoder()\n",
        "train_df['subreddit'] = label_enc.fit_transform(train_df['subreddit'])\n",
        "test_df['subreddit'] = label_enc.fit_transform(test_df['subreddit'])"
      ],
      "metadata": {
        "id": "P3rKZzHMtikD"
      },
      "execution_count": 75,
      "outputs": []
    },
    {
      "cell_type": "code",
      "source": [
        "train_df['subreddit']"
      ],
      "metadata": {
        "colab": {
          "base_uri": "https://localhost:8080/"
        },
        "id": "kqDkdl68vXTU",
        "outputId": "644ad3dc-f774-43d3-82c1-df41f266522d"
      },
      "execution_count": 76,
      "outputs": [
        {
          "output_type": "execute_result",
          "data": {
            "text/plain": [
              "0       6\n",
              "1       2\n",
              "2       6\n",
              "3       7\n",
              "4       9\n",
              "       ..\n",
              "2833    7\n",
              "2834    6\n",
              "2835    1\n",
              "2836    0\n",
              "2837    6\n",
              "Name: subreddit, Length: 2838, dtype: int64"
            ]
          },
          "metadata": {},
          "execution_count": 76
        }
      ]
    },
    {
      "cell_type": "markdown",
      "source": [
        "Take all the 80% majurity data"
      ],
      "metadata": {
        "id": "RAbF6ckzzuaQ"
      }
    },
    {
      "cell_type": "code",
      "source": [
        "BestData_ = train_df[train_df['confidence'] >= 0.8]"
      ],
      "metadata": {
        "id": "62rTp4nbztrA"
      },
      "execution_count": 77,
      "outputs": []
    },
    {
      "cell_type": "code",
      "source": [
        "BestData_.shape"
      ],
      "metadata": {
        "colab": {
          "base_uri": "https://localhost:8080/"
        },
        "id": "a6UE3B-wAw3p",
        "outputId": "6f5df281-6a34-4a45-b741-529b47255114"
      },
      "execution_count": 78,
      "outputs": [
        {
          "output_type": "execute_result",
          "data": {
            "text/plain": [
              "(1852, 116)"
            ]
          },
          "metadata": {},
          "execution_count": 78
        }
      ]
    },
    {
      "cell_type": "code",
      "source": [
        "import nltk\n",
        "nltk.download('stopwords')\n",
        "nltk.download('wordnet')\n",
        "from nltk.corpus import stopwords\n",
        "from string import punctuation\n",
        "stop = set(stopwords.words('english'))"
      ],
      "metadata": {
        "colab": {
          "base_uri": "https://localhost:8080/"
        },
        "id": "vY1vdhFd-scw",
        "outputId": "83c026e1-4187-4aa2-8450-8e6a1f442711"
      },
      "execution_count": 79,
      "outputs": [
        {
          "output_type": "stream",
          "name": "stderr",
          "text": [
            "[nltk_data] Downloading package stopwords to /root/nltk_data...\n",
            "[nltk_data]   Package stopwords is already up-to-date!\n",
            "[nltk_data] Downloading package wordnet to /root/nltk_data...\n",
            "[nltk_data]   Package wordnet is already up-to-date!\n"
          ]
        }
      ]
    },
    {
      "cell_type": "code",
      "source": [
        "import re\n",
        "\n",
        "def remove_stopwords(text):\n",
        "    return \" \".join([word for word in str(text).split() if word not in stop])\n",
        "\n",
        "def remove_punctuation(text):\n",
        "    return text.translate(str.maketrans('','', punctuation))\n",
        "\n",
        "def nospecial(text, remove_spaces=True):\n",
        "    #return re.sub('[^a-zA-Z0-9 ]', \" \", text)\n",
        "    return re.sub('[^a-zA-Z ]', \"\", text)\n",
        "\n",
        "def clean_text(text):\n",
        "    text = remove_stopwords(text)\n",
        "    text = remove_punctuation(text)\n",
        "    text = nospecial(text)\n",
        "    return text"
      ],
      "metadata": {
        "id": "zkjAZTgd-Xd9"
      },
      "execution_count": 80,
      "outputs": []
    },
    {
      "cell_type": "code",
      "source": [
        "# Here we get transform the documents into sentences for the word2vecmodel\n",
        "# we made a function such that later on when we make the submission, we don't need to write duplicate code\n",
        "def preprocess(df):\n",
        "    df['text'] = df['text'].apply(clean_text)\n",
        "    df['text'] = df.text.str.lower()\n",
        "    df['document_sentences'] = df.text.str.split('.') \n",
        "    df['tokenized_sentences'] = list(map(lambda sentences: list(map(nltk.word_tokenize, sentences)), df.document_sentences))  \n",
        "    df['tokenized_sentences'] = list(map(lambda sentences: list(filter(lambda lst: lst, sentences)), df.tokenized_sentences))"
      ],
      "metadata": {
        "id": "gQqM_8sq4Giq"
      },
      "execution_count": 81,
      "outputs": []
    },
    {
      "cell_type": "code",
      "source": [
        "preprocess(BestData_)\n",
        "preprocess(test_df)"
      ],
      "metadata": {
        "id": "YnZrqTxF_YZN"
      },
      "execution_count": 82,
      "outputs": []
    },
    {
      "cell_type": "code",
      "source": [
        "#Collecting a vocabulary\n",
        "voc = []\n",
        "for sentence in BestData_.tokenized_sentences:\n",
        "    voc.extend(sentence)\n",
        "\n",
        "print(\"Number of sentences: {}.\".format(len(voc)))\n",
        "print(\"Number of rows: {}.\".format(len(BestData_)))"
      ],
      "metadata": {
        "colab": {
          "base_uri": "https://localhost:8080/"
        },
        "id": "nzwiAC_Q6Og8",
        "outputId": "a65bb7f6-7016-464b-eefe-06889f8cf07f"
      },
      "execution_count": 83,
      "outputs": [
        {
          "output_type": "stream",
          "name": "stdout",
          "text": [
            "Number of sentences: 1852.\n",
            "Number of rows: 1852.\n"
          ]
        }
      ]
    },
    {
      "cell_type": "markdown",
      "source": [
        "Word2Vec model"
      ],
      "metadata": {
        "id": "foXHiQRaTbWT"
      }
    },
    {
      "cell_type": "code",
      "source": [
        "num_features = 260    \n",
        "min_word_count = 3\n",
        "num_workers = 4\n",
        "context = 8\n",
        "downsampling = 1e-3\n",
        "\n",
        "# Initialize and train the model\n",
        "W2Vmodel = Word2Vec(sentences=voc, sg=1, hs=0, workers=num_workers, size=num_features, min_count=min_word_count, window=context,\n",
        "                    sample=downsampling, negative=5, iter=10)"
      ],
      "metadata": {
        "id": "li2t6I6X9PkV"
      },
      "execution_count": 84,
      "outputs": []
    },
    {
      "cell_type": "code",
      "source": [
        "def sentence_vectors(model, sentence):\n",
        "    #Collecting all words in the text\n",
        "    words=np.concatenate(sentence)\n",
        "    #Collecting words that are known to the model\n",
        "    model_voc = set(model.wv.vocab.keys()) \n",
        "    sent_vector = np.zeros(model.vector_size, dtype=\"float32\")\n",
        "    # Use a counter variable for number of words in a text\n",
        "    nwords = 0\n",
        "    # Sum up all words vectors that are know to the model\n",
        "    for word in words:\n",
        "        if word in model_voc: \n",
        "            sent_vector += model[word]\n",
        "            nwords += 1.\n",
        "\n",
        "    # Now get the average\n",
        "    if nwords > 0:\n",
        "        sent_vector /= nwords\n",
        "    return sent_vector"
      ],
      "metadata": {
        "id": "hK7TFhT39sNa"
      },
      "execution_count": 85,
      "outputs": []
    },
    {
      "cell_type": "code",
      "source": [
        "BestData_['sentence_vectors'] = list(map(lambda sen_group: sentence_vectors(W2Vmodel, sen_group), BestData_.tokenized_sentences))\n",
        "test_df['sentence_vectors'] = list(map(lambda sen_group:sentence_vectors(W2Vmodel, sen_group), test_df.tokenized_sentences))"
      ],
      "metadata": {
        "id": "CYI5N0Wn9vJz"
      },
      "execution_count": 86,
      "outputs": []
    },
    {
      "cell_type": "code",
      "source": [
        "def vectors_to_feats(df, ndim):\n",
        "    index=[]\n",
        "    for i in range(ndim):\n",
        "        df[f'w2v_{i}'] = df['sentence_vectors'].apply(lambda x: x[i])\n",
        "        index.append(f'w2v_{i}')\n",
        "    return df[index]"
      ],
      "metadata": {
        "id": "J-kv1YLd-Jxq"
      },
      "execution_count": 87,
      "outputs": []
    },
    {
      "cell_type": "code",
      "source": [
        "X_train_Word2Vec = vectors_to_feats(BestData_, num_features)\n",
        "X_test_Word2Vec = vectors_to_feats(test_df, num_features)\n",
        "X_train_Word2Vec.head()"
      ],
      "metadata": {
        "colab": {
          "base_uri": "https://localhost:8080/",
          "height": 300
        },
        "id": "bUV354Ym-fNC",
        "outputId": "a599a029-5146-49a7-812d-df972cf1cc31"
      },
      "execution_count": 88,
      "outputs": [
        {
          "output_type": "execute_result",
          "data": {
            "text/plain": [
              "      w2v_0     w2v_1     w2v_2     w2v_3     w2v_4     w2v_5     w2v_6  \\\n",
              "0  0.003173  0.128905 -0.118254  0.262479 -0.004749 -0.052645 -0.094970   \n",
              "1 -0.030564  0.121755 -0.079511  0.211512 -0.044907  0.000815  0.009852   \n",
              "2 -0.001807  0.141777 -0.089917  0.261122  0.000465 -0.041252 -0.103108   \n",
              "4 -0.016178  0.163414 -0.071581  0.234290 -0.010092 -0.047484 -0.088076   \n",
              "5  0.044520  0.125536 -0.119950  0.267038 -0.024586 -0.058280 -0.124025   \n",
              "\n",
              "      w2v_7     w2v_8     w2v_9  ...   w2v_250   w2v_251   w2v_252   w2v_253  \\\n",
              "0  0.103198  0.015537  0.082369  ... -0.004693  0.023391  0.026549  0.040421   \n",
              "1  0.120524 -0.039306  0.082335  ...  0.005495  0.010279  0.089629  0.104352   \n",
              "2  0.133577  0.005212  0.112812  ...  0.018776  0.010208  0.022603  0.035391   \n",
              "4  0.141064  0.031039  0.106738  ...  0.022424  0.002443  0.000743  0.062824   \n",
              "5  0.055979  0.000779  0.074416  ... -0.024426  0.028028  0.019272  0.052202   \n",
              "\n",
              "    w2v_254   w2v_255   w2v_256   w2v_257   w2v_258   w2v_259  \n",
              "0 -0.135240  0.011942 -0.036080 -0.076764 -0.012867  0.070488  \n",
              "1 -0.154369 -0.007806 -0.033852 -0.043380 -0.009854  0.044631  \n",
              "2 -0.166990  0.056798 -0.049129 -0.060928 -0.006460  0.077968  \n",
              "4 -0.136703  0.039352 -0.026562 -0.072842  0.007232  0.083701  \n",
              "5 -0.148652  0.050712 -0.040292 -0.087453 -0.007603  0.072935  \n",
              "\n",
              "[5 rows x 260 columns]"
            ],
            "text/html": [
              "\n",
              "  <div id=\"df-69829e3f-8b68-4b19-9e26-a7f51c91307b\">\n",
              "    <div class=\"colab-df-container\">\n",
              "      <div>\n",
              "<style scoped>\n",
              "    .dataframe tbody tr th:only-of-type {\n",
              "        vertical-align: middle;\n",
              "    }\n",
              "\n",
              "    .dataframe tbody tr th {\n",
              "        vertical-align: top;\n",
              "    }\n",
              "\n",
              "    .dataframe thead th {\n",
              "        text-align: right;\n",
              "    }\n",
              "</style>\n",
              "<table border=\"1\" class=\"dataframe\">\n",
              "  <thead>\n",
              "    <tr style=\"text-align: right;\">\n",
              "      <th></th>\n",
              "      <th>w2v_0</th>\n",
              "      <th>w2v_1</th>\n",
              "      <th>w2v_2</th>\n",
              "      <th>w2v_3</th>\n",
              "      <th>w2v_4</th>\n",
              "      <th>w2v_5</th>\n",
              "      <th>w2v_6</th>\n",
              "      <th>w2v_7</th>\n",
              "      <th>w2v_8</th>\n",
              "      <th>w2v_9</th>\n",
              "      <th>...</th>\n",
              "      <th>w2v_250</th>\n",
              "      <th>w2v_251</th>\n",
              "      <th>w2v_252</th>\n",
              "      <th>w2v_253</th>\n",
              "      <th>w2v_254</th>\n",
              "      <th>w2v_255</th>\n",
              "      <th>w2v_256</th>\n",
              "      <th>w2v_257</th>\n",
              "      <th>w2v_258</th>\n",
              "      <th>w2v_259</th>\n",
              "    </tr>\n",
              "  </thead>\n",
              "  <tbody>\n",
              "    <tr>\n",
              "      <th>0</th>\n",
              "      <td>0.003173</td>\n",
              "      <td>0.128905</td>\n",
              "      <td>-0.118254</td>\n",
              "      <td>0.262479</td>\n",
              "      <td>-0.004749</td>\n",
              "      <td>-0.052645</td>\n",
              "      <td>-0.094970</td>\n",
              "      <td>0.103198</td>\n",
              "      <td>0.015537</td>\n",
              "      <td>0.082369</td>\n",
              "      <td>...</td>\n",
              "      <td>-0.004693</td>\n",
              "      <td>0.023391</td>\n",
              "      <td>0.026549</td>\n",
              "      <td>0.040421</td>\n",
              "      <td>-0.135240</td>\n",
              "      <td>0.011942</td>\n",
              "      <td>-0.036080</td>\n",
              "      <td>-0.076764</td>\n",
              "      <td>-0.012867</td>\n",
              "      <td>0.070488</td>\n",
              "    </tr>\n",
              "    <tr>\n",
              "      <th>1</th>\n",
              "      <td>-0.030564</td>\n",
              "      <td>0.121755</td>\n",
              "      <td>-0.079511</td>\n",
              "      <td>0.211512</td>\n",
              "      <td>-0.044907</td>\n",
              "      <td>0.000815</td>\n",
              "      <td>0.009852</td>\n",
              "      <td>0.120524</td>\n",
              "      <td>-0.039306</td>\n",
              "      <td>0.082335</td>\n",
              "      <td>...</td>\n",
              "      <td>0.005495</td>\n",
              "      <td>0.010279</td>\n",
              "      <td>0.089629</td>\n",
              "      <td>0.104352</td>\n",
              "      <td>-0.154369</td>\n",
              "      <td>-0.007806</td>\n",
              "      <td>-0.033852</td>\n",
              "      <td>-0.043380</td>\n",
              "      <td>-0.009854</td>\n",
              "      <td>0.044631</td>\n",
              "    </tr>\n",
              "    <tr>\n",
              "      <th>2</th>\n",
              "      <td>-0.001807</td>\n",
              "      <td>0.141777</td>\n",
              "      <td>-0.089917</td>\n",
              "      <td>0.261122</td>\n",
              "      <td>0.000465</td>\n",
              "      <td>-0.041252</td>\n",
              "      <td>-0.103108</td>\n",
              "      <td>0.133577</td>\n",
              "      <td>0.005212</td>\n",
              "      <td>0.112812</td>\n",
              "      <td>...</td>\n",
              "      <td>0.018776</td>\n",
              "      <td>0.010208</td>\n",
              "      <td>0.022603</td>\n",
              "      <td>0.035391</td>\n",
              "      <td>-0.166990</td>\n",
              "      <td>0.056798</td>\n",
              "      <td>-0.049129</td>\n",
              "      <td>-0.060928</td>\n",
              "      <td>-0.006460</td>\n",
              "      <td>0.077968</td>\n",
              "    </tr>\n",
              "    <tr>\n",
              "      <th>4</th>\n",
              "      <td>-0.016178</td>\n",
              "      <td>0.163414</td>\n",
              "      <td>-0.071581</td>\n",
              "      <td>0.234290</td>\n",
              "      <td>-0.010092</td>\n",
              "      <td>-0.047484</td>\n",
              "      <td>-0.088076</td>\n",
              "      <td>0.141064</td>\n",
              "      <td>0.031039</td>\n",
              "      <td>0.106738</td>\n",
              "      <td>...</td>\n",
              "      <td>0.022424</td>\n",
              "      <td>0.002443</td>\n",
              "      <td>0.000743</td>\n",
              "      <td>0.062824</td>\n",
              "      <td>-0.136703</td>\n",
              "      <td>0.039352</td>\n",
              "      <td>-0.026562</td>\n",
              "      <td>-0.072842</td>\n",
              "      <td>0.007232</td>\n",
              "      <td>0.083701</td>\n",
              "    </tr>\n",
              "    <tr>\n",
              "      <th>5</th>\n",
              "      <td>0.044520</td>\n",
              "      <td>0.125536</td>\n",
              "      <td>-0.119950</td>\n",
              "      <td>0.267038</td>\n",
              "      <td>-0.024586</td>\n",
              "      <td>-0.058280</td>\n",
              "      <td>-0.124025</td>\n",
              "      <td>0.055979</td>\n",
              "      <td>0.000779</td>\n",
              "      <td>0.074416</td>\n",
              "      <td>...</td>\n",
              "      <td>-0.024426</td>\n",
              "      <td>0.028028</td>\n",
              "      <td>0.019272</td>\n",
              "      <td>0.052202</td>\n",
              "      <td>-0.148652</td>\n",
              "      <td>0.050712</td>\n",
              "      <td>-0.040292</td>\n",
              "      <td>-0.087453</td>\n",
              "      <td>-0.007603</td>\n",
              "      <td>0.072935</td>\n",
              "    </tr>\n",
              "  </tbody>\n",
              "</table>\n",
              "<p>5 rows × 260 columns</p>\n",
              "</div>\n",
              "      <button class=\"colab-df-convert\" onclick=\"convertToInteractive('df-69829e3f-8b68-4b19-9e26-a7f51c91307b')\"\n",
              "              title=\"Convert this dataframe to an interactive table.\"\n",
              "              style=\"display:none;\">\n",
              "        \n",
              "  <svg xmlns=\"http://www.w3.org/2000/svg\" height=\"24px\"viewBox=\"0 0 24 24\"\n",
              "       width=\"24px\">\n",
              "    <path d=\"M0 0h24v24H0V0z\" fill=\"none\"/>\n",
              "    <path d=\"M18.56 5.44l.94 2.06.94-2.06 2.06-.94-2.06-.94-.94-2.06-.94 2.06-2.06.94zm-11 1L8.5 8.5l.94-2.06 2.06-.94-2.06-.94L8.5 2.5l-.94 2.06-2.06.94zm10 10l.94 2.06.94-2.06 2.06-.94-2.06-.94-.94-2.06-.94 2.06-2.06.94z\"/><path d=\"M17.41 7.96l-1.37-1.37c-.4-.4-.92-.59-1.43-.59-.52 0-1.04.2-1.43.59L10.3 9.45l-7.72 7.72c-.78.78-.78 2.05 0 2.83L4 21.41c.39.39.9.59 1.41.59.51 0 1.02-.2 1.41-.59l7.78-7.78 2.81-2.81c.8-.78.8-2.07 0-2.86zM5.41 20L4 18.59l7.72-7.72 1.47 1.35L5.41 20z\"/>\n",
              "  </svg>\n",
              "      </button>\n",
              "      \n",
              "  <style>\n",
              "    .colab-df-container {\n",
              "      display:flex;\n",
              "      flex-wrap:wrap;\n",
              "      gap: 12px;\n",
              "    }\n",
              "\n",
              "    .colab-df-convert {\n",
              "      background-color: #E8F0FE;\n",
              "      border: none;\n",
              "      border-radius: 50%;\n",
              "      cursor: pointer;\n",
              "      display: none;\n",
              "      fill: #1967D2;\n",
              "      height: 32px;\n",
              "      padding: 0 0 0 0;\n",
              "      width: 32px;\n",
              "    }\n",
              "\n",
              "    .colab-df-convert:hover {\n",
              "      background-color: #E2EBFA;\n",
              "      box-shadow: 0px 1px 2px rgba(60, 64, 67, 0.3), 0px 1px 3px 1px rgba(60, 64, 67, 0.15);\n",
              "      fill: #174EA6;\n",
              "    }\n",
              "\n",
              "    [theme=dark] .colab-df-convert {\n",
              "      background-color: #3B4455;\n",
              "      fill: #D2E3FC;\n",
              "    }\n",
              "\n",
              "    [theme=dark] .colab-df-convert:hover {\n",
              "      background-color: #434B5C;\n",
              "      box-shadow: 0px 1px 3px 1px rgba(0, 0, 0, 0.15);\n",
              "      filter: drop-shadow(0px 1px 2px rgba(0, 0, 0, 0.3));\n",
              "      fill: #FFFFFF;\n",
              "    }\n",
              "  </style>\n",
              "\n",
              "      <script>\n",
              "        const buttonEl =\n",
              "          document.querySelector('#df-69829e3f-8b68-4b19-9e26-a7f51c91307b button.colab-df-convert');\n",
              "        buttonEl.style.display =\n",
              "          google.colab.kernel.accessAllowed ? 'block' : 'none';\n",
              "\n",
              "        async function convertToInteractive(key) {\n",
              "          const element = document.querySelector('#df-69829e3f-8b68-4b19-9e26-a7f51c91307b');\n",
              "          const dataTable =\n",
              "            await google.colab.kernel.invokeFunction('convertToInteractive',\n",
              "                                                     [key], {});\n",
              "          if (!dataTable) return;\n",
              "\n",
              "          const docLinkHtml = 'Like what you see? Visit the ' +\n",
              "            '<a target=\"_blank\" href=https://colab.research.google.com/notebooks/data_table.ipynb>data table notebook</a>'\n",
              "            + ' to learn more about interactive tables.';\n",
              "          element.innerHTML = '';\n",
              "          dataTable['output_type'] = 'display_data';\n",
              "          await google.colab.output.renderOutput(dataTable, element);\n",
              "          const docLink = document.createElement('div');\n",
              "          docLink.innerHTML = docLinkHtml;\n",
              "          element.appendChild(docLink);\n",
              "        }\n",
              "      </script>\n",
              "    </div>\n",
              "  </div>\n",
              "  "
            ]
          },
          "metadata": {},
          "execution_count": 88
        }
      ]
    },
    {
      "cell_type": "code",
      "source": [
        "test_df.head()"
      ],
      "metadata": {
        "colab": {
          "base_uri": "https://localhost:8080/",
          "height": 803
        },
        "id": "-eo2xwmcCj5F",
        "outputId": "aa0c7d98-9ecc-447c-95d7-d7b46de174d3"
      },
      "execution_count": 89,
      "outputs": [
        {
          "output_type": "execute_result",
          "data": {
            "text/plain": [
              "      id  subreddit post_id sentence_range  \\\n",
              "0    896          7  7nu7as       [50, 55]   \n",
              "1  19059          1  680i6d        (5, 10)   \n",
              "2   7977          6  8eeu1t        (5, 10)   \n",
              "3   1214          6  8d28vu         [2, 7]   \n",
              "4   1965          7  7r1e85       [23, 28]   \n",
              "\n",
              "                                                text  label  confidence  \\\n",
              "0  its like that want not me i problem takes long...      0         0.8   \n",
              "1  i man front desk title hr customer service rep...      0         1.0   \n",
              "2  wed saving much money new housrits expensive c...      1         1.0   \n",
              "3  my ex used shoot back do want go you time matt...      1         0.5   \n",
              "4  i havent said anything yet im sure someone wou...      0         0.8   \n",
              "\n",
              "   social_timestamp  social_karma  syntax_ari  ...   w2v_250   w2v_251  \\\n",
              "0      1.514981e+09            22   -1.238793  ... -0.000369  0.030867   \n",
              "1      1.493348e+09             5    7.684583  ...  0.006137  0.009055   \n",
              "2      1.524517e+09            10    2.360408  ...  0.003384  0.025025   \n",
              "3      1.524018e+09             5    5.997000  ... -0.003733  0.029804   \n",
              "4      1.516200e+09           138    4.649418  ... -0.002733  0.020049   \n",
              "\n",
              "    w2v_252   w2v_253   w2v_254   w2v_255   w2v_256   w2v_257   w2v_258  \\\n",
              "0  0.041330  0.011793 -0.136843  0.019671 -0.042464 -0.083872 -0.018883   \n",
              "1  0.041854  0.064026 -0.157174  0.022251 -0.024587 -0.045205  0.013390   \n",
              "2  0.022793  0.048375 -0.160820  0.024898 -0.037973 -0.070018  0.004927   \n",
              "3  0.022355  0.049021 -0.144516  0.034653 -0.050572 -0.073677 -0.018213   \n",
              "4  0.023751  0.041738 -0.134371  0.044668 -0.039298 -0.066431 -0.020523   \n",
              "\n",
              "    w2v_259  \n",
              "0  0.072112  \n",
              "1  0.054857  \n",
              "2  0.079452  \n",
              "3  0.084307  \n",
              "4  0.077224  \n",
              "\n",
              "[5 rows x 379 columns]"
            ],
            "text/html": [
              "\n",
              "  <div id=\"df-868ba9f3-8b13-49c5-a393-4bde12e75b33\">\n",
              "    <div class=\"colab-df-container\">\n",
              "      <div>\n",
              "<style scoped>\n",
              "    .dataframe tbody tr th:only-of-type {\n",
              "        vertical-align: middle;\n",
              "    }\n",
              "\n",
              "    .dataframe tbody tr th {\n",
              "        vertical-align: top;\n",
              "    }\n",
              "\n",
              "    .dataframe thead th {\n",
              "        text-align: right;\n",
              "    }\n",
              "</style>\n",
              "<table border=\"1\" class=\"dataframe\">\n",
              "  <thead>\n",
              "    <tr style=\"text-align: right;\">\n",
              "      <th></th>\n",
              "      <th>id</th>\n",
              "      <th>subreddit</th>\n",
              "      <th>post_id</th>\n",
              "      <th>sentence_range</th>\n",
              "      <th>text</th>\n",
              "      <th>label</th>\n",
              "      <th>confidence</th>\n",
              "      <th>social_timestamp</th>\n",
              "      <th>social_karma</th>\n",
              "      <th>syntax_ari</th>\n",
              "      <th>...</th>\n",
              "      <th>w2v_250</th>\n",
              "      <th>w2v_251</th>\n",
              "      <th>w2v_252</th>\n",
              "      <th>w2v_253</th>\n",
              "      <th>w2v_254</th>\n",
              "      <th>w2v_255</th>\n",
              "      <th>w2v_256</th>\n",
              "      <th>w2v_257</th>\n",
              "      <th>w2v_258</th>\n",
              "      <th>w2v_259</th>\n",
              "    </tr>\n",
              "  </thead>\n",
              "  <tbody>\n",
              "    <tr>\n",
              "      <th>0</th>\n",
              "      <td>896</td>\n",
              "      <td>7</td>\n",
              "      <td>7nu7as</td>\n",
              "      <td>[50, 55]</td>\n",
              "      <td>its like that want not me i problem takes long...</td>\n",
              "      <td>0</td>\n",
              "      <td>0.8</td>\n",
              "      <td>1.514981e+09</td>\n",
              "      <td>22</td>\n",
              "      <td>-1.238793</td>\n",
              "      <td>...</td>\n",
              "      <td>-0.000369</td>\n",
              "      <td>0.030867</td>\n",
              "      <td>0.041330</td>\n",
              "      <td>0.011793</td>\n",
              "      <td>-0.136843</td>\n",
              "      <td>0.019671</td>\n",
              "      <td>-0.042464</td>\n",
              "      <td>-0.083872</td>\n",
              "      <td>-0.018883</td>\n",
              "      <td>0.072112</td>\n",
              "    </tr>\n",
              "    <tr>\n",
              "      <th>1</th>\n",
              "      <td>19059</td>\n",
              "      <td>1</td>\n",
              "      <td>680i6d</td>\n",
              "      <td>(5, 10)</td>\n",
              "      <td>i man front desk title hr customer service rep...</td>\n",
              "      <td>0</td>\n",
              "      <td>1.0</td>\n",
              "      <td>1.493348e+09</td>\n",
              "      <td>5</td>\n",
              "      <td>7.684583</td>\n",
              "      <td>...</td>\n",
              "      <td>0.006137</td>\n",
              "      <td>0.009055</td>\n",
              "      <td>0.041854</td>\n",
              "      <td>0.064026</td>\n",
              "      <td>-0.157174</td>\n",
              "      <td>0.022251</td>\n",
              "      <td>-0.024587</td>\n",
              "      <td>-0.045205</td>\n",
              "      <td>0.013390</td>\n",
              "      <td>0.054857</td>\n",
              "    </tr>\n",
              "    <tr>\n",
              "      <th>2</th>\n",
              "      <td>7977</td>\n",
              "      <td>6</td>\n",
              "      <td>8eeu1t</td>\n",
              "      <td>(5, 10)</td>\n",
              "      <td>wed saving much money new housrits expensive c...</td>\n",
              "      <td>1</td>\n",
              "      <td>1.0</td>\n",
              "      <td>1.524517e+09</td>\n",
              "      <td>10</td>\n",
              "      <td>2.360408</td>\n",
              "      <td>...</td>\n",
              "      <td>0.003384</td>\n",
              "      <td>0.025025</td>\n",
              "      <td>0.022793</td>\n",
              "      <td>0.048375</td>\n",
              "      <td>-0.160820</td>\n",
              "      <td>0.024898</td>\n",
              "      <td>-0.037973</td>\n",
              "      <td>-0.070018</td>\n",
              "      <td>0.004927</td>\n",
              "      <td>0.079452</td>\n",
              "    </tr>\n",
              "    <tr>\n",
              "      <th>3</th>\n",
              "      <td>1214</td>\n",
              "      <td>6</td>\n",
              "      <td>8d28vu</td>\n",
              "      <td>[2, 7]</td>\n",
              "      <td>my ex used shoot back do want go you time matt...</td>\n",
              "      <td>1</td>\n",
              "      <td>0.5</td>\n",
              "      <td>1.524018e+09</td>\n",
              "      <td>5</td>\n",
              "      <td>5.997000</td>\n",
              "      <td>...</td>\n",
              "      <td>-0.003733</td>\n",
              "      <td>0.029804</td>\n",
              "      <td>0.022355</td>\n",
              "      <td>0.049021</td>\n",
              "      <td>-0.144516</td>\n",
              "      <td>0.034653</td>\n",
              "      <td>-0.050572</td>\n",
              "      <td>-0.073677</td>\n",
              "      <td>-0.018213</td>\n",
              "      <td>0.084307</td>\n",
              "    </tr>\n",
              "    <tr>\n",
              "      <th>4</th>\n",
              "      <td>1965</td>\n",
              "      <td>7</td>\n",
              "      <td>7r1e85</td>\n",
              "      <td>[23, 28]</td>\n",
              "      <td>i havent said anything yet im sure someone wou...</td>\n",
              "      <td>0</td>\n",
              "      <td>0.8</td>\n",
              "      <td>1.516200e+09</td>\n",
              "      <td>138</td>\n",
              "      <td>4.649418</td>\n",
              "      <td>...</td>\n",
              "      <td>-0.002733</td>\n",
              "      <td>0.020049</td>\n",
              "      <td>0.023751</td>\n",
              "      <td>0.041738</td>\n",
              "      <td>-0.134371</td>\n",
              "      <td>0.044668</td>\n",
              "      <td>-0.039298</td>\n",
              "      <td>-0.066431</td>\n",
              "      <td>-0.020523</td>\n",
              "      <td>0.077224</td>\n",
              "    </tr>\n",
              "  </tbody>\n",
              "</table>\n",
              "<p>5 rows × 379 columns</p>\n",
              "</div>\n",
              "      <button class=\"colab-df-convert\" onclick=\"convertToInteractive('df-868ba9f3-8b13-49c5-a393-4bde12e75b33')\"\n",
              "              title=\"Convert this dataframe to an interactive table.\"\n",
              "              style=\"display:none;\">\n",
              "        \n",
              "  <svg xmlns=\"http://www.w3.org/2000/svg\" height=\"24px\"viewBox=\"0 0 24 24\"\n",
              "       width=\"24px\">\n",
              "    <path d=\"M0 0h24v24H0V0z\" fill=\"none\"/>\n",
              "    <path d=\"M18.56 5.44l.94 2.06.94-2.06 2.06-.94-2.06-.94-.94-2.06-.94 2.06-2.06.94zm-11 1L8.5 8.5l.94-2.06 2.06-.94-2.06-.94L8.5 2.5l-.94 2.06-2.06.94zm10 10l.94 2.06.94-2.06 2.06-.94-2.06-.94-.94-2.06-.94 2.06-2.06.94z\"/><path d=\"M17.41 7.96l-1.37-1.37c-.4-.4-.92-.59-1.43-.59-.52 0-1.04.2-1.43.59L10.3 9.45l-7.72 7.72c-.78.78-.78 2.05 0 2.83L4 21.41c.39.39.9.59 1.41.59.51 0 1.02-.2 1.41-.59l7.78-7.78 2.81-2.81c.8-.78.8-2.07 0-2.86zM5.41 20L4 18.59l7.72-7.72 1.47 1.35L5.41 20z\"/>\n",
              "  </svg>\n",
              "      </button>\n",
              "      \n",
              "  <style>\n",
              "    .colab-df-container {\n",
              "      display:flex;\n",
              "      flex-wrap:wrap;\n",
              "      gap: 12px;\n",
              "    }\n",
              "\n",
              "    .colab-df-convert {\n",
              "      background-color: #E8F0FE;\n",
              "      border: none;\n",
              "      border-radius: 50%;\n",
              "      cursor: pointer;\n",
              "      display: none;\n",
              "      fill: #1967D2;\n",
              "      height: 32px;\n",
              "      padding: 0 0 0 0;\n",
              "      width: 32px;\n",
              "    }\n",
              "\n",
              "    .colab-df-convert:hover {\n",
              "      background-color: #E2EBFA;\n",
              "      box-shadow: 0px 1px 2px rgba(60, 64, 67, 0.3), 0px 1px 3px 1px rgba(60, 64, 67, 0.15);\n",
              "      fill: #174EA6;\n",
              "    }\n",
              "\n",
              "    [theme=dark] .colab-df-convert {\n",
              "      background-color: #3B4455;\n",
              "      fill: #D2E3FC;\n",
              "    }\n",
              "\n",
              "    [theme=dark] .colab-df-convert:hover {\n",
              "      background-color: #434B5C;\n",
              "      box-shadow: 0px 1px 3px 1px rgba(0, 0, 0, 0.15);\n",
              "      filter: drop-shadow(0px 1px 2px rgba(0, 0, 0, 0.3));\n",
              "      fill: #FFFFFF;\n",
              "    }\n",
              "  </style>\n",
              "\n",
              "      <script>\n",
              "        const buttonEl =\n",
              "          document.querySelector('#df-868ba9f3-8b13-49c5-a393-4bde12e75b33 button.colab-df-convert');\n",
              "        buttonEl.style.display =\n",
              "          google.colab.kernel.accessAllowed ? 'block' : 'none';\n",
              "\n",
              "        async function convertToInteractive(key) {\n",
              "          const element = document.querySelector('#df-868ba9f3-8b13-49c5-a393-4bde12e75b33');\n",
              "          const dataTable =\n",
              "            await google.colab.kernel.invokeFunction('convertToInteractive',\n",
              "                                                     [key], {});\n",
              "          if (!dataTable) return;\n",
              "\n",
              "          const docLinkHtml = 'Like what you see? Visit the ' +\n",
              "            '<a target=\"_blank\" href=https://colab.research.google.com/notebooks/data_table.ipynb>data table notebook</a>'\n",
              "            + ' to learn more about interactive tables.';\n",
              "          element.innerHTML = '';\n",
              "          dataTable['output_type'] = 'display_data';\n",
              "          await google.colab.output.renderOutput(dataTable, element);\n",
              "          const docLink = document.createElement('div');\n",
              "          docLink.innerHTML = docLinkHtml;\n",
              "          element.appendChild(docLink);\n",
              "        }\n",
              "      </script>\n",
              "    </div>\n",
              "  </div>\n",
              "  "
            ]
          },
          "metadata": {},
          "execution_count": 89
        }
      ]
    },
    {
      "cell_type": "code",
      "source": [
        "y_train = BestData_['label']\n",
        "X_train = BestData_.drop('label', axis=1)"
      ],
      "metadata": {
        "id": "GDeuaM7UtkvU"
      },
      "execution_count": 90,
      "outputs": []
    },
    {
      "cell_type": "code",
      "source": [
        "y_test = test_df['label']\n",
        "X_test = test_df.drop('label', axis=1)"
      ],
      "metadata": {
        "id": "91hqFn7lGzEu"
      },
      "execution_count": 91,
      "outputs": []
    },
    {
      "cell_type": "code",
      "source": [
        "X_train = X_train.select_dtypes(include=np.number)"
      ],
      "metadata": {
        "id": "axvj9p8pF7fl"
      },
      "execution_count": 92,
      "outputs": []
    },
    {
      "cell_type": "code",
      "source": [
        "X_test = X_test.select_dtypes(include=np.number)"
      ],
      "metadata": {
        "id": "X0nqZwcKKraT"
      },
      "execution_count": 93,
      "outputs": []
    },
    {
      "cell_type": "code",
      "source": [
        "X_train.shape"
      ],
      "metadata": {
        "colab": {
          "base_uri": "https://localhost:8080/"
        },
        "id": "-s-apfCRF_-G",
        "outputId": "e69ef608-6339-48bb-8299-14b77d3613ca"
      },
      "execution_count": 94,
      "outputs": [
        {
          "output_type": "execute_result",
          "data": {
            "text/plain": [
              "(1852, 372)"
            ]
          },
          "metadata": {},
          "execution_count": 94
        }
      ]
    },
    {
      "cell_type": "code",
      "source": [
        "def best_model(X_train, y_train, X_test, y_test, scaler, algo):\n",
        "        \n",
        "    X_train = np.asarray(X_train)\n",
        "    X_test = np.asarray(X_test)\n",
        "    y_train = np.asarray(y_train)\n",
        "    y_test = np.asarray(y_test)\n",
        "    \n",
        "    X_train = scaler.fit_transform(X_train)\n",
        "    X_test = scaler.transform(X_test)\n",
        "    \n",
        "    model = algo()\n",
        "    model.fit(X_train, y_train)\n",
        "    predictions = model.predict(X_test)\n",
        "    \n",
        "    training_score = model.score(X_train, y_train)\n",
        "    acc = accuracy_score(y_test, predictions)\n",
        "    con = confusion_matrix(y_test, predictions)\n",
        "    report = classification_report(y_test, predictions)\n",
        "    print(f'Training Score: {training_score}')\n",
        "    print(f'Accuracy Score: {acc}')\n",
        "    print(\" \")\n",
        "    print('Confusion Matrix:')\n",
        "    print(con)\n",
        "    print(\" \")\n",
        "    print('Classification Report:')\n",
        "    print(report)"
      ],
      "metadata": {
        "id": "AQ5qNmGdGoI2"
      },
      "execution_count": 95,
      "outputs": []
    },
    {
      "cell_type": "markdown",
      "source": [
        "## Pearson correlation method"
      ],
      "metadata": {
        "id": "_MSiO54xt3Az"
      }
    },
    {
      "cell_type": "code",
      "source": [
        "def correlation(df, thres): #Dataset and threshold value\n",
        "    col_corr = set()\n",
        "    corr_matrix = df.corr(method='pearson')\n",
        "    for i in range(len(corr_matrix.columns)):\n",
        "        for j in range(i):\n",
        "            if abs(corr_matrix.iloc[i, j]) >= thres:\n",
        "                colname = corr_matrix.columns[i]\n",
        "                col_corr.add(colname)\n",
        "    return col_corr"
      ],
      "metadata": {
        "id": "pNmSyNTqtlZz"
      },
      "execution_count": 96,
      "outputs": []
    },
    {
      "cell_type": "code",
      "source": [
        "corr_features = correlation(X_train, 0.4)"
      ],
      "metadata": {
        "id": "XUU5yMphtlXL"
      },
      "execution_count": 97,
      "outputs": []
    },
    {
      "cell_type": "code",
      "source": [
        "len(corr_features)"
      ],
      "metadata": {
        "colab": {
          "base_uri": "https://localhost:8080/"
        },
        "id": "OdIfevMX5ycy",
        "outputId": "636997c5-dd25-481b-db53-b01a84947628"
      },
      "execution_count": 98,
      "outputs": [
        {
          "output_type": "execute_result",
          "data": {
            "text/plain": [
              "318"
            ]
          },
          "metadata": {},
          "execution_count": 98
        }
      ]
    },
    {
      "cell_type": "code",
      "source": [
        "X_train[corr_features]"
      ],
      "metadata": {
        "colab": {
          "base_uri": "https://localhost:8080/",
          "height": 488
        },
        "id": "uqhvLjcctlUz",
        "outputId": "cacbe547-55c4-4b71-90ca-1e844e898d04"
      },
      "execution_count": 99,
      "outputs": [
        {
          "output_type": "execute_result",
          "data": {
            "text/plain": [
              "       w2v_130   w2v_227   w2v_197    w2v_27  lex_liwc_sad  lex_liwc_compare  \\\n",
              "0    -0.038151 -0.119718 -0.014569 -0.004361          3.45              3.45   \n",
              "1    -0.057654 -0.111745 -0.037917 -0.106176          0.00              0.92   \n",
              "2    -0.081805 -0.159862 -0.020075 -0.027441          0.00              0.60   \n",
              "4    -0.078459 -0.111018 -0.043634 -0.046061          0.00              2.25   \n",
              "5    -0.066888 -0.121554 -0.011407  0.002064          1.90              1.90   \n",
              "...        ...       ...       ...       ...           ...               ...   \n",
              "2829 -0.060178 -0.139220 -0.081851 -0.075838          0.00              1.37   \n",
              "2831 -0.039099 -0.184861 -0.036498 -0.036347          0.00              2.34   \n",
              "2833 -0.137558 -0.175234 -0.044070 -0.054841          0.00              3.37   \n",
              "2834  0.006332 -0.099916 -0.000078  0.039198          0.74              1.48   \n",
              "2835 -0.071375 -0.077872 -0.083156 -0.117438          0.00              0.00   \n",
              "\n",
              "       w2v_150    w2v_26   w2v_195    w2v_33  ...  lex_liwc_male    w2v_72  \\\n",
              "0     0.053435 -0.034159  0.108103 -0.046108  ...           1.72  0.020171   \n",
              "1     0.083382  0.019920  0.028784 -0.021019  ...           0.00 -0.067131   \n",
              "2     0.069524 -0.024404  0.094877 -0.051865  ...           2.40  0.033587   \n",
              "4     0.048093 -0.007980  0.118721 -0.071185  ...           4.49  0.016476   \n",
              "5     0.063207 -0.023015  0.077023 -0.054806  ...           3.81  0.047702   \n",
              "...        ...       ...       ...       ...  ...            ...       ...   \n",
              "2829  0.065495  0.011564  0.073734 -0.058904  ...           2.74 -0.026014   \n",
              "2831  0.085172 -0.003509  0.088524 -0.031893  ...           3.91  0.041479   \n",
              "2833  0.064208 -0.017452  0.054925 -0.100853  ...           0.00  0.016077   \n",
              "2834  0.044645 -0.031155  0.082935 -0.038867  ...           0.00  0.047659   \n",
              "2835  0.082379  0.032631  0.035009 -0.084815  ...           0.00 -0.119927   \n",
              "\n",
              "      lex_liwc_pronoun   w2v_101   w2v_257  lex_liwc_motion    w2v_62  \\\n",
              "0                16.38 -0.152407 -0.076764             0.86  0.084807   \n",
              "1                11.93 -0.176179 -0.043380             2.75  0.039518   \n",
              "2                25.15 -0.111016 -0.060928             4.79  0.052161   \n",
              "4                15.73 -0.139653 -0.072842             2.25  0.042353   \n",
              "5                20.95 -0.097298 -0.087453             1.90  0.117833   \n",
              "...                ...       ...       ...              ...       ...   \n",
              "2829              9.59 -0.176015 -0.048600             4.11  0.009607   \n",
              "2831             24.22 -0.144738 -0.063916             1.56  0.023782   \n",
              "2833             25.84 -0.113434 -0.053835             2.25  0.051823   \n",
              "2834             16.30 -0.160245 -0.125373             2.22  0.110643   \n",
              "2835             12.69 -0.216269  0.025051             0.00  0.011167   \n",
              "\n",
              "        w2v_89  syntax_fk_grade   w2v_165  \n",
              "0    -0.148932         3.253573 -0.020984  \n",
              "1    -0.180112         8.828316 -0.117880  \n",
              "2    -0.116627         7.841667 -0.041650  \n",
              "4    -0.135613         7.910952 -0.026384  \n",
              "5    -0.121939         4.338429 -0.040228  \n",
              "...        ...              ...       ...  \n",
              "2829 -0.112606         5.993333 -0.025882  \n",
              "2831 -0.089811        10.250250 -0.033352  \n",
              "2833 -0.104987         0.254444 -0.042467  \n",
              "2834 -0.155598         8.640664 -0.026782  \n",
              "2835 -0.185681         9.951524 -0.122531  \n",
              "\n",
              "[1852 rows x 318 columns]"
            ],
            "text/html": [
              "\n",
              "  <div id=\"df-b04bcb3c-d631-4270-ab78-79c9f9d9ac0c\">\n",
              "    <div class=\"colab-df-container\">\n",
              "      <div>\n",
              "<style scoped>\n",
              "    .dataframe tbody tr th:only-of-type {\n",
              "        vertical-align: middle;\n",
              "    }\n",
              "\n",
              "    .dataframe tbody tr th {\n",
              "        vertical-align: top;\n",
              "    }\n",
              "\n",
              "    .dataframe thead th {\n",
              "        text-align: right;\n",
              "    }\n",
              "</style>\n",
              "<table border=\"1\" class=\"dataframe\">\n",
              "  <thead>\n",
              "    <tr style=\"text-align: right;\">\n",
              "      <th></th>\n",
              "      <th>w2v_130</th>\n",
              "      <th>w2v_227</th>\n",
              "      <th>w2v_197</th>\n",
              "      <th>w2v_27</th>\n",
              "      <th>lex_liwc_sad</th>\n",
              "      <th>lex_liwc_compare</th>\n",
              "      <th>w2v_150</th>\n",
              "      <th>w2v_26</th>\n",
              "      <th>w2v_195</th>\n",
              "      <th>w2v_33</th>\n",
              "      <th>...</th>\n",
              "      <th>lex_liwc_male</th>\n",
              "      <th>w2v_72</th>\n",
              "      <th>lex_liwc_pronoun</th>\n",
              "      <th>w2v_101</th>\n",
              "      <th>w2v_257</th>\n",
              "      <th>lex_liwc_motion</th>\n",
              "      <th>w2v_62</th>\n",
              "      <th>w2v_89</th>\n",
              "      <th>syntax_fk_grade</th>\n",
              "      <th>w2v_165</th>\n",
              "    </tr>\n",
              "  </thead>\n",
              "  <tbody>\n",
              "    <tr>\n",
              "      <th>0</th>\n",
              "      <td>-0.038151</td>\n",
              "      <td>-0.119718</td>\n",
              "      <td>-0.014569</td>\n",
              "      <td>-0.004361</td>\n",
              "      <td>3.45</td>\n",
              "      <td>3.45</td>\n",
              "      <td>0.053435</td>\n",
              "      <td>-0.034159</td>\n",
              "      <td>0.108103</td>\n",
              "      <td>-0.046108</td>\n",
              "      <td>...</td>\n",
              "      <td>1.72</td>\n",
              "      <td>0.020171</td>\n",
              "      <td>16.38</td>\n",
              "      <td>-0.152407</td>\n",
              "      <td>-0.076764</td>\n",
              "      <td>0.86</td>\n",
              "      <td>0.084807</td>\n",
              "      <td>-0.148932</td>\n",
              "      <td>3.253573</td>\n",
              "      <td>-0.020984</td>\n",
              "    </tr>\n",
              "    <tr>\n",
              "      <th>1</th>\n",
              "      <td>-0.057654</td>\n",
              "      <td>-0.111745</td>\n",
              "      <td>-0.037917</td>\n",
              "      <td>-0.106176</td>\n",
              "      <td>0.00</td>\n",
              "      <td>0.92</td>\n",
              "      <td>0.083382</td>\n",
              "      <td>0.019920</td>\n",
              "      <td>0.028784</td>\n",
              "      <td>-0.021019</td>\n",
              "      <td>...</td>\n",
              "      <td>0.00</td>\n",
              "      <td>-0.067131</td>\n",
              "      <td>11.93</td>\n",
              "      <td>-0.176179</td>\n",
              "      <td>-0.043380</td>\n",
              "      <td>2.75</td>\n",
              "      <td>0.039518</td>\n",
              "      <td>-0.180112</td>\n",
              "      <td>8.828316</td>\n",
              "      <td>-0.117880</td>\n",
              "    </tr>\n",
              "    <tr>\n",
              "      <th>2</th>\n",
              "      <td>-0.081805</td>\n",
              "      <td>-0.159862</td>\n",
              "      <td>-0.020075</td>\n",
              "      <td>-0.027441</td>\n",
              "      <td>0.00</td>\n",
              "      <td>0.60</td>\n",
              "      <td>0.069524</td>\n",
              "      <td>-0.024404</td>\n",
              "      <td>0.094877</td>\n",
              "      <td>-0.051865</td>\n",
              "      <td>...</td>\n",
              "      <td>2.40</td>\n",
              "      <td>0.033587</td>\n",
              "      <td>25.15</td>\n",
              "      <td>-0.111016</td>\n",
              "      <td>-0.060928</td>\n",
              "      <td>4.79</td>\n",
              "      <td>0.052161</td>\n",
              "      <td>-0.116627</td>\n",
              "      <td>7.841667</td>\n",
              "      <td>-0.041650</td>\n",
              "    </tr>\n",
              "    <tr>\n",
              "      <th>4</th>\n",
              "      <td>-0.078459</td>\n",
              "      <td>-0.111018</td>\n",
              "      <td>-0.043634</td>\n",
              "      <td>-0.046061</td>\n",
              "      <td>0.00</td>\n",
              "      <td>2.25</td>\n",
              "      <td>0.048093</td>\n",
              "      <td>-0.007980</td>\n",
              "      <td>0.118721</td>\n",
              "      <td>-0.071185</td>\n",
              "      <td>...</td>\n",
              "      <td>4.49</td>\n",
              "      <td>0.016476</td>\n",
              "      <td>15.73</td>\n",
              "      <td>-0.139653</td>\n",
              "      <td>-0.072842</td>\n",
              "      <td>2.25</td>\n",
              "      <td>0.042353</td>\n",
              "      <td>-0.135613</td>\n",
              "      <td>7.910952</td>\n",
              "      <td>-0.026384</td>\n",
              "    </tr>\n",
              "    <tr>\n",
              "      <th>5</th>\n",
              "      <td>-0.066888</td>\n",
              "      <td>-0.121554</td>\n",
              "      <td>-0.011407</td>\n",
              "      <td>0.002064</td>\n",
              "      <td>1.90</td>\n",
              "      <td>1.90</td>\n",
              "      <td>0.063207</td>\n",
              "      <td>-0.023015</td>\n",
              "      <td>0.077023</td>\n",
              "      <td>-0.054806</td>\n",
              "      <td>...</td>\n",
              "      <td>3.81</td>\n",
              "      <td>0.047702</td>\n",
              "      <td>20.95</td>\n",
              "      <td>-0.097298</td>\n",
              "      <td>-0.087453</td>\n",
              "      <td>1.90</td>\n",
              "      <td>0.117833</td>\n",
              "      <td>-0.121939</td>\n",
              "      <td>4.338429</td>\n",
              "      <td>-0.040228</td>\n",
              "    </tr>\n",
              "    <tr>\n",
              "      <th>...</th>\n",
              "      <td>...</td>\n",
              "      <td>...</td>\n",
              "      <td>...</td>\n",
              "      <td>...</td>\n",
              "      <td>...</td>\n",
              "      <td>...</td>\n",
              "      <td>...</td>\n",
              "      <td>...</td>\n",
              "      <td>...</td>\n",
              "      <td>...</td>\n",
              "      <td>...</td>\n",
              "      <td>...</td>\n",
              "      <td>...</td>\n",
              "      <td>...</td>\n",
              "      <td>...</td>\n",
              "      <td>...</td>\n",
              "      <td>...</td>\n",
              "      <td>...</td>\n",
              "      <td>...</td>\n",
              "      <td>...</td>\n",
              "      <td>...</td>\n",
              "    </tr>\n",
              "    <tr>\n",
              "      <th>2829</th>\n",
              "      <td>-0.060178</td>\n",
              "      <td>-0.139220</td>\n",
              "      <td>-0.081851</td>\n",
              "      <td>-0.075838</td>\n",
              "      <td>0.00</td>\n",
              "      <td>1.37</td>\n",
              "      <td>0.065495</td>\n",
              "      <td>0.011564</td>\n",
              "      <td>0.073734</td>\n",
              "      <td>-0.058904</td>\n",
              "      <td>...</td>\n",
              "      <td>2.74</td>\n",
              "      <td>-0.026014</td>\n",
              "      <td>9.59</td>\n",
              "      <td>-0.176015</td>\n",
              "      <td>-0.048600</td>\n",
              "      <td>4.11</td>\n",
              "      <td>0.009607</td>\n",
              "      <td>-0.112606</td>\n",
              "      <td>5.993333</td>\n",
              "      <td>-0.025882</td>\n",
              "    </tr>\n",
              "    <tr>\n",
              "      <th>2831</th>\n",
              "      <td>-0.039099</td>\n",
              "      <td>-0.184861</td>\n",
              "      <td>-0.036498</td>\n",
              "      <td>-0.036347</td>\n",
              "      <td>0.00</td>\n",
              "      <td>2.34</td>\n",
              "      <td>0.085172</td>\n",
              "      <td>-0.003509</td>\n",
              "      <td>0.088524</td>\n",
              "      <td>-0.031893</td>\n",
              "      <td>...</td>\n",
              "      <td>3.91</td>\n",
              "      <td>0.041479</td>\n",
              "      <td>24.22</td>\n",
              "      <td>-0.144738</td>\n",
              "      <td>-0.063916</td>\n",
              "      <td>1.56</td>\n",
              "      <td>0.023782</td>\n",
              "      <td>-0.089811</td>\n",
              "      <td>10.250250</td>\n",
              "      <td>-0.033352</td>\n",
              "    </tr>\n",
              "    <tr>\n",
              "      <th>2833</th>\n",
              "      <td>-0.137558</td>\n",
              "      <td>-0.175234</td>\n",
              "      <td>-0.044070</td>\n",
              "      <td>-0.054841</td>\n",
              "      <td>0.00</td>\n",
              "      <td>3.37</td>\n",
              "      <td>0.064208</td>\n",
              "      <td>-0.017452</td>\n",
              "      <td>0.054925</td>\n",
              "      <td>-0.100853</td>\n",
              "      <td>...</td>\n",
              "      <td>0.00</td>\n",
              "      <td>0.016077</td>\n",
              "      <td>25.84</td>\n",
              "      <td>-0.113434</td>\n",
              "      <td>-0.053835</td>\n",
              "      <td>2.25</td>\n",
              "      <td>0.051823</td>\n",
              "      <td>-0.104987</td>\n",
              "      <td>0.254444</td>\n",
              "      <td>-0.042467</td>\n",
              "    </tr>\n",
              "    <tr>\n",
              "      <th>2834</th>\n",
              "      <td>0.006332</td>\n",
              "      <td>-0.099916</td>\n",
              "      <td>-0.000078</td>\n",
              "      <td>0.039198</td>\n",
              "      <td>0.74</td>\n",
              "      <td>1.48</td>\n",
              "      <td>0.044645</td>\n",
              "      <td>-0.031155</td>\n",
              "      <td>0.082935</td>\n",
              "      <td>-0.038867</td>\n",
              "      <td>...</td>\n",
              "      <td>0.00</td>\n",
              "      <td>0.047659</td>\n",
              "      <td>16.30</td>\n",
              "      <td>-0.160245</td>\n",
              "      <td>-0.125373</td>\n",
              "      <td>2.22</td>\n",
              "      <td>0.110643</td>\n",
              "      <td>-0.155598</td>\n",
              "      <td>8.640664</td>\n",
              "      <td>-0.026782</td>\n",
              "    </tr>\n",
              "    <tr>\n",
              "      <th>2835</th>\n",
              "      <td>-0.071375</td>\n",
              "      <td>-0.077872</td>\n",
              "      <td>-0.083156</td>\n",
              "      <td>-0.117438</td>\n",
              "      <td>0.00</td>\n",
              "      <td>0.00</td>\n",
              "      <td>0.082379</td>\n",
              "      <td>0.032631</td>\n",
              "      <td>0.035009</td>\n",
              "      <td>-0.084815</td>\n",
              "      <td>...</td>\n",
              "      <td>0.00</td>\n",
              "      <td>-0.119927</td>\n",
              "      <td>12.69</td>\n",
              "      <td>-0.216269</td>\n",
              "      <td>0.025051</td>\n",
              "      <td>0.00</td>\n",
              "      <td>0.011167</td>\n",
              "      <td>-0.185681</td>\n",
              "      <td>9.951524</td>\n",
              "      <td>-0.122531</td>\n",
              "    </tr>\n",
              "  </tbody>\n",
              "</table>\n",
              "<p>1852 rows × 318 columns</p>\n",
              "</div>\n",
              "      <button class=\"colab-df-convert\" onclick=\"convertToInteractive('df-b04bcb3c-d631-4270-ab78-79c9f9d9ac0c')\"\n",
              "              title=\"Convert this dataframe to an interactive table.\"\n",
              "              style=\"display:none;\">\n",
              "        \n",
              "  <svg xmlns=\"http://www.w3.org/2000/svg\" height=\"24px\"viewBox=\"0 0 24 24\"\n",
              "       width=\"24px\">\n",
              "    <path d=\"M0 0h24v24H0V0z\" fill=\"none\"/>\n",
              "    <path d=\"M18.56 5.44l.94 2.06.94-2.06 2.06-.94-2.06-.94-.94-2.06-.94 2.06-2.06.94zm-11 1L8.5 8.5l.94-2.06 2.06-.94-2.06-.94L8.5 2.5l-.94 2.06-2.06.94zm10 10l.94 2.06.94-2.06 2.06-.94-2.06-.94-.94-2.06-.94 2.06-2.06.94z\"/><path d=\"M17.41 7.96l-1.37-1.37c-.4-.4-.92-.59-1.43-.59-.52 0-1.04.2-1.43.59L10.3 9.45l-7.72 7.72c-.78.78-.78 2.05 0 2.83L4 21.41c.39.39.9.59 1.41.59.51 0 1.02-.2 1.41-.59l7.78-7.78 2.81-2.81c.8-.78.8-2.07 0-2.86zM5.41 20L4 18.59l7.72-7.72 1.47 1.35L5.41 20z\"/>\n",
              "  </svg>\n",
              "      </button>\n",
              "      \n",
              "  <style>\n",
              "    .colab-df-container {\n",
              "      display:flex;\n",
              "      flex-wrap:wrap;\n",
              "      gap: 12px;\n",
              "    }\n",
              "\n",
              "    .colab-df-convert {\n",
              "      background-color: #E8F0FE;\n",
              "      border: none;\n",
              "      border-radius: 50%;\n",
              "      cursor: pointer;\n",
              "      display: none;\n",
              "      fill: #1967D2;\n",
              "      height: 32px;\n",
              "      padding: 0 0 0 0;\n",
              "      width: 32px;\n",
              "    }\n",
              "\n",
              "    .colab-df-convert:hover {\n",
              "      background-color: #E2EBFA;\n",
              "      box-shadow: 0px 1px 2px rgba(60, 64, 67, 0.3), 0px 1px 3px 1px rgba(60, 64, 67, 0.15);\n",
              "      fill: #174EA6;\n",
              "    }\n",
              "\n",
              "    [theme=dark] .colab-df-convert {\n",
              "      background-color: #3B4455;\n",
              "      fill: #D2E3FC;\n",
              "    }\n",
              "\n",
              "    [theme=dark] .colab-df-convert:hover {\n",
              "      background-color: #434B5C;\n",
              "      box-shadow: 0px 1px 3px 1px rgba(0, 0, 0, 0.15);\n",
              "      filter: drop-shadow(0px 1px 2px rgba(0, 0, 0, 0.3));\n",
              "      fill: #FFFFFF;\n",
              "    }\n",
              "  </style>\n",
              "\n",
              "      <script>\n",
              "        const buttonEl =\n",
              "          document.querySelector('#df-b04bcb3c-d631-4270-ab78-79c9f9d9ac0c button.colab-df-convert');\n",
              "        buttonEl.style.display =\n",
              "          google.colab.kernel.accessAllowed ? 'block' : 'none';\n",
              "\n",
              "        async function convertToInteractive(key) {\n",
              "          const element = document.querySelector('#df-b04bcb3c-d631-4270-ab78-79c9f9d9ac0c');\n",
              "          const dataTable =\n",
              "            await google.colab.kernel.invokeFunction('convertToInteractive',\n",
              "                                                     [key], {});\n",
              "          if (!dataTable) return;\n",
              "\n",
              "          const docLinkHtml = 'Like what you see? Visit the ' +\n",
              "            '<a target=\"_blank\" href=https://colab.research.google.com/notebooks/data_table.ipynb>data table notebook</a>'\n",
              "            + ' to learn more about interactive tables.';\n",
              "          element.innerHTML = '';\n",
              "          dataTable['output_type'] = 'display_data';\n",
              "          await google.colab.output.renderOutput(dataTable, element);\n",
              "          const docLink = document.createElement('div');\n",
              "          docLink.innerHTML = docLinkHtml;\n",
              "          element.appendChild(docLink);\n",
              "        }\n",
              "      </script>\n",
              "    </div>\n",
              "  </div>\n",
              "  "
            ]
          },
          "metadata": {},
          "execution_count": 99
        }
      ]
    },
    {
      "cell_type": "code",
      "source": [
        "minmax = MinMaxScaler()"
      ],
      "metadata": {
        "id": "VEgzm1CMJIV7"
      },
      "execution_count": 100,
      "outputs": []
    },
    {
      "cell_type": "code",
      "source": [
        "best_model(X_train[corr_features], y_train, X_test[corr_features], y_test, minmax, LogisticRegression)"
      ],
      "metadata": {
        "colab": {
          "base_uri": "https://localhost:8080/"
        },
        "id": "k4_oz8ElU9U0",
        "outputId": "dce5c09d-aff9-4ad9-b331-b8bde5976b8b"
      },
      "execution_count": 101,
      "outputs": [
        {
          "output_type": "stream",
          "name": "stdout",
          "text": [
            "Training Score: 0.8617710583153347\n",
            "Accuracy Score: 0.772027972027972\n",
            " \n",
            "Confusion Matrix:\n",
            "[[241 105]\n",
            " [ 58 311]]\n",
            " \n",
            "Classification Report:\n",
            "              precision    recall  f1-score   support\n",
            "\n",
            "           0       0.81      0.70      0.75       346\n",
            "           1       0.75      0.84      0.79       369\n",
            "\n",
            "    accuracy                           0.77       715\n",
            "   macro avg       0.78      0.77      0.77       715\n",
            "weighted avg       0.78      0.77      0.77       715\n",
            "\n"
          ]
        }
      ]
    },
    {
      "cell_type": "markdown",
      "source": [
        "# Until here is the implementation of the article."
      ],
      "metadata": {
        "id": "WzHudBbAF-yn"
      }
    },
    {
      "cell_type": "markdown",
      "source": [
        "## Now we will use cross-validation to evaluate the model"
      ],
      "metadata": {
        "id": "rZ2R4JLtYnA0"
      }
    },
    {
      "cell_type": "code",
      "source": [
        "from sklearn.ensemble import GradientBoostingClassifier, RandomForestClassifier\n",
        "from xgboost import XGBClassifier\n",
        "from sklearn.tree import DecisionTreeClassifier\n",
        "from sklearn.linear_model import LogisticRegression\n",
        "from sklearn.neighbors import KNeighborsClassifier\n",
        "from sklearn.svm import SVC\n",
        "from sklearn.naive_bayes import GaussianNB\n",
        "from sklearn.model_selection import cross_val_score\n",
        "from sklearn.model_selection import RepeatedStratifiedKFold\n",
        "from sklearn.preprocessing import StandardScaler\n",
        "from sklearn.pipeline import make_pipeline\n",
        "\n",
        "import warnings\n",
        "warnings.filterwarnings(action='ignore', category=UserWarning)"
      ],
      "metadata": {
        "id": "fszcXHB2luoG"
      },
      "execution_count": 102,
      "outputs": []
    },
    {
      "cell_type": "code",
      "source": [
        "x_full_data = pd.concat((X_train, X_test), sort=False).reset_index(drop=True)\n",
        "y_full_data = pd.concat((y_train, y_test), sort=False).reset_index(drop=True)"
      ],
      "metadata": {
        "id": "cuqq9FvDluqn"
      },
      "execution_count": 103,
      "outputs": []
    },
    {
      "cell_type": "code",
      "source": [
        "def get_models():\n",
        "  \n",
        "    models = dict()\n",
        "    models['lr'] = make_pipeline(StandardScaler(),LogisticRegression(solver = 'saga', C = 1.0))\n",
        "    models['svm'] = make_pipeline(StandardScaler(),SVC())\n",
        "    models['xgboost'] = XGBClassifier(n_estimators = 17, max_depth = 2)\n",
        "    \n",
        "    return models"
      ],
      "metadata": {
        "id": "zcACA6RYCAzX"
      },
      "execution_count": 104,
      "outputs": []
    },
    {
      "cell_type": "code",
      "source": [
        "# evaluate a given model using cross-validation\n",
        "def evaluate_model(model, X, y):\n",
        "\tcv = RepeatedStratifiedKFold(n_splits=7, n_repeats=3, random_state=42)\n",
        "\tscores = cross_val_score(model, X, y, scoring='f1', cv=cv, n_jobs=-1, error_score='raise')\n",
        "\treturn scores"
      ],
      "metadata": {
        "id": "h4Z1JfTZCDl_"
      },
      "execution_count": 105,
      "outputs": []
    },
    {
      "cell_type": "code",
      "source": [
        "import matplotlib.pyplot as plt\n",
        "%matplotlib inline\n",
        "from numpy import mean\n",
        "from numpy import std\n",
        "\n",
        "models = get_models()\n",
        "\n",
        "# evaluate the models and store results\n",
        "results, names = list(), list()\n",
        "for name, model in models.items():\n",
        "\tscores = evaluate_model(model, x_full_data, y_full_data)\n",
        "\tresults.append(scores)\n",
        "\tnames.append(name)\n",
        "\tprint('> Model: %s F1 score is %.2f, with a standard deviation of (%.2f)' % (name, scores.mean(), std(scores)))\n",
        "# plot model performance for comparison\n",
        "plt.boxplot(results, labels=names, showmeans=True)\n",
        "plt.show()"
      ],
      "metadata": {
        "colab": {
          "base_uri": "https://localhost:8080/",
          "height": 319
        },
        "id": "mLl08NFDCFSu",
        "outputId": "f51cd960-b9d8-4406-f2c6-fbf684fa960b"
      },
      "execution_count": 106,
      "outputs": [
        {
          "output_type": "stream",
          "name": "stdout",
          "text": [
            "> Model: lr F1 score is 0.83, with a standard deviation of (0.01)\n",
            "> Model: svm F1 score is 0.83, with a standard deviation of (0.02)\n",
            "> Model: xgboost F1 score is 0.82, with a standard deviation of (0.02)\n"
          ]
        },
        {
          "output_type": "display_data",
          "data": {
            "text/plain": [
              "<Figure size 432x288 with 1 Axes>"
            ],
            "image/png": "[encoded data removed]"
          },
          "metadata": {
            "needs_background": "light"
          }
        }
      ]
    },
    {
      "cell_type": "code",
      "source": [
        ""
      ],
      "metadata": {
        "id": "k89PI7dSCHFu"
      },
      "execution_count": 106,
      "outputs": []
    }
  ]
}