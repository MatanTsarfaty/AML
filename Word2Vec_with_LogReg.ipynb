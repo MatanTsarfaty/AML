{
  "nbformat": 4,
  "nbformat_minor": 0,
  "metadata": {
    "colab": {
      "name": "Word2Vec_with_LogReg.ipynb",
      "provenance": [],
      "collapsed_sections": [],
      "include_colab_link": true
    },
    "kernelspec": {
      "name": "python3",
      "display_name": "Python 3"
    },
    "language_info": {
      "name": "python"
    }
  },
  "cells": [
    {
      "cell_type": "markdown",
      "metadata": {
        "id": "view-in-github",
        "colab_type": "text"
      },
      "source": [
        "<a href=\"https://colab.research.google.com/github/MatanTsarfaty/AML/blob/main/Word2Vec_with_LogReg.ipynb\" target=\"_parent\"><img src=\"https://colab.research.google.com/assets/colab-badge.svg\" alt=\"Open In Colab\"/></a>"
      ]
    },
    {
      "cell_type": "markdown",
      "source": [
        "Word2Vec: https://www.kaggle.com/code/vladislavkisin/word2vec-in-supervised-nlp-tasks-shortcut/notebook"
      ],
      "metadata": {
        "id": "YRnkgz2z-3dg"
      }
    },
    {
      "cell_type": "code",
      "source": [
        "\n"
      ],
      "metadata": {
        "id": "f-ceFs35WUnt"
      },
      "execution_count": 106,
      "outputs": []
    },
    {
      "cell_type": "code",
      "source": [
        "##data_dir = '/content/drive/My Drive/Advance ML/Final Project/'\n",
        "test_csv = 'https://raw.githubusercontent.com/MatanTsarfaty/AML/main/Copy%20of%20dreaddit-test.csv'\n",
        "train_csv = 'https://raw.githubusercontent.com/MatanTsarfaty/AML/main/Copy%20of%20dreaddit-train.csv'"
      ],
      "metadata": {
        "id": "zQxTKQTQWW_s"
      },
      "execution_count": 107,
      "outputs": []
    },
    {
      "cell_type": "code",
      "execution_count": 108,
      "metadata": {
        "id": "8qOsS60kV6rj"
      },
      "outputs": [],
      "source": [
        "import pandas as pd\n",
        "import numpy as np\n",
        "import plotly.express as px \n",
        "import matplotlib.pyplot as plt \n",
        "from sklearn.preprocessing import LabelEncoder, MinMaxScaler, StandardScaler, Normalizer\n",
        "from sklearn.feature_selection import SelectKBest, chi2, RFE, VarianceThreshold, mutual_info_classif, SelectKBest"
      ]
    },
    {
      "cell_type": "code",
      "source": [
        "import re\n",
        "import nltk\n",
        "nltk.download('punkt')\n",
        "import warnings\n",
        "warnings.filterwarnings(\"ignore\")"
      ],
      "metadata": {
        "colab": {
          "base_uri": "https://localhost:8080/"
        },
        "id": "Fg104qpI49ee",
        "outputId": "97c5b8d8-9cdc-4c50-a927-c74c525767d1"
      },
      "execution_count": 109,
      "outputs": [
        {
          "output_type": "stream",
          "name": "stderr",
          "text": [
            "[nltk_data] Downloading package punkt to /root/nltk_data...\n",
            "[nltk_data]   Package punkt is already up-to-date!\n"
          ]
        }
      ]
    },
    {
      "cell_type": "code",
      "source": [
        "from sklearn.model_selection import train_test_split\n",
        "from sklearn.linear_model import LogisticRegression\n",
        "from sklearn.neighbors import KNeighborsClassifier\n",
        "from sklearn.tree import DecisionTreeClassifier\n",
        "from sklearn.ensemble import RandomForestClassifier\n",
        "from xgboost import XGBClassifier\n",
        "from sklearn.metrics import accuracy_score, classification_report, confusion_matrix\n",
        "from gensim.models import word2vec, Word2Vec"
      ],
      "metadata": {
        "id": "Tg3PVUr3yg6F"
      },
      "execution_count": 110,
      "outputs": []
    },
    {
      "cell_type": "code",
      "source": [
        "train_df = pd.read_csv(train_csv)\n",
        "test_df = pd.read_csv(test_csv)"
      ],
      "metadata": {
        "id": "c_Xd0q9HrCki"
      },
      "execution_count": 111,
      "outputs": []
    },
    {
      "cell_type": "code",
      "source": [
        "train_df['label'].value_counts().plot(kind='bar')"
      ],
      "metadata": {
        "colab": {
          "base_uri": "https://localhost:8080/",
          "height": 280
        },
        "id": "39H9PIQ6qcqa",
        "outputId": "8dcf3467-1f76-4476-c22d-98fccf40e4b2"
      },
      "execution_count": 112,
      "outputs": [
        {
          "output_type": "execute_result",
          "data": {
            "text/plain": [
              "<matplotlib.axes._subplots.AxesSubplot at 0x7fbf73bd7750>"
            ]
          },
          "metadata": {},
          "execution_count": 112
        },
        {
          "output_type": "display_data",
          "data": {
            "text/plain": [
              "<Figure size 432x288 with 1 Axes>"
            ],
            "image/png": "[encoded data removed]"
          },
          "metadata": {
            "needs_background": "light"
          }
        }
      ]
    },
    {
      "cell_type": "code",
      "source": [
        "train_df.head()"
      ],
      "metadata": {
        "id": "iZHipymlWBS4",
        "colab": {
          "base_uri": "https://localhost:8080/",
          "height": 647
        },
        "outputId": "e6a05477-ca19-4764-e388-7de17c83b26e"
      },
      "execution_count": 113,
      "outputs": [
        {
          "output_type": "execute_result",
          "data": {
            "text/plain": [
              "          subreddit post_id sentence_range  \\\n",
              "0              ptsd  8601tu       (15, 20)   \n",
              "1        assistance  8lbrx9         (0, 5)   \n",
              "2              ptsd  9ch1zh       (15, 20)   \n",
              "3     relationships  7rorpp        [5, 10]   \n",
              "4  survivorsofabuse  9p2gbc         [0, 5]   \n",
              "\n",
              "                                                text     id  label  \\\n",
              "0  He said he had not felt that way before, sugge...  33181      1   \n",
              "1  Hey there r/assistance, Not sure if this is th...   2606      0   \n",
              "2  My mom then hit me with the newspaper and it s...  38816      1   \n",
              "3  until i met my new boyfriend, he is amazing, h...    239      1   \n",
              "4  October is Domestic Violence Awareness Month a...   1421      1   \n",
              "\n",
              "   confidence  social_timestamp  social_karma  syntax_ari  ...  \\\n",
              "0         0.8        1521614353             5    1.806818  ...   \n",
              "1         1.0        1527009817             4    9.429737  ...   \n",
              "2         0.8        1535935605             2    7.769821  ...   \n",
              "3         0.6        1516429555             0    2.667798  ...   \n",
              "4         0.8        1539809005            24    7.554238  ...   \n",
              "\n",
              "   lex_dal_min_pleasantness  lex_dal_min_activation  lex_dal_min_imagery  \\\n",
              "0                     1.000                  1.1250                  1.0   \n",
              "1                     1.125                  1.0000                  1.0   \n",
              "2                     1.000                  1.1429                  1.0   \n",
              "3                     1.000                  1.1250                  1.0   \n",
              "4                     1.000                  1.1250                  1.0   \n",
              "\n",
              "   lex_dal_avg_activation  lex_dal_avg_imagery  lex_dal_avg_pleasantness  \\\n",
              "0                 1.77000              1.52211                   1.89556   \n",
              "1                 1.69586              1.62045                   1.88919   \n",
              "2                 1.83088              1.58108                   1.85828   \n",
              "3                 1.75356              1.52114                   1.98848   \n",
              "4                 1.77644              1.64872                   1.81456   \n",
              "\n",
              "   social_upvote_ratio  social_num_comments  syntax_fk_grade  sentiment  \n",
              "0                 0.86                    1         3.253573  -0.002742  \n",
              "1                 0.65                    2         8.828316   0.292857  \n",
              "2                 0.67                    0         7.841667   0.011894  \n",
              "3                 0.50                    5         4.104027   0.141671  \n",
              "4                 1.00                    1         7.910952  -0.204167  \n",
              "\n",
              "[5 rows x 116 columns]"
            ],
            "text/html": [
              "\n",
              "  <div id=\"df-15c0e2c5-c98d-4f1f-85e1-34738fd2ea7d\">\n",
              "    <div class=\"colab-df-container\">\n",
              "      <div>\n",
              "<style scoped>\n",
              "    .dataframe tbody tr th:only-of-type {\n",
              "        vertical-align: middle;\n",
              "    }\n",
              "\n",
              "    .dataframe tbody tr th {\n",
              "        vertical-align: top;\n",
              "    }\n",
              "\n",
              "    .dataframe thead th {\n",
              "        text-align: right;\n",
              "    }\n",
              "</style>\n",
              "<table border=\"1\" class=\"dataframe\">\n",
              "  <thead>\n",
              "    <tr style=\"text-align: right;\">\n",
              "      <th></th>\n",
              "      <th>subreddit</th>\n",
              "      <th>post_id</th>\n",
              "      <th>sentence_range</th>\n",
              "      <th>text</th>\n",
              "      <th>id</th>\n",
              "      <th>label</th>\n",
              "      <th>confidence</th>\n",
              "      <th>social_timestamp</th>\n",
              "      <th>social_karma</th>\n",
              "      <th>syntax_ari</th>\n",
              "      <th>...</th>\n",
              "      <th>lex_dal_min_pleasantness</th>\n",
              "      <th>lex_dal_min_activation</th>\n",
              "      <th>lex_dal_min_imagery</th>\n",
              "      <th>lex_dal_avg_activation</th>\n",
              "      <th>lex_dal_avg_imagery</th>\n",
              "      <th>lex_dal_avg_pleasantness</th>\n",
              "      <th>social_upvote_ratio</th>\n",
              "      <th>social_num_comments</th>\n",
              "      <th>syntax_fk_grade</th>\n",
              "      <th>sentiment</th>\n",
              "    </tr>\n",
              "  </thead>\n",
              "  <tbody>\n",
              "    <tr>\n",
              "      <th>0</th>\n",
              "      <td>ptsd</td>\n",
              "      <td>8601tu</td>\n",
              "      <td>(15, 20)</td>\n",
              "      <td>He said he had not felt that way before, sugge...</td>\n",
              "      <td>33181</td>\n",
              "      <td>1</td>\n",
              "      <td>0.8</td>\n",
              "      <td>1521614353</td>\n",
              "      <td>5</td>\n",
              "      <td>1.806818</td>\n",
              "      <td>...</td>\n",
              "      <td>1.000</td>\n",
              "      <td>1.1250</td>\n",
              "      <td>1.0</td>\n",
              "      <td>1.77000</td>\n",
              "      <td>1.52211</td>\n",
              "      <td>1.89556</td>\n",
              "      <td>0.86</td>\n",
              "      <td>1</td>\n",
              "      <td>3.253573</td>\n",
              "      <td>-0.002742</td>\n",
              "    </tr>\n",
              "    <tr>\n",
              "      <th>1</th>\n",
              "      <td>assistance</td>\n",
              "      <td>8lbrx9</td>\n",
              "      <td>(0, 5)</td>\n",
              "      <td>Hey there r/assistance, Not sure if this is th...</td>\n",
              "      <td>2606</td>\n",
              "      <td>0</td>\n",
              "      <td>1.0</td>\n",
              "      <td>1527009817</td>\n",
              "      <td>4</td>\n",
              "      <td>9.429737</td>\n",
              "      <td>...</td>\n",
              "      <td>1.125</td>\n",
              "      <td>1.0000</td>\n",
              "      <td>1.0</td>\n",
              "      <td>1.69586</td>\n",
              "      <td>1.62045</td>\n",
              "      <td>1.88919</td>\n",
              "      <td>0.65</td>\n",
              "      <td>2</td>\n",
              "      <td>8.828316</td>\n",
              "      <td>0.292857</td>\n",
              "    </tr>\n",
              "    <tr>\n",
              "      <th>2</th>\n",
              "      <td>ptsd</td>\n",
              "      <td>9ch1zh</td>\n",
              "      <td>(15, 20)</td>\n",
              "      <td>My mom then hit me with the newspaper and it s...</td>\n",
              "      <td>38816</td>\n",
              "      <td>1</td>\n",
              "      <td>0.8</td>\n",
              "      <td>1535935605</td>\n",
              "      <td>2</td>\n",
              "      <td>7.769821</td>\n",
              "      <td>...</td>\n",
              "      <td>1.000</td>\n",
              "      <td>1.1429</td>\n",
              "      <td>1.0</td>\n",
              "      <td>1.83088</td>\n",
              "      <td>1.58108</td>\n",
              "      <td>1.85828</td>\n",
              "      <td>0.67</td>\n",
              "      <td>0</td>\n",
              "      <td>7.841667</td>\n",
              "      <td>0.011894</td>\n",
              "    </tr>\n",
              "    <tr>\n",
              "      <th>3</th>\n",
              "      <td>relationships</td>\n",
              "      <td>7rorpp</td>\n",
              "      <td>[5, 10]</td>\n",
              "      <td>until i met my new boyfriend, he is amazing, h...</td>\n",
              "      <td>239</td>\n",
              "      <td>1</td>\n",
              "      <td>0.6</td>\n",
              "      <td>1516429555</td>\n",
              "      <td>0</td>\n",
              "      <td>2.667798</td>\n",
              "      <td>...</td>\n",
              "      <td>1.000</td>\n",
              "      <td>1.1250</td>\n",
              "      <td>1.0</td>\n",
              "      <td>1.75356</td>\n",
              "      <td>1.52114</td>\n",
              "      <td>1.98848</td>\n",
              "      <td>0.50</td>\n",
              "      <td>5</td>\n",
              "      <td>4.104027</td>\n",
              "      <td>0.141671</td>\n",
              "    </tr>\n",
              "    <tr>\n",
              "      <th>4</th>\n",
              "      <td>survivorsofabuse</td>\n",
              "      <td>9p2gbc</td>\n",
              "      <td>[0, 5]</td>\n",
              "      <td>October is Domestic Violence Awareness Month a...</td>\n",
              "      <td>1421</td>\n",
              "      <td>1</td>\n",
              "      <td>0.8</td>\n",
              "      <td>1539809005</td>\n",
              "      <td>24</td>\n",
              "      <td>7.554238</td>\n",
              "      <td>...</td>\n",
              "      <td>1.000</td>\n",
              "      <td>1.1250</td>\n",
              "      <td>1.0</td>\n",
              "      <td>1.77644</td>\n",
              "      <td>1.64872</td>\n",
              "      <td>1.81456</td>\n",
              "      <td>1.00</td>\n",
              "      <td>1</td>\n",
              "      <td>7.910952</td>\n",
              "      <td>-0.204167</td>\n",
              "    </tr>\n",
              "  </tbody>\n",
              "</table>\n",
              "<p>5 rows × 116 columns</p>\n",
              "</div>\n",
              "      <button class=\"colab-df-convert\" onclick=\"convertToInteractive('df-15c0e2c5-c98d-4f1f-85e1-34738fd2ea7d')\"\n",
              "              title=\"Convert this dataframe to an interactive table.\"\n",
              "              style=\"display:none;\">\n",
              "        \n",
              "  <svg xmlns=\"http://www.w3.org/2000/svg\" height=\"24px\"viewBox=\"0 0 24 24\"\n",
              "       width=\"24px\">\n",
              "    <path d=\"M0 0h24v24H0V0z\" fill=\"none\"/>\n",
              "    <path d=\"M18.56 5.44l.94 2.06.94-2.06 2.06-.94-2.06-.94-.94-2.06-.94 2.06-2.06.94zm-11 1L8.5 8.5l.94-2.06 2.06-.94-2.06-.94L8.5 2.5l-.94 2.06-2.06.94zm10 10l.94 2.06.94-2.06 2.06-.94-2.06-.94-.94-2.06-.94 2.06-2.06.94z\"/><path d=\"M17.41 7.96l-1.37-1.37c-.4-.4-.92-.59-1.43-.59-.52 0-1.04.2-1.43.59L10.3 9.45l-7.72 7.72c-.78.78-.78 2.05 0 2.83L4 21.41c.39.39.9.59 1.41.59.51 0 1.02-.2 1.41-.59l7.78-7.78 2.81-2.81c.8-.78.8-2.07 0-2.86zM5.41 20L4 18.59l7.72-7.72 1.47 1.35L5.41 20z\"/>\n",
              "  </svg>\n",
              "      </button>\n",
              "      \n",
              "  <style>\n",
              "    .colab-df-container {\n",
              "      display:flex;\n",
              "      flex-wrap:wrap;\n",
              "      gap: 12px;\n",
              "    }\n",
              "\n",
              "    .colab-df-convert {\n",
              "      background-color: #E8F0FE;\n",
              "      border: none;\n",
              "      border-radius: 50%;\n",
              "      cursor: pointer;\n",
              "      display: none;\n",
              "      fill: #1967D2;\n",
              "      height: 32px;\n",
              "      padding: 0 0 0 0;\n",
              "      width: 32px;\n",
              "    }\n",
              "\n",
              "    .colab-df-convert:hover {\n",
              "      background-color: #E2EBFA;\n",
              "      box-shadow: 0px 1px 2px rgba(60, 64, 67, 0.3), 0px 1px 3px 1px rgba(60, 64, 67, 0.15);\n",
              "      fill: #174EA6;\n",
              "    }\n",
              "\n",
              "    [theme=dark] .colab-df-convert {\n",
              "      background-color: #3B4455;\n",
              "      fill: #D2E3FC;\n",
              "    }\n",
              "\n",
              "    [theme=dark] .colab-df-convert:hover {\n",
              "      background-color: #434B5C;\n",
              "      box-shadow: 0px 1px 3px 1px rgba(0, 0, 0, 0.15);\n",
              "      filter: drop-shadow(0px 1px 2px rgba(0, 0, 0, 0.3));\n",
              "      fill: #FFFFFF;\n",
              "    }\n",
              "  </style>\n",
              "\n",
              "      <script>\n",
              "        const buttonEl =\n",
              "          document.querySelector('#df-15c0e2c5-c98d-4f1f-85e1-34738fd2ea7d button.colab-df-convert');\n",
              "        buttonEl.style.display =\n",
              "          google.colab.kernel.accessAllowed ? 'block' : 'none';\n",
              "\n",
              "        async function convertToInteractive(key) {\n",
              "          const element = document.querySelector('#df-15c0e2c5-c98d-4f1f-85e1-34738fd2ea7d');\n",
              "          const dataTable =\n",
              "            await google.colab.kernel.invokeFunction('convertToInteractive',\n",
              "                                                     [key], {});\n",
              "          if (!dataTable) return;\n",
              "\n",
              "          const docLinkHtml = 'Like what you see? Visit the ' +\n",
              "            '<a target=\"_blank\" href=https://colab.research.google.com/notebooks/data_table.ipynb>data table notebook</a>'\n",
              "            + ' to learn more about interactive tables.';\n",
              "          element.innerHTML = '';\n",
              "          dataTable['output_type'] = 'display_data';\n",
              "          await google.colab.output.renderOutput(dataTable, element);\n",
              "          const docLink = document.createElement('div');\n",
              "          docLink.innerHTML = docLinkHtml;\n",
              "          element.appendChild(docLink);\n",
              "        }\n",
              "      </script>\n",
              "    </div>\n",
              "  </div>\n",
              "  "
            ]
          },
          "metadata": {},
          "execution_count": 113
        }
      ]
    },
    {
      "cell_type": "code",
      "source": [
        "values = train_df['subreddit'].value_counts()\n",
        "labels = train_df['subreddit'].value_counts().index\n",
        "\n",
        "fig = px.pie(train_df, names=labels, values=values)\n",
        "fig.update_layout(title='Subreddits distribution')\n",
        "fig.update_traces(hovertemplate='%{label}: %{value}')\n",
        "fig.show()"
      ],
      "metadata": {
        "colab": {
          "base_uri": "https://localhost:8080/",
          "height": 542
        },
        "id": "Obh-Y1Y7q3hA",
        "outputId": "52edd134-77df-4137-a0bc-4a1377d98abd"
      },
      "execution_count": 114,
      "outputs": [
        {
          "output_type": "display_data",
          "data": {
            "text/html": [
              "<html>\n",
              "<head><meta charset=\"utf-8\" /></head>\n",
              "<body>\n",
              "    <div>            <script src=\"https://cdnjs.cloudflare.com/ajax/libs/mathjax/2.7.5/MathJax.js?config=TeX-AMS-MML_SVG\"></script><script type=\"text/javascript\">if (window.MathJax) {MathJax.Hub.Config({SVG: {font: \"STIX-Web\"}});}</script>                <script type=\"text/javascript\">window.PlotlyConfig = {MathJaxConfig: 'local'};</script>\n",
              "        <script src=\"https://cdn.plot.ly/plotly-2.8.3.min.js\"></script>                <div id=\"230e11b3-97d4-4e93-94d8-9b4cfffb9993\" class=\"plotly-graph-div\" style=\"height:525px; width:100%;\"></div>            <script type=\"text/javascript\">                                    window.PLOTLYENV=window.PLOTLYENV || {};                                    if (document.getElementById(\"230e11b3-97d4-4e93-94d8-9b4cfffb9993\")) {                    Plotly.newPlot(                        \"230e11b3-97d4-4e93-94d8-9b4cfffb9993\",                        [{\"domain\":{\"x\":[0.0,1.0],\"y\":[0.0,1.0]},\"hovertemplate\":\"%{label}: %{value}\",\"labels\":[\"ptsd\",\"relationships\",\"anxiety\",\"domesticviolence\",\"assistance\",\"survivorsofabuse\",\"homeless\",\"almosthomeless\",\"stress\",\"food_pantry\"],\"legendgroup\":\"\",\"name\":\"\",\"showlegend\":true,\"values\":[584,552,503,316,289,245,168,80,64,37],\"type\":\"pie\"}],                        {\"template\":{\"data\":{\"bar\":[{\"error_x\":{\"color\":\"#2a3f5f\"},\"error_y\":{\"color\":\"#2a3f5f\"},\"marker\":{\"line\":{\"color\":\"#E5ECF6\",\"width\":0.5},\"pattern\":{\"fillmode\":\"overlay\",\"size\":10,\"solidity\":0.2}},\"type\":\"bar\"}],\"barpolar\":[{\"marker\":{\"line\":{\"color\":\"#E5ECF6\",\"width\":0.5},\"pattern\":{\"fillmode\":\"overlay\",\"size\":10,\"solidity\":0.2}},\"type\":\"barpolar\"}],\"carpet\":[{\"aaxis\":{\"endlinecolor\":\"#2a3f5f\",\"gridcolor\":\"white\",\"linecolor\":\"white\",\"minorgridcolor\":\"white\",\"startlinecolor\":\"#2a3f5f\"},\"baxis\":{\"endlinecolor\":\"#2a3f5f\",\"gridcolor\":\"white\",\"linecolor\":\"white\",\"minorgridcolor\":\"white\",\"startlinecolor\":\"#2a3f5f\"},\"type\":\"carpet\"}],\"choropleth\":[{\"colorbar\":{\"outlinewidth\":0,\"ticks\":\"\"},\"type\":\"choropleth\"}],\"contour\":[{\"colorbar\":{\"outlinewidth\":0,\"ticks\":\"\"},\"colorscale\":[[0.0,\"#0d0887\"],[0.1111111111111111,\"#46039f\"],[0.2222222222222222,\"#7201a8\"],[0.3333333333333333,\"#9c179e\"],[0.4444444444444444,\"#bd3786\"],[0.5555555555555556,\"#d8576b\"],[0.6666666666666666,\"#ed7953\"],[0.7777777777777778,\"#fb9f3a\"],[0.8888888888888888,\"#fdca26\"],[1.0,\"#f0f921\"]],\"type\":\"contour\"}],\"contourcarpet\":[{\"colorbar\":{\"outlinewidth\":0,\"ticks\":\"\"},\"type\":\"contourcarpet\"}],\"heatmap\":[{\"colorbar\":{\"outlinewidth\":0,\"ticks\":\"\"},\"colorscale\":[[0.0,\"#0d0887\"],[0.1111111111111111,\"#46039f\"],[0.2222222222222222,\"#7201a8\"],[0.3333333333333333,\"#9c179e\"],[0.4444444444444444,\"#bd3786\"],[0.5555555555555556,\"#d8576b\"],[0.6666666666666666,\"#ed7953\"],[0.7777777777777778,\"#fb9f3a\"],[0.8888888888888888,\"#fdca26\"],[1.0,\"#f0f921\"]],\"type\":\"heatmap\"}],\"heatmapgl\":[{\"colorbar\":{\"outlinewidth\":0,\"ticks\":\"\"},\"colorscale\":[[0.0,\"#0d0887\"],[0.1111111111111111,\"#46039f\"],[0.2222222222222222,\"#7201a8\"],[0.3333333333333333,\"#9c179e\"],[0.4444444444444444,\"#bd3786\"],[0.5555555555555556,\"#d8576b\"],[0.6666666666666666,\"#ed7953\"],[0.7777777777777778,\"#fb9f3a\"],[0.8888888888888888,\"#fdca26\"],[1.0,\"#f0f921\"]],\"type\":\"heatmapgl\"}],\"histogram\":[{\"marker\":{\"pattern\":{\"fillmode\":\"overlay\",\"size\":10,\"solidity\":0.2}},\"type\":\"histogram\"}],\"histogram2d\":[{\"colorbar\":{\"outlinewidth\":0,\"ticks\":\"\"},\"colorscale\":[[0.0,\"#0d0887\"],[0.1111111111111111,\"#46039f\"],[0.2222222222222222,\"#7201a8\"],[0.3333333333333333,\"#9c179e\"],[0.4444444444444444,\"#bd3786\"],[0.5555555555555556,\"#d8576b\"],[0.6666666666666666,\"#ed7953\"],[0.7777777777777778,\"#fb9f3a\"],[0.8888888888888888,\"#fdca26\"],[1.0,\"#f0f921\"]],\"type\":\"histogram2d\"}],\"histogram2dcontour\":[{\"colorbar\":{\"outlinewidth\":0,\"ticks\":\"\"},\"colorscale\":[[0.0,\"#0d0887\"],[0.1111111111111111,\"#46039f\"],[0.2222222222222222,\"#7201a8\"],[0.3333333333333333,\"#9c179e\"],[0.4444444444444444,\"#bd3786\"],[0.5555555555555556,\"#d8576b\"],[0.6666666666666666,\"#ed7953\"],[0.7777777777777778,\"#fb9f3a\"],[0.8888888888888888,\"#fdca26\"],[1.0,\"#f0f921\"]],\"type\":\"histogram2dcontour\"}],\"mesh3d\":[{\"colorbar\":{\"outlinewidth\":0,\"ticks\":\"\"},\"type\":\"mesh3d\"}],\"parcoords\":[{\"line\":{\"colorbar\":{\"outlinewidth\":0,\"ticks\":\"\"}},\"type\":\"parcoords\"}],\"pie\":[{\"automargin\":true,\"type\":\"pie\"}],\"scatter\":[{\"marker\":{\"colorbar\":{\"outlinewidth\":0,\"ticks\":\"\"}},\"type\":\"scatter\"}],\"scatter3d\":[{\"line\":{\"colorbar\":{\"outlinewidth\":0,\"ticks\":\"\"}},\"marker\":{\"colorbar\":{\"outlinewidth\":0,\"ticks\":\"\"}},\"type\":\"scatter3d\"}],\"scattercarpet\":[{\"marker\":{\"colorbar\":{\"outlinewidth\":0,\"ticks\":\"\"}},\"type\":\"scattercarpet\"}],\"scattergeo\":[{\"marker\":{\"colorbar\":{\"outlinewidth\":0,\"ticks\":\"\"}},\"type\":\"scattergeo\"}],\"scattergl\":[{\"marker\":{\"colorbar\":{\"outlinewidth\":0,\"ticks\":\"\"}},\"type\":\"scattergl\"}],\"scattermapbox\":[{\"marker\":{\"colorbar\":{\"outlinewidth\":0,\"ticks\":\"\"}},\"type\":\"scattermapbox\"}],\"scatterpolar\":[{\"marker\":{\"colorbar\":{\"outlinewidth\":0,\"ticks\":\"\"}},\"type\":\"scatterpolar\"}],\"scatterpolargl\":[{\"marker\":{\"colorbar\":{\"outlinewidth\":0,\"ticks\":\"\"}},\"type\":\"scatterpolargl\"}],\"scatterternary\":[{\"marker\":{\"colorbar\":{\"outlinewidth\":0,\"ticks\":\"\"}},\"type\":\"scatterternary\"}],\"surface\":[{\"colorbar\":{\"outlinewidth\":0,\"ticks\":\"\"},\"colorscale\":[[0.0,\"#0d0887\"],[0.1111111111111111,\"#46039f\"],[0.2222222222222222,\"#7201a8\"],[0.3333333333333333,\"#9c179e\"],[0.4444444444444444,\"#bd3786\"],[0.5555555555555556,\"#d8576b\"],[0.6666666666666666,\"#ed7953\"],[0.7777777777777778,\"#fb9f3a\"],[0.8888888888888888,\"#fdca26\"],[1.0,\"#f0f921\"]],\"type\":\"surface\"}],\"table\":[{\"cells\":{\"fill\":{\"color\":\"#EBF0F8\"},\"line\":{\"color\":\"white\"}},\"header\":{\"fill\":{\"color\":\"#C8D4E3\"},\"line\":{\"color\":\"white\"}},\"type\":\"table\"}]},\"layout\":{\"annotationdefaults\":{\"arrowcolor\":\"#2a3f5f\",\"arrowhead\":0,\"arrowwidth\":1},\"autotypenumbers\":\"strict\",\"coloraxis\":{\"colorbar\":{\"outlinewidth\":0,\"ticks\":\"\"}},\"colorscale\":{\"diverging\":[[0,\"#8e0152\"],[0.1,\"#c51b7d\"],[0.2,\"#de77ae\"],[0.3,\"#f1b6da\"],[0.4,\"#fde0ef\"],[0.5,\"#f7f7f7\"],[0.6,\"#e6f5d0\"],[0.7,\"#b8e186\"],[0.8,\"#7fbc41\"],[0.9,\"#4d9221\"],[1,\"#276419\"]],\"sequential\":[[0.0,\"#0d0887\"],[0.1111111111111111,\"#46039f\"],[0.2222222222222222,\"#7201a8\"],[0.3333333333333333,\"#9c179e\"],[0.4444444444444444,\"#bd3786\"],[0.5555555555555556,\"#d8576b\"],[0.6666666666666666,\"#ed7953\"],[0.7777777777777778,\"#fb9f3a\"],[0.8888888888888888,\"#fdca26\"],[1.0,\"#f0f921\"]],\"sequentialminus\":[[0.0,\"#0d0887\"],[0.1111111111111111,\"#46039f\"],[0.2222222222222222,\"#7201a8\"],[0.3333333333333333,\"#9c179e\"],[0.4444444444444444,\"#bd3786\"],[0.5555555555555556,\"#d8576b\"],[0.6666666666666666,\"#ed7953\"],[0.7777777777777778,\"#fb9f3a\"],[0.8888888888888888,\"#fdca26\"],[1.0,\"#f0f921\"]]},\"colorway\":[\"#636efa\",\"#EF553B\",\"#00cc96\",\"#ab63fa\",\"#FFA15A\",\"#19d3f3\",\"#FF6692\",\"#B6E880\",\"#FF97FF\",\"#FECB52\"],\"font\":{\"color\":\"#2a3f5f\"},\"geo\":{\"bgcolor\":\"white\",\"lakecolor\":\"white\",\"landcolor\":\"#E5ECF6\",\"showlakes\":true,\"showland\":true,\"subunitcolor\":\"white\"},\"hoverlabel\":{\"align\":\"left\"},\"hovermode\":\"closest\",\"mapbox\":{\"style\":\"light\"},\"paper_bgcolor\":\"white\",\"plot_bgcolor\":\"#E5ECF6\",\"polar\":{\"angularaxis\":{\"gridcolor\":\"white\",\"linecolor\":\"white\",\"ticks\":\"\"},\"bgcolor\":\"#E5ECF6\",\"radialaxis\":{\"gridcolor\":\"white\",\"linecolor\":\"white\",\"ticks\":\"\"}},\"scene\":{\"xaxis\":{\"backgroundcolor\":\"#E5ECF6\",\"gridcolor\":\"white\",\"gridwidth\":2,\"linecolor\":\"white\",\"showbackground\":true,\"ticks\":\"\",\"zerolinecolor\":\"white\"},\"yaxis\":{\"backgroundcolor\":\"#E5ECF6\",\"gridcolor\":\"white\",\"gridwidth\":2,\"linecolor\":\"white\",\"showbackground\":true,\"ticks\":\"\",\"zerolinecolor\":\"white\"},\"zaxis\":{\"backgroundcolor\":\"#E5ECF6\",\"gridcolor\":\"white\",\"gridwidth\":2,\"linecolor\":\"white\",\"showbackground\":true,\"ticks\":\"\",\"zerolinecolor\":\"white\"}},\"shapedefaults\":{\"line\":{\"color\":\"#2a3f5f\"}},\"ternary\":{\"aaxis\":{\"gridcolor\":\"white\",\"linecolor\":\"white\",\"ticks\":\"\"},\"baxis\":{\"gridcolor\":\"white\",\"linecolor\":\"white\",\"ticks\":\"\"},\"bgcolor\":\"#E5ECF6\",\"caxis\":{\"gridcolor\":\"white\",\"linecolor\":\"white\",\"ticks\":\"\"}},\"title\":{\"x\":0.05},\"xaxis\":{\"automargin\":true,\"gridcolor\":\"white\",\"linecolor\":\"white\",\"ticks\":\"\",\"title\":{\"standoff\":15},\"zerolinecolor\":\"white\",\"zerolinewidth\":2},\"yaxis\":{\"automargin\":true,\"gridcolor\":\"white\",\"linecolor\":\"white\",\"ticks\":\"\",\"title\":{\"standoff\":15},\"zerolinecolor\":\"white\",\"zerolinewidth\":2}}},\"legend\":{\"tracegroupgap\":0},\"margin\":{\"t\":60},\"title\":{\"text\":\"Subreddits distribution\"}},                        {\"responsive\": true}                    ).then(function(){\n",
              "                            \n",
              "var gd = document.getElementById('230e11b3-97d4-4e93-94d8-9b4cfffb9993');\n",
              "var x = new MutationObserver(function (mutations, observer) {{\n",
              "        var display = window.getComputedStyle(gd).display;\n",
              "        if (!display || display === 'none') {{\n",
              "            console.log([gd, 'removed!']);\n",
              "            Plotly.purge(gd);\n",
              "            observer.disconnect();\n",
              "        }}\n",
              "}});\n",
              "\n",
              "// Listen for the removal of the full notebook cells\n",
              "var notebookContainer = gd.closest('#notebook-container');\n",
              "if (notebookContainer) {{\n",
              "    x.observe(notebookContainer, {childList: true});\n",
              "}}\n",
              "\n",
              "// Listen for the clearing of the current output cell\n",
              "var outputEl = gd.closest('.output');\n",
              "if (outputEl) {{\n",
              "    x.observe(outputEl, {childList: true});\n",
              "}}\n",
              "\n",
              "                        })                };                            </script>        </div>\n",
              "</body>\n",
              "</html>"
            ]
          },
          "metadata": {}
        }
      ]
    },
    {
      "cell_type": "code",
      "source": [
        "train_df['subreddit']"
      ],
      "metadata": {
        "colab": {
          "base_uri": "https://localhost:8080/"
        },
        "id": "-zzmxbyyvVAU",
        "outputId": "e61c5a63-2c3a-44d0-b906-2df41cbf7e77"
      },
      "execution_count": 115,
      "outputs": [
        {
          "output_type": "execute_result",
          "data": {
            "text/plain": [
              "0                   ptsd\n",
              "1             assistance\n",
              "2                   ptsd\n",
              "3          relationships\n",
              "4       survivorsofabuse\n",
              "              ...       \n",
              "2833       relationships\n",
              "2834                ptsd\n",
              "2835             anxiety\n",
              "2836      almosthomeless\n",
              "2837                ptsd\n",
              "Name: subreddit, Length: 2838, dtype: object"
            ]
          },
          "metadata": {},
          "execution_count": 115
        }
      ]
    },
    {
      "cell_type": "code",
      "source": [
        "label_enc = LabelEncoder()\n",
        "train_df['subreddit'] = label_enc.fit_transform(train_df['subreddit'])\n",
        "test_df['subreddit'] = label_enc.fit_transform(test_df['subreddit'])"
      ],
      "metadata": {
        "id": "P3rKZzHMtikD"
      },
      "execution_count": 116,
      "outputs": []
    },
    {
      "cell_type": "code",
      "source": [
        "train_df['subreddit']"
      ],
      "metadata": {
        "colab": {
          "base_uri": "https://localhost:8080/"
        },
        "id": "kqDkdl68vXTU",
        "outputId": "b3b0b20b-564b-4749-ba4f-dea3b0668a84"
      },
      "execution_count": 117,
      "outputs": [
        {
          "output_type": "execute_result",
          "data": {
            "text/plain": [
              "0       6\n",
              "1       2\n",
              "2       6\n",
              "3       7\n",
              "4       9\n",
              "       ..\n",
              "2833    7\n",
              "2834    6\n",
              "2835    1\n",
              "2836    0\n",
              "2837    6\n",
              "Name: subreddit, Length: 2838, dtype: int64"
            ]
          },
          "metadata": {},
          "execution_count": 117
        }
      ]
    },
    {
      "cell_type": "markdown",
      "source": [
        "Take all the 80% majurity data"
      ],
      "metadata": {
        "id": "RAbF6ckzzuaQ"
      }
    },
    {
      "cell_type": "code",
      "source": [
        "BestData_ = train_df[train_df['confidence'] >= 0.8]"
      ],
      "metadata": {
        "id": "62rTp4nbztrA"
      },
      "execution_count": 118,
      "outputs": []
    },
    {
      "cell_type": "code",
      "source": [
        "BestData_.shape"
      ],
      "metadata": {
        "colab": {
          "base_uri": "https://localhost:8080/"
        },
        "id": "a6UE3B-wAw3p",
        "outputId": "1a269e29-ac68-46b4-8c32-40bf62a093ba"
      },
      "execution_count": 119,
      "outputs": [
        {
          "output_type": "execute_result",
          "data": {
            "text/plain": [
              "(1852, 116)"
            ]
          },
          "metadata": {},
          "execution_count": 119
        }
      ]
    },
    {
      "cell_type": "code",
      "source": [
        "import nltk\n",
        "nltk.download('stopwords')\n",
        "nltk.download('wordnet')\n",
        "from nltk.corpus import stopwords\n",
        "from string import punctuation\n",
        "stop = set(stopwords.words('english'))"
      ],
      "metadata": {
        "colab": {
          "base_uri": "https://localhost:8080/"
        },
        "id": "vY1vdhFd-scw",
        "outputId": "205388e1-843a-45e4-a1c4-7912b17cbfd7"
      },
      "execution_count": 120,
      "outputs": [
        {
          "output_type": "stream",
          "name": "stderr",
          "text": [
            "[nltk_data] Downloading package stopwords to /root/nltk_data...\n",
            "[nltk_data]   Package stopwords is already up-to-date!\n",
            "[nltk_data] Downloading package wordnet to /root/nltk_data...\n",
            "[nltk_data]   Package wordnet is already up-to-date!\n"
          ]
        }
      ]
    },
    {
      "cell_type": "code",
      "source": [
        "import re\n",
        "\n",
        "def remove_stopwords(text):\n",
        "    return \" \".join([word for word in str(text).split() if word not in stop])\n",
        "\n",
        "def remove_punctuation(text):\n",
        "    return text.translate(str.maketrans('','', punctuation))\n",
        "\n",
        "def nospecial(text, remove_spaces=True):\n",
        "    #return re.sub('[^a-zA-Z0-9 ]', \" \", text)\n",
        "    return re.sub('[^a-zA-Z ]', \"\", text)\n",
        "\n",
        "def clean_text(text):\n",
        "    text = remove_stopwords(text)\n",
        "    text = remove_punctuation(text)\n",
        "    text = nospecial(text)\n",
        "    return text"
      ],
      "metadata": {
        "id": "zkjAZTgd-Xd9"
      },
      "execution_count": 121,
      "outputs": []
    },
    {
      "cell_type": "code",
      "source": [
        "# Here we get transform the documents into sentences for the word2vecmodel\n",
        "# we made a function such that later on when we make the submission, we don't need to write duplicate code\n",
        "def preprocess(df):\n",
        "    df['text'] = df['text'].apply(clean_text)\n",
        "    df['text'] = df.text.str.lower()\n",
        "    df['document_sentences'] = df.text.str.split('.') \n",
        "    df['tokenized_sentences'] = list(map(lambda sentences: list(map(nltk.word_tokenize, sentences)), df.document_sentences))  \n",
        "    df['tokenized_sentences'] = list(map(lambda sentences: list(filter(lambda lst: lst, sentences)), df.tokenized_sentences))"
      ],
      "metadata": {
        "id": "gQqM_8sq4Giq"
      },
      "execution_count": 122,
      "outputs": []
    },
    {
      "cell_type": "code",
      "source": [
        "preprocess(BestData_)\n",
        "preprocess(test_df)"
      ],
      "metadata": {
        "id": "YnZrqTxF_YZN"
      },
      "execution_count": 123,
      "outputs": []
    },
    {
      "cell_type": "code",
      "source": [
        "#Collecting a vocabulary\n",
        "voc = []\n",
        "for sentence in BestData_.tokenized_sentences:\n",
        "    voc.extend(sentence)\n",
        "\n",
        "print(\"Number of sentences: {}.\".format(len(voc)))\n",
        "print(\"Number of rows: {}.\".format(len(BestData_)))"
      ],
      "metadata": {
        "colab": {
          "base_uri": "https://localhost:8080/"
        },
        "id": "nzwiAC_Q6Og8",
        "outputId": "ad2ecff8-02bc-4dec-9b5b-7ca38a4beb74"
      },
      "execution_count": 124,
      "outputs": [
        {
          "output_type": "stream",
          "name": "stdout",
          "text": [
            "Number of sentences: 1852.\n",
            "Number of rows: 1852.\n"
          ]
        }
      ]
    },
    {
      "cell_type": "markdown",
      "source": [
        "Word2Vec model"
      ],
      "metadata": {
        "id": "foXHiQRaTbWT"
      }
    },
    {
      "cell_type": "code",
      "source": [
        "num_features = 260    \n",
        "min_word_count = 3\n",
        "num_workers = 4\n",
        "context = 8\n",
        "downsampling = 1e-3\n",
        "\n",
        "# Initialize and train the model\n",
        "W2Vmodel = Word2Vec(sentences=voc, sg=1, hs=0, workers=num_workers, size=num_features, min_count=min_word_count, window=context,\n",
        "                    sample=downsampling, negative=5, iter=10)"
      ],
      "metadata": {
        "id": "li2t6I6X9PkV"
      },
      "execution_count": 125,
      "outputs": []
    },
    {
      "cell_type": "code",
      "source": [
        "def sentence_vectors(model, sentence):\n",
        "    #Collecting all words in the text\n",
        "    words=np.concatenate(sentence)\n",
        "    #Collecting words that are known to the model\n",
        "    model_voc = set(model.wv.vocab.keys()) \n",
        "    sent_vector = np.zeros(model.vector_size, dtype=\"float32\")\n",
        "    # Use a counter variable for number of words in a text\n",
        "    nwords = 0\n",
        "    # Sum up all words vectors that are know to the model\n",
        "    for word in words:\n",
        "        if word in model_voc: \n",
        "            sent_vector += model[word]\n",
        "            nwords += 1.\n",
        "\n",
        "    # Now get the average\n",
        "    if nwords > 0:\n",
        "        sent_vector /= nwords\n",
        "    return sent_vector"
      ],
      "metadata": {
        "id": "hK7TFhT39sNa"
      },
      "execution_count": 126,
      "outputs": []
    },
    {
      "cell_type": "code",
      "source": [
        "BestData_['sentence_vectors'] = list(map(lambda sen_group: sentence_vectors(W2Vmodel, sen_group), BestData_.tokenized_sentences))\n",
        "test_df['sentence_vectors'] = list(map(lambda sen_group:sentence_vectors(W2Vmodel, sen_group), test_df.tokenized_sentences))"
      ],
      "metadata": {
        "id": "CYI5N0Wn9vJz"
      },
      "execution_count": 127,
      "outputs": []
    },
    {
      "cell_type": "code",
      "source": [
        "def vectors_to_feats(df, ndim):\n",
        "    index=[]\n",
        "    for i in range(ndim):\n",
        "        df[f'w2v_{i}'] = df['sentence_vectors'].apply(lambda x: x[i])\n",
        "        index.append(f'w2v_{i}')\n",
        "    return df[index]"
      ],
      "metadata": {
        "id": "J-kv1YLd-Jxq"
      },
      "execution_count": 128,
      "outputs": []
    },
    {
      "cell_type": "code",
      "source": [
        "X_train_Word2Vec = vectors_to_feats(BestData_, num_features)\n",
        "X_test_Word2Vec = vectors_to_feats(test_df, num_features)\n",
        "X_train_Word2Vec.head()"
      ],
      "metadata": {
        "colab": {
          "base_uri": "https://localhost:8080/",
          "height": 300
        },
        "id": "bUV354Ym-fNC",
        "outputId": "24e31b5c-4472-4fa9-d13b-e5e5d15b8f59"
      },
      "execution_count": 129,
      "outputs": [
        {
          "output_type": "execute_result",
          "data": {
            "text/plain": [
              "      w2v_0     w2v_1     w2v_2     w2v_3     w2v_4     w2v_5     w2v_6  \\\n",
              "0  0.023576  0.181576 -0.166946  0.272200  0.008710 -0.037849 -0.035544   \n",
              "1  0.013865  0.132555 -0.118585  0.229888 -0.044499  0.007656  0.046725   \n",
              "2  0.024403  0.186959 -0.136917  0.276266 -0.013662 -0.045711 -0.050662   \n",
              "4  0.008776  0.224188 -0.101339  0.246772 -0.022410 -0.038940 -0.030366   \n",
              "5  0.051846  0.198033 -0.205374  0.323768 -0.017394 -0.051601 -0.064626   \n",
              "\n",
              "      w2v_7     w2v_8     w2v_9  ...   w2v_250   w2v_251   w2v_252   w2v_253  \\\n",
              "0  0.089335 -0.001131  0.084395  ... -0.005882  0.032905  0.017526 -0.004856   \n",
              "1  0.076669 -0.074793  0.117652  ... -0.037058  0.050323  0.057518  0.104145   \n",
              "2  0.084227 -0.008208  0.124143  ...  0.005549  0.027449  0.036540 -0.001663   \n",
              "4  0.110026  0.004731  0.118435  ...  0.005980  0.015294  0.015786  0.037195   \n",
              "5  0.072651  0.001185  0.119647  ... -0.014133  0.050247  0.042423 -0.009894   \n",
              "\n",
              "    w2v_254   w2v_255   w2v_256   w2v_257   w2v_258   w2v_259  \n",
              "0 -0.063663 -0.052774 -0.068103 -0.076675 -0.012993  0.083135  \n",
              "1 -0.154829 -0.079251 -0.036416 -0.107833 -0.074089  0.037889  \n",
              "2 -0.074913 -0.005632 -0.053810 -0.060712 -0.003625  0.094116  \n",
              "4 -0.066156 -0.028064 -0.048410 -0.064559  0.010979  0.075593  \n",
              "5 -0.075677 -0.007286 -0.056705 -0.086137 -0.001961  0.093642  \n",
              "\n",
              "[5 rows x 260 columns]"
            ],
            "text/html": [
              "\n",
              "  <div id=\"df-52e2ca8f-9a72-4a66-a002-b0ca84a55e0c\">\n",
              "    <div class=\"colab-df-container\">\n",
              "      <div>\n",
              "<style scoped>\n",
              "    .dataframe tbody tr th:only-of-type {\n",
              "        vertical-align: middle;\n",
              "    }\n",
              "\n",
              "    .dataframe tbody tr th {\n",
              "        vertical-align: top;\n",
              "    }\n",
              "\n",
              "    .dataframe thead th {\n",
              "        text-align: right;\n",
              "    }\n",
              "</style>\n",
              "<table border=\"1\" class=\"dataframe\">\n",
              "  <thead>\n",
              "    <tr style=\"text-align: right;\">\n",
              "      <th></th>\n",
              "      <th>w2v_0</th>\n",
              "      <th>w2v_1</th>\n",
              "      <th>w2v_2</th>\n",
              "      <th>w2v_3</th>\n",
              "      <th>w2v_4</th>\n",
              "      <th>w2v_5</th>\n",
              "      <th>w2v_6</th>\n",
              "      <th>w2v_7</th>\n",
              "      <th>w2v_8</th>\n",
              "      <th>w2v_9</th>\n",
              "      <th>...</th>\n",
              "      <th>w2v_250</th>\n",
              "      <th>w2v_251</th>\n",
              "      <th>w2v_252</th>\n",
              "      <th>w2v_253</th>\n",
              "      <th>w2v_254</th>\n",
              "      <th>w2v_255</th>\n",
              "      <th>w2v_256</th>\n",
              "      <th>w2v_257</th>\n",
              "      <th>w2v_258</th>\n",
              "      <th>w2v_259</th>\n",
              "    </tr>\n",
              "  </thead>\n",
              "  <tbody>\n",
              "    <tr>\n",
              "      <th>0</th>\n",
              "      <td>0.023576</td>\n",
              "      <td>0.181576</td>\n",
              "      <td>-0.166946</td>\n",
              "      <td>0.272200</td>\n",
              "      <td>0.008710</td>\n",
              "      <td>-0.037849</td>\n",
              "      <td>-0.035544</td>\n",
              "      <td>0.089335</td>\n",
              "      <td>-0.001131</td>\n",
              "      <td>0.084395</td>\n",
              "      <td>...</td>\n",
              "      <td>-0.005882</td>\n",
              "      <td>0.032905</td>\n",
              "      <td>0.017526</td>\n",
              "      <td>-0.004856</td>\n",
              "      <td>-0.063663</td>\n",
              "      <td>-0.052774</td>\n",
              "      <td>-0.068103</td>\n",
              "      <td>-0.076675</td>\n",
              "      <td>-0.012993</td>\n",
              "      <td>0.083135</td>\n",
              "    </tr>\n",
              "    <tr>\n",
              "      <th>1</th>\n",
              "      <td>0.013865</td>\n",
              "      <td>0.132555</td>\n",
              "      <td>-0.118585</td>\n",
              "      <td>0.229888</td>\n",
              "      <td>-0.044499</td>\n",
              "      <td>0.007656</td>\n",
              "      <td>0.046725</td>\n",
              "      <td>0.076669</td>\n",
              "      <td>-0.074793</td>\n",
              "      <td>0.117652</td>\n",
              "      <td>...</td>\n",
              "      <td>-0.037058</td>\n",
              "      <td>0.050323</td>\n",
              "      <td>0.057518</td>\n",
              "      <td>0.104145</td>\n",
              "      <td>-0.154829</td>\n",
              "      <td>-0.079251</td>\n",
              "      <td>-0.036416</td>\n",
              "      <td>-0.107833</td>\n",
              "      <td>-0.074089</td>\n",
              "      <td>0.037889</td>\n",
              "    </tr>\n",
              "    <tr>\n",
              "      <th>2</th>\n",
              "      <td>0.024403</td>\n",
              "      <td>0.186959</td>\n",
              "      <td>-0.136917</td>\n",
              "      <td>0.276266</td>\n",
              "      <td>-0.013662</td>\n",
              "      <td>-0.045711</td>\n",
              "      <td>-0.050662</td>\n",
              "      <td>0.084227</td>\n",
              "      <td>-0.008208</td>\n",
              "      <td>0.124143</td>\n",
              "      <td>...</td>\n",
              "      <td>0.005549</td>\n",
              "      <td>0.027449</td>\n",
              "      <td>0.036540</td>\n",
              "      <td>-0.001663</td>\n",
              "      <td>-0.074913</td>\n",
              "      <td>-0.005632</td>\n",
              "      <td>-0.053810</td>\n",
              "      <td>-0.060712</td>\n",
              "      <td>-0.003625</td>\n",
              "      <td>0.094116</td>\n",
              "    </tr>\n",
              "    <tr>\n",
              "      <th>4</th>\n",
              "      <td>0.008776</td>\n",
              "      <td>0.224188</td>\n",
              "      <td>-0.101339</td>\n",
              "      <td>0.246772</td>\n",
              "      <td>-0.022410</td>\n",
              "      <td>-0.038940</td>\n",
              "      <td>-0.030366</td>\n",
              "      <td>0.110026</td>\n",
              "      <td>0.004731</td>\n",
              "      <td>0.118435</td>\n",
              "      <td>...</td>\n",
              "      <td>0.005980</td>\n",
              "      <td>0.015294</td>\n",
              "      <td>0.015786</td>\n",
              "      <td>0.037195</td>\n",
              "      <td>-0.066156</td>\n",
              "      <td>-0.028064</td>\n",
              "      <td>-0.048410</td>\n",
              "      <td>-0.064559</td>\n",
              "      <td>0.010979</td>\n",
              "      <td>0.075593</td>\n",
              "    </tr>\n",
              "    <tr>\n",
              "      <th>5</th>\n",
              "      <td>0.051846</td>\n",
              "      <td>0.198033</td>\n",
              "      <td>-0.205374</td>\n",
              "      <td>0.323768</td>\n",
              "      <td>-0.017394</td>\n",
              "      <td>-0.051601</td>\n",
              "      <td>-0.064626</td>\n",
              "      <td>0.072651</td>\n",
              "      <td>0.001185</td>\n",
              "      <td>0.119647</td>\n",
              "      <td>...</td>\n",
              "      <td>-0.014133</td>\n",
              "      <td>0.050247</td>\n",
              "      <td>0.042423</td>\n",
              "      <td>-0.009894</td>\n",
              "      <td>-0.075677</td>\n",
              "      <td>-0.007286</td>\n",
              "      <td>-0.056705</td>\n",
              "      <td>-0.086137</td>\n",
              "      <td>-0.001961</td>\n",
              "      <td>0.093642</td>\n",
              "    </tr>\n",
              "  </tbody>\n",
              "</table>\n",
              "<p>5 rows × 260 columns</p>\n",
              "</div>\n",
              "      <button class=\"colab-df-convert\" onclick=\"convertToInteractive('df-52e2ca8f-9a72-4a66-a002-b0ca84a55e0c')\"\n",
              "              title=\"Convert this dataframe to an interactive table.\"\n",
              "              style=\"display:none;\">\n",
              "        \n",
              "  <svg xmlns=\"http://www.w3.org/2000/svg\" height=\"24px\"viewBox=\"0 0 24 24\"\n",
              "       width=\"24px\">\n",
              "    <path d=\"M0 0h24v24H0V0z\" fill=\"none\"/>\n",
              "    <path d=\"M18.56 5.44l.94 2.06.94-2.06 2.06-.94-2.06-.94-.94-2.06-.94 2.06-2.06.94zm-11 1L8.5 8.5l.94-2.06 2.06-.94-2.06-.94L8.5 2.5l-.94 2.06-2.06.94zm10 10l.94 2.06.94-2.06 2.06-.94-2.06-.94-.94-2.06-.94 2.06-2.06.94z\"/><path d=\"M17.41 7.96l-1.37-1.37c-.4-.4-.92-.59-1.43-.59-.52 0-1.04.2-1.43.59L10.3 9.45l-7.72 7.72c-.78.78-.78 2.05 0 2.83L4 21.41c.39.39.9.59 1.41.59.51 0 1.02-.2 1.41-.59l7.78-7.78 2.81-2.81c.8-.78.8-2.07 0-2.86zM5.41 20L4 18.59l7.72-7.72 1.47 1.35L5.41 20z\"/>\n",
              "  </svg>\n",
              "      </button>\n",
              "      \n",
              "  <style>\n",
              "    .colab-df-container {\n",
              "      display:flex;\n",
              "      flex-wrap:wrap;\n",
              "      gap: 12px;\n",
              "    }\n",
              "\n",
              "    .colab-df-convert {\n",
              "      background-color: #E8F0FE;\n",
              "      border: none;\n",
              "      border-radius: 50%;\n",
              "      cursor: pointer;\n",
              "      display: none;\n",
              "      fill: #1967D2;\n",
              "      height: 32px;\n",
              "      padding: 0 0 0 0;\n",
              "      width: 32px;\n",
              "    }\n",
              "\n",
              "    .colab-df-convert:hover {\n",
              "      background-color: #E2EBFA;\n",
              "      box-shadow: 0px 1px 2px rgba(60, 64, 67, 0.3), 0px 1px 3px 1px rgba(60, 64, 67, 0.15);\n",
              "      fill: #174EA6;\n",
              "    }\n",
              "\n",
              "    [theme=dark] .colab-df-convert {\n",
              "      background-color: #3B4455;\n",
              "      fill: #D2E3FC;\n",
              "    }\n",
              "\n",
              "    [theme=dark] .colab-df-convert:hover {\n",
              "      background-color: #434B5C;\n",
              "      box-shadow: 0px 1px 3px 1px rgba(0, 0, 0, 0.15);\n",
              "      filter: drop-shadow(0px 1px 2px rgba(0, 0, 0, 0.3));\n",
              "      fill: #FFFFFF;\n",
              "    }\n",
              "  </style>\n",
              "\n",
              "      <script>\n",
              "        const buttonEl =\n",
              "          document.querySelector('#df-52e2ca8f-9a72-4a66-a002-b0ca84a55e0c button.colab-df-convert');\n",
              "        buttonEl.style.display =\n",
              "          google.colab.kernel.accessAllowed ? 'block' : 'none';\n",
              "\n",
              "        async function convertToInteractive(key) {\n",
              "          const element = document.querySelector('#df-52e2ca8f-9a72-4a66-a002-b0ca84a55e0c');\n",
              "          const dataTable =\n",
              "            await google.colab.kernel.invokeFunction('convertToInteractive',\n",
              "                                                     [key], {});\n",
              "          if (!dataTable) return;\n",
              "\n",
              "          const docLinkHtml = 'Like what you see? Visit the ' +\n",
              "            '<a target=\"_blank\" href=https://colab.research.google.com/notebooks/data_table.ipynb>data table notebook</a>'\n",
              "            + ' to learn more about interactive tables.';\n",
              "          element.innerHTML = '';\n",
              "          dataTable['output_type'] = 'display_data';\n",
              "          await google.colab.output.renderOutput(dataTable, element);\n",
              "          const docLink = document.createElement('div');\n",
              "          docLink.innerHTML = docLinkHtml;\n",
              "          element.appendChild(docLink);\n",
              "        }\n",
              "      </script>\n",
              "    </div>\n",
              "  </div>\n",
              "  "
            ]
          },
          "metadata": {},
          "execution_count": 129
        }
      ]
    },
    {
      "cell_type": "code",
      "source": [
        "test_df.head()"
      ],
      "metadata": {
        "colab": {
          "base_uri": "https://localhost:8080/",
          "height": 803
        },
        "id": "-eo2xwmcCj5F",
        "outputId": "29e03c79-721b-4b11-ef26-614b603e48f0"
      },
      "execution_count": 130,
      "outputs": [
        {
          "output_type": "execute_result",
          "data": {
            "text/plain": [
              "      id  subreddit post_id sentence_range  \\\n",
              "0    896          7  7nu7as       [50, 55]   \n",
              "1  19059          1  680i6d        (5, 10)   \n",
              "2   7977          6  8eeu1t        (5, 10)   \n",
              "3   1214          6  8d28vu         [2, 7]   \n",
              "4   1965          7  7r1e85       [23, 28]   \n",
              "\n",
              "                                                text  label  confidence  \\\n",
              "0  its like that want not me i problem takes long...      0         0.8   \n",
              "1  i man front desk title hr customer service rep...      0         1.0   \n",
              "2  wed saving much money new housrits expensive c...      1         1.0   \n",
              "3  my ex used shoot back do want go you time matt...      1         0.5   \n",
              "4  i havent said anything yet im sure someone wou...      0         0.8   \n",
              "\n",
              "   social_timestamp  social_karma  syntax_ari  ...   w2v_250   w2v_251  \\\n",
              "0      1.514981e+09            22   -1.238793  ... -0.003394  0.054186   \n",
              "1      1.493348e+09             5    7.684583  ... -0.015594  0.038736   \n",
              "2      1.524517e+09            10    2.360408  ... -0.001336  0.056352   \n",
              "3      1.524018e+09             5    5.997000  ... -0.010431  0.034891   \n",
              "4      1.516200e+09           138    4.649418  ... -0.004934  0.026600   \n",
              "\n",
              "    w2v_252   w2v_253   w2v_254   w2v_255   w2v_256   w2v_257   w2v_258  \\\n",
              "0  0.030437 -0.022768 -0.069039 -0.044166 -0.060607 -0.090185 -0.016626   \n",
              "1  0.018993  0.036558 -0.106824 -0.043144 -0.032006 -0.077721 -0.018239   \n",
              "2  0.023122 -0.002222 -0.079728 -0.036055 -0.049744 -0.079536 -0.001106   \n",
              "3  0.030793 -0.014394 -0.058722 -0.031522 -0.077002 -0.070155 -0.007294   \n",
              "4  0.035837 -0.004606 -0.081464 -0.025340 -0.067969 -0.072066 -0.010333   \n",
              "\n",
              "    w2v_259  \n",
              "0  0.074659  \n",
              "1  0.051893  \n",
              "2  0.086829  \n",
              "3  0.094556  \n",
              "4  0.086916  \n",
              "\n",
              "[5 rows x 379 columns]"
            ],
            "text/html": [
              "\n",
              "  <div id=\"df-07b9041d-2b8a-40e4-932a-1de4388b29bb\">\n",
              "    <div class=\"colab-df-container\">\n",
              "      <div>\n",
              "<style scoped>\n",
              "    .dataframe tbody tr th:only-of-type {\n",
              "        vertical-align: middle;\n",
              "    }\n",
              "\n",
              "    .dataframe tbody tr th {\n",
              "        vertical-align: top;\n",
              "    }\n",
              "\n",
              "    .dataframe thead th {\n",
              "        text-align: right;\n",
              "    }\n",
              "</style>\n",
              "<table border=\"1\" class=\"dataframe\">\n",
              "  <thead>\n",
              "    <tr style=\"text-align: right;\">\n",
              "      <th></th>\n",
              "      <th>id</th>\n",
              "      <th>subreddit</th>\n",
              "      <th>post_id</th>\n",
              "      <th>sentence_range</th>\n",
              "      <th>text</th>\n",
              "      <th>label</th>\n",
              "      <th>confidence</th>\n",
              "      <th>social_timestamp</th>\n",
              "      <th>social_karma</th>\n",
              "      <th>syntax_ari</th>\n",
              "      <th>...</th>\n",
              "      <th>w2v_250</th>\n",
              "      <th>w2v_251</th>\n",
              "      <th>w2v_252</th>\n",
              "      <th>w2v_253</th>\n",
              "      <th>w2v_254</th>\n",
              "      <th>w2v_255</th>\n",
              "      <th>w2v_256</th>\n",
              "      <th>w2v_257</th>\n",
              "      <th>w2v_258</th>\n",
              "      <th>w2v_259</th>\n",
              "    </tr>\n",
              "  </thead>\n",
              "  <tbody>\n",
              "    <tr>\n",
              "      <th>0</th>\n",
              "      <td>896</td>\n",
              "      <td>7</td>\n",
              "      <td>7nu7as</td>\n",
              "      <td>[50, 55]</td>\n",
              "      <td>its like that want not me i problem takes long...</td>\n",
              "      <td>0</td>\n",
              "      <td>0.8</td>\n",
              "      <td>1.514981e+09</td>\n",
              "      <td>22</td>\n",
              "      <td>-1.238793</td>\n",
              "      <td>...</td>\n",
              "      <td>-0.003394</td>\n",
              "      <td>0.054186</td>\n",
              "      <td>0.030437</td>\n",
              "      <td>-0.022768</td>\n",
              "      <td>-0.069039</td>\n",
              "      <td>-0.044166</td>\n",
              "      <td>-0.060607</td>\n",
              "      <td>-0.090185</td>\n",
              "      <td>-0.016626</td>\n",
              "      <td>0.074659</td>\n",
              "    </tr>\n",
              "    <tr>\n",
              "      <th>1</th>\n",
              "      <td>19059</td>\n",
              "      <td>1</td>\n",
              "      <td>680i6d</td>\n",
              "      <td>(5, 10)</td>\n",
              "      <td>i man front desk title hr customer service rep...</td>\n",
              "      <td>0</td>\n",
              "      <td>1.0</td>\n",
              "      <td>1.493348e+09</td>\n",
              "      <td>5</td>\n",
              "      <td>7.684583</td>\n",
              "      <td>...</td>\n",
              "      <td>-0.015594</td>\n",
              "      <td>0.038736</td>\n",
              "      <td>0.018993</td>\n",
              "      <td>0.036558</td>\n",
              "      <td>-0.106824</td>\n",
              "      <td>-0.043144</td>\n",
              "      <td>-0.032006</td>\n",
              "      <td>-0.077721</td>\n",
              "      <td>-0.018239</td>\n",
              "      <td>0.051893</td>\n",
              "    </tr>\n",
              "    <tr>\n",
              "      <th>2</th>\n",
              "      <td>7977</td>\n",
              "      <td>6</td>\n",
              "      <td>8eeu1t</td>\n",
              "      <td>(5, 10)</td>\n",
              "      <td>wed saving much money new housrits expensive c...</td>\n",
              "      <td>1</td>\n",
              "      <td>1.0</td>\n",
              "      <td>1.524517e+09</td>\n",
              "      <td>10</td>\n",
              "      <td>2.360408</td>\n",
              "      <td>...</td>\n",
              "      <td>-0.001336</td>\n",
              "      <td>0.056352</td>\n",
              "      <td>0.023122</td>\n",
              "      <td>-0.002222</td>\n",
              "      <td>-0.079728</td>\n",
              "      <td>-0.036055</td>\n",
              "      <td>-0.049744</td>\n",
              "      <td>-0.079536</td>\n",
              "      <td>-0.001106</td>\n",
              "      <td>0.086829</td>\n",
              "    </tr>\n",
              "    <tr>\n",
              "      <th>3</th>\n",
              "      <td>1214</td>\n",
              "      <td>6</td>\n",
              "      <td>8d28vu</td>\n",
              "      <td>[2, 7]</td>\n",
              "      <td>my ex used shoot back do want go you time matt...</td>\n",
              "      <td>1</td>\n",
              "      <td>0.5</td>\n",
              "      <td>1.524018e+09</td>\n",
              "      <td>5</td>\n",
              "      <td>5.997000</td>\n",
              "      <td>...</td>\n",
              "      <td>-0.010431</td>\n",
              "      <td>0.034891</td>\n",
              "      <td>0.030793</td>\n",
              "      <td>-0.014394</td>\n",
              "      <td>-0.058722</td>\n",
              "      <td>-0.031522</td>\n",
              "      <td>-0.077002</td>\n",
              "      <td>-0.070155</td>\n",
              "      <td>-0.007294</td>\n",
              "      <td>0.094556</td>\n",
              "    </tr>\n",
              "    <tr>\n",
              "      <th>4</th>\n",
              "      <td>1965</td>\n",
              "      <td>7</td>\n",
              "      <td>7r1e85</td>\n",
              "      <td>[23, 28]</td>\n",
              "      <td>i havent said anything yet im sure someone wou...</td>\n",
              "      <td>0</td>\n",
              "      <td>0.8</td>\n",
              "      <td>1.516200e+09</td>\n",
              "      <td>138</td>\n",
              "      <td>4.649418</td>\n",
              "      <td>...</td>\n",
              "      <td>-0.004934</td>\n",
              "      <td>0.026600</td>\n",
              "      <td>0.035837</td>\n",
              "      <td>-0.004606</td>\n",
              "      <td>-0.081464</td>\n",
              "      <td>-0.025340</td>\n",
              "      <td>-0.067969</td>\n",
              "      <td>-0.072066</td>\n",
              "      <td>-0.010333</td>\n",
              "      <td>0.086916</td>\n",
              "    </tr>\n",
              "  </tbody>\n",
              "</table>\n",
              "<p>5 rows × 379 columns</p>\n",
              "</div>\n",
              "      <button class=\"colab-df-convert\" onclick=\"convertToInteractive('df-07b9041d-2b8a-40e4-932a-1de4388b29bb')\"\n",
              "              title=\"Convert this dataframe to an interactive table.\"\n",
              "              style=\"display:none;\">\n",
              "        \n",
              "  <svg xmlns=\"http://www.w3.org/2000/svg\" height=\"24px\"viewBox=\"0 0 24 24\"\n",
              "       width=\"24px\">\n",
              "    <path d=\"M0 0h24v24H0V0z\" fill=\"none\"/>\n",
              "    <path d=\"M18.56 5.44l.94 2.06.94-2.06 2.06-.94-2.06-.94-.94-2.06-.94 2.06-2.06.94zm-11 1L8.5 8.5l.94-2.06 2.06-.94-2.06-.94L8.5 2.5l-.94 2.06-2.06.94zm10 10l.94 2.06.94-2.06 2.06-.94-2.06-.94-.94-2.06-.94 2.06-2.06.94z\"/><path d=\"M17.41 7.96l-1.37-1.37c-.4-.4-.92-.59-1.43-.59-.52 0-1.04.2-1.43.59L10.3 9.45l-7.72 7.72c-.78.78-.78 2.05 0 2.83L4 21.41c.39.39.9.59 1.41.59.51 0 1.02-.2 1.41-.59l7.78-7.78 2.81-2.81c.8-.78.8-2.07 0-2.86zM5.41 20L4 18.59l7.72-7.72 1.47 1.35L5.41 20z\"/>\n",
              "  </svg>\n",
              "      </button>\n",
              "      \n",
              "  <style>\n",
              "    .colab-df-container {\n",
              "      display:flex;\n",
              "      flex-wrap:wrap;\n",
              "      gap: 12px;\n",
              "    }\n",
              "\n",
              "    .colab-df-convert {\n",
              "      background-color: #E8F0FE;\n",
              "      border: none;\n",
              "      border-radius: 50%;\n",
              "      cursor: pointer;\n",
              "      display: none;\n",
              "      fill: #1967D2;\n",
              "      height: 32px;\n",
              "      padding: 0 0 0 0;\n",
              "      width: 32px;\n",
              "    }\n",
              "\n",
              "    .colab-df-convert:hover {\n",
              "      background-color: #E2EBFA;\n",
              "      box-shadow: 0px 1px 2px rgba(60, 64, 67, 0.3), 0px 1px 3px 1px rgba(60, 64, 67, 0.15);\n",
              "      fill: #174EA6;\n",
              "    }\n",
              "\n",
              "    [theme=dark] .colab-df-convert {\n",
              "      background-color: #3B4455;\n",
              "      fill: #D2E3FC;\n",
              "    }\n",
              "\n",
              "    [theme=dark] .colab-df-convert:hover {\n",
              "      background-color: #434B5C;\n",
              "      box-shadow: 0px 1px 3px 1px rgba(0, 0, 0, 0.15);\n",
              "      filter: drop-shadow(0px 1px 2px rgba(0, 0, 0, 0.3));\n",
              "      fill: #FFFFFF;\n",
              "    }\n",
              "  </style>\n",
              "\n",
              "      <script>\n",
              "        const buttonEl =\n",
              "          document.querySelector('#df-07b9041d-2b8a-40e4-932a-1de4388b29bb button.colab-df-convert');\n",
              "        buttonEl.style.display =\n",
              "          google.colab.kernel.accessAllowed ? 'block' : 'none';\n",
              "\n",
              "        async function convertToInteractive(key) {\n",
              "          const element = document.querySelector('#df-07b9041d-2b8a-40e4-932a-1de4388b29bb');\n",
              "          const dataTable =\n",
              "            await google.colab.kernel.invokeFunction('convertToInteractive',\n",
              "                                                     [key], {});\n",
              "          if (!dataTable) return;\n",
              "\n",
              "          const docLinkHtml = 'Like what you see? Visit the ' +\n",
              "            '<a target=\"_blank\" href=https://colab.research.google.com/notebooks/data_table.ipynb>data table notebook</a>'\n",
              "            + ' to learn more about interactive tables.';\n",
              "          element.innerHTML = '';\n",
              "          dataTable['output_type'] = 'display_data';\n",
              "          await google.colab.output.renderOutput(dataTable, element);\n",
              "          const docLink = document.createElement('div');\n",
              "          docLink.innerHTML = docLinkHtml;\n",
              "          element.appendChild(docLink);\n",
              "        }\n",
              "      </script>\n",
              "    </div>\n",
              "  </div>\n",
              "  "
            ]
          },
          "metadata": {},
          "execution_count": 130
        }
      ]
    },
    {
      "cell_type": "code",
      "source": [
        "y_train = BestData_['label']\n",
        "X_train = BestData_.drop('label', axis=1)"
      ],
      "metadata": {
        "id": "GDeuaM7UtkvU"
      },
      "execution_count": 131,
      "outputs": []
    },
    {
      "cell_type": "code",
      "source": [
        "y_test = test_df['label']\n",
        "X_test = test_df.drop('label', axis=1)"
      ],
      "metadata": {
        "id": "91hqFn7lGzEu"
      },
      "execution_count": 132,
      "outputs": []
    },
    {
      "cell_type": "code",
      "source": [
        "X_train = X_train.select_dtypes(include=np.number)"
      ],
      "metadata": {
        "id": "axvj9p8pF7fl"
      },
      "execution_count": 133,
      "outputs": []
    },
    {
      "cell_type": "code",
      "source": [
        "X_test = X_test.select_dtypes(include=np.number)"
      ],
      "metadata": {
        "id": "X0nqZwcKKraT"
      },
      "execution_count": 134,
      "outputs": []
    },
    {
      "cell_type": "code",
      "source": [
        "X_train.shape"
      ],
      "metadata": {
        "colab": {
          "base_uri": "https://localhost:8080/"
        },
        "id": "-s-apfCRF_-G",
        "outputId": "d584e0b5-d362-4864-df8b-3292e5129e72"
      },
      "execution_count": 135,
      "outputs": [
        {
          "output_type": "execute_result",
          "data": {
            "text/plain": [
              "(1852, 372)"
            ]
          },
          "metadata": {},
          "execution_count": 135
        }
      ]
    },
    {
      "cell_type": "code",
      "source": [
        "def best_model(X_train, y_train, X_test, y_test, scaler, algo):\n",
        "        \n",
        "    X_train = np.asarray(X_train)\n",
        "    X_test = np.asarray(X_test)\n",
        "    y_train = np.asarray(y_train)\n",
        "    y_test = np.asarray(y_test)\n",
        "    \n",
        "    X_train = scaler.fit_transform(X_train)\n",
        "    X_test = scaler.transform(X_test)\n",
        "    \n",
        "    model = algo()\n",
        "    model.fit(X_train, y_train)\n",
        "    predictions = model.predict(X_test)\n",
        "    \n",
        "    training_score = model.score(X_train, y_train)\n",
        "    acc = accuracy_score(y_test, predictions)\n",
        "    con = confusion_matrix(y_test, predictions)\n",
        "    report = classification_report(y_test, predictions)\n",
        "    print(f'Training Score: {training_score}')\n",
        "    print(f'Accuracy Score: {acc}')\n",
        "    print(\" \")\n",
        "    print('Confusion Matrix:')\n",
        "    print(con)\n",
        "    print(\" \")\n",
        "    print('Classification Report:')\n",
        "    print(report)"
      ],
      "metadata": {
        "id": "AQ5qNmGdGoI2"
      },
      "execution_count": 136,
      "outputs": []
    },
    {
      "cell_type": "markdown",
      "source": [
        "## Pearson correlation method"
      ],
      "metadata": {
        "id": "_MSiO54xt3Az"
      }
    },
    {
      "cell_type": "code",
      "source": [
        "def correlation(df, thres): #Dataset and threshold value\n",
        "    col_corr = set()\n",
        "    corr_matrix = df.corr(method='pearson')\n",
        "    for i in range(len(corr_matrix.columns)):\n",
        "        for j in range(i):\n",
        "            if abs(corr_matrix.iloc[i, j]) >= thres:\n",
        "                colname = corr_matrix.columns[i]\n",
        "                col_corr.add(colname)\n",
        "    return col_corr"
      ],
      "metadata": {
        "id": "pNmSyNTqtlZz"
      },
      "execution_count": 137,
      "outputs": []
    },
    {
      "cell_type": "code",
      "source": [
        "corr_features = correlation(X_train, 0.4)"
      ],
      "metadata": {
        "id": "XUU5yMphtlXL"
      },
      "execution_count": 138,
      "outputs": []
    },
    {
      "cell_type": "code",
      "source": [
        "len(corr_features)"
      ],
      "metadata": {
        "colab": {
          "base_uri": "https://localhost:8080/"
        },
        "id": "OdIfevMX5ycy",
        "outputId": "e0dacdcd-9cbb-4a54-b8ee-5c6e423cf8fa"
      },
      "execution_count": 139,
      "outputs": [
        {
          "output_type": "execute_result",
          "data": {
            "text/plain": [
              "318"
            ]
          },
          "metadata": {},
          "execution_count": 139
        }
      ]
    },
    {
      "cell_type": "code",
      "source": [
        "X_train[corr_features]"
      ],
      "metadata": {
        "colab": {
          "base_uri": "https://localhost:8080/",
          "height": 488
        },
        "id": "uqhvLjcctlUz",
        "outputId": "5014f28b-6afc-42c7-abc3-3c87f732adf9"
      },
      "execution_count": 140,
      "outputs": [
        {
          "output_type": "execute_result",
          "data": {
            "text/plain": [
              "       w2v_130   w2v_227   w2v_197    w2v_27  lex_liwc_sad  lex_liwc_compare  \\\n",
              "0    -0.031035 -0.143470 -0.036221  0.006826          3.45              3.45   \n",
              "1    -0.041044 -0.124711 -0.032520 -0.065932          0.00              0.92   \n",
              "2    -0.085637 -0.155712 -0.025098 -0.004165          0.00              0.60   \n",
              "4    -0.080880 -0.118115 -0.038892 -0.019631          0.00              2.25   \n",
              "5    -0.034655 -0.145919 -0.051749 -0.007004          1.90              1.90   \n",
              "...        ...       ...       ...       ...           ...               ...   \n",
              "2829 -0.059140 -0.086145 -0.056640 -0.025397          0.00              1.37   \n",
              "2831 -0.036835 -0.132340 -0.043749  0.003044          0.00              2.34   \n",
              "2833 -0.155620 -0.154338 -0.043139 -0.042911          0.00              3.37   \n",
              "2834  0.065038 -0.149209 -0.062214  0.024109          0.74              1.48   \n",
              "2835 -0.058626 -0.089545 -0.063379 -0.052517          0.00              0.00   \n",
              "\n",
              "       w2v_150    w2v_26   w2v_195    w2v_33  ...  lex_liwc_male    w2v_72  \\\n",
              "0     0.098297 -0.017036  0.026989 -0.050220  ...           1.72  0.023501   \n",
              "1     0.114446  0.020871  0.018769 -0.037426  ...           0.00 -0.041382   \n",
              "2     0.105952  0.002580  0.024266 -0.069485  ...           2.40  0.027612   \n",
              "4     0.097751  0.009028  0.050022 -0.092850  ...           4.49  0.012724   \n",
              "5     0.090397  0.006782 -0.001886 -0.054475  ...           3.81  0.043785   \n",
              "...        ...       ...       ...       ...  ...            ...       ...   \n",
              "2829  0.101533  0.040356  0.016805 -0.082840  ...           2.74 -0.024326   \n",
              "2831  0.124019  0.020689  0.044670 -0.060404  ...           3.91  0.046885   \n",
              "2833  0.081161  0.013750 -0.019371 -0.127866  ...           0.00 -0.011850   \n",
              "2834  0.095134  0.002308  0.018110 -0.012636  ...           0.00  0.066044   \n",
              "2835  0.112077  0.036399  0.025450 -0.083864  ...           0.00 -0.093122   \n",
              "\n",
              "      lex_liwc_pronoun   w2v_101   w2v_257  lex_liwc_motion    w2v_62  \\\n",
              "0                16.38 -0.180275 -0.076675             0.86  0.003832   \n",
              "1                11.93 -0.153246 -0.107833             2.75  0.003661   \n",
              "2                25.15 -0.136508 -0.060712             4.79 -0.029850   \n",
              "4                15.73 -0.148879 -0.064559             2.25 -0.034227   \n",
              "5                20.95 -0.147124 -0.086137             1.90  0.024347   \n",
              "...                ...       ...       ...              ...       ...   \n",
              "2829              9.59 -0.162500 -0.072456             4.11 -0.046135   \n",
              "2831             24.22 -0.146130 -0.080185             1.56 -0.054394   \n",
              "2833             25.84 -0.105458 -0.046845             2.25 -0.025333   \n",
              "2834             16.30 -0.217978 -0.123561             2.22  0.019982   \n",
              "2835             12.69 -0.159175 -0.056854             0.00  0.011003   \n",
              "\n",
              "        w2v_89  syntax_fk_grade   w2v_165  \n",
              "0    -0.133204         3.253573 -0.042759  \n",
              "1    -0.143994         8.828316 -0.116182  \n",
              "2    -0.107887         7.841667 -0.070646  \n",
              "4    -0.118463         7.910952 -0.053670  \n",
              "5    -0.112265         4.338429 -0.090014  \n",
              "...        ...              ...       ...  \n",
              "2829 -0.095613         5.993333 -0.043645  \n",
              "2831 -0.080158        10.250250 -0.069471  \n",
              "2833 -0.107810         0.254444 -0.090399  \n",
              "2834 -0.136570         8.640664 -0.076501  \n",
              "2835 -0.135645         9.951524 -0.087100  \n",
              "\n",
              "[1852 rows x 318 columns]"
            ],
            "text/html": [
              "\n",
              "  <div id=\"df-4a943d1a-dd4b-477a-be7c-c71c30d4c8b2\">\n",
              "    <div class=\"colab-df-container\">\n",
              "      <div>\n",
              "<style scoped>\n",
              "    .dataframe tbody tr th:only-of-type {\n",
              "        vertical-align: middle;\n",
              "    }\n",
              "\n",
              "    .dataframe tbody tr th {\n",
              "        vertical-align: top;\n",
              "    }\n",
              "\n",
              "    .dataframe thead th {\n",
              "        text-align: right;\n",
              "    }\n",
              "</style>\n",
              "<table border=\"1\" class=\"dataframe\">\n",
              "  <thead>\n",
              "    <tr style=\"text-align: right;\">\n",
              "      <th></th>\n",
              "      <th>w2v_130</th>\n",
              "      <th>w2v_227</th>\n",
              "      <th>w2v_197</th>\n",
              "      <th>w2v_27</th>\n",
              "      <th>lex_liwc_sad</th>\n",
              "      <th>lex_liwc_compare</th>\n",
              "      <th>w2v_150</th>\n",
              "      <th>w2v_26</th>\n",
              "      <th>w2v_195</th>\n",
              "      <th>w2v_33</th>\n",
              "      <th>...</th>\n",
              "      <th>lex_liwc_male</th>\n",
              "      <th>w2v_72</th>\n",
              "      <th>lex_liwc_pronoun</th>\n",
              "      <th>w2v_101</th>\n",
              "      <th>w2v_257</th>\n",
              "      <th>lex_liwc_motion</th>\n",
              "      <th>w2v_62</th>\n",
              "      <th>w2v_89</th>\n",
              "      <th>syntax_fk_grade</th>\n",
              "      <th>w2v_165</th>\n",
              "    </tr>\n",
              "  </thead>\n",
              "  <tbody>\n",
              "    <tr>\n",
              "      <th>0</th>\n",
              "      <td>-0.031035</td>\n",
              "      <td>-0.143470</td>\n",
              "      <td>-0.036221</td>\n",
              "      <td>0.006826</td>\n",
              "      <td>3.45</td>\n",
              "      <td>3.45</td>\n",
              "      <td>0.098297</td>\n",
              "      <td>-0.017036</td>\n",
              "      <td>0.026989</td>\n",
              "      <td>-0.050220</td>\n",
              "      <td>...</td>\n",
              "      <td>1.72</td>\n",
              "      <td>0.023501</td>\n",
              "      <td>16.38</td>\n",
              "      <td>-0.180275</td>\n",
              "      <td>-0.076675</td>\n",
              "      <td>0.86</td>\n",
              "      <td>0.003832</td>\n",
              "      <td>-0.133204</td>\n",
              "      <td>3.253573</td>\n",
              "      <td>-0.042759</td>\n",
              "    </tr>\n",
              "    <tr>\n",
              "      <th>1</th>\n",
              "      <td>-0.041044</td>\n",
              "      <td>-0.124711</td>\n",
              "      <td>-0.032520</td>\n",
              "      <td>-0.065932</td>\n",
              "      <td>0.00</td>\n",
              "      <td>0.92</td>\n",
              "      <td>0.114446</td>\n",
              "      <td>0.020871</td>\n",
              "      <td>0.018769</td>\n",
              "      <td>-0.037426</td>\n",
              "      <td>...</td>\n",
              "      <td>0.00</td>\n",
              "      <td>-0.041382</td>\n",
              "      <td>11.93</td>\n",
              "      <td>-0.153246</td>\n",
              "      <td>-0.107833</td>\n",
              "      <td>2.75</td>\n",
              "      <td>0.003661</td>\n",
              "      <td>-0.143994</td>\n",
              "      <td>8.828316</td>\n",
              "      <td>-0.116182</td>\n",
              "    </tr>\n",
              "    <tr>\n",
              "      <th>2</th>\n",
              "      <td>-0.085637</td>\n",
              "      <td>-0.155712</td>\n",
              "      <td>-0.025098</td>\n",
              "      <td>-0.004165</td>\n",
              "      <td>0.00</td>\n",
              "      <td>0.60</td>\n",
              "      <td>0.105952</td>\n",
              "      <td>0.002580</td>\n",
              "      <td>0.024266</td>\n",
              "      <td>-0.069485</td>\n",
              "      <td>...</td>\n",
              "      <td>2.40</td>\n",
              "      <td>0.027612</td>\n",
              "      <td>25.15</td>\n",
              "      <td>-0.136508</td>\n",
              "      <td>-0.060712</td>\n",
              "      <td>4.79</td>\n",
              "      <td>-0.029850</td>\n",
              "      <td>-0.107887</td>\n",
              "      <td>7.841667</td>\n",
              "      <td>-0.070646</td>\n",
              "    </tr>\n",
              "    <tr>\n",
              "      <th>4</th>\n",
              "      <td>-0.080880</td>\n",
              "      <td>-0.118115</td>\n",
              "      <td>-0.038892</td>\n",
              "      <td>-0.019631</td>\n",
              "      <td>0.00</td>\n",
              "      <td>2.25</td>\n",
              "      <td>0.097751</td>\n",
              "      <td>0.009028</td>\n",
              "      <td>0.050022</td>\n",
              "      <td>-0.092850</td>\n",
              "      <td>...</td>\n",
              "      <td>4.49</td>\n",
              "      <td>0.012724</td>\n",
              "      <td>15.73</td>\n",
              "      <td>-0.148879</td>\n",
              "      <td>-0.064559</td>\n",
              "      <td>2.25</td>\n",
              "      <td>-0.034227</td>\n",
              "      <td>-0.118463</td>\n",
              "      <td>7.910952</td>\n",
              "      <td>-0.053670</td>\n",
              "    </tr>\n",
              "    <tr>\n",
              "      <th>5</th>\n",
              "      <td>-0.034655</td>\n",
              "      <td>-0.145919</td>\n",
              "      <td>-0.051749</td>\n",
              "      <td>-0.007004</td>\n",
              "      <td>1.90</td>\n",
              "      <td>1.90</td>\n",
              "      <td>0.090397</td>\n",
              "      <td>0.006782</td>\n",
              "      <td>-0.001886</td>\n",
              "      <td>-0.054475</td>\n",
              "      <td>...</td>\n",
              "      <td>3.81</td>\n",
              "      <td>0.043785</td>\n",
              "      <td>20.95</td>\n",
              "      <td>-0.147124</td>\n",
              "      <td>-0.086137</td>\n",
              "      <td>1.90</td>\n",
              "      <td>0.024347</td>\n",
              "      <td>-0.112265</td>\n",
              "      <td>4.338429</td>\n",
              "      <td>-0.090014</td>\n",
              "    </tr>\n",
              "    <tr>\n",
              "      <th>...</th>\n",
              "      <td>...</td>\n",
              "      <td>...</td>\n",
              "      <td>...</td>\n",
              "      <td>...</td>\n",
              "      <td>...</td>\n",
              "      <td>...</td>\n",
              "      <td>...</td>\n",
              "      <td>...</td>\n",
              "      <td>...</td>\n",
              "      <td>...</td>\n",
              "      <td>...</td>\n",
              "      <td>...</td>\n",
              "      <td>...</td>\n",
              "      <td>...</td>\n",
              "      <td>...</td>\n",
              "      <td>...</td>\n",
              "      <td>...</td>\n",
              "      <td>...</td>\n",
              "      <td>...</td>\n",
              "      <td>...</td>\n",
              "      <td>...</td>\n",
              "    </tr>\n",
              "    <tr>\n",
              "      <th>2829</th>\n",
              "      <td>-0.059140</td>\n",
              "      <td>-0.086145</td>\n",
              "      <td>-0.056640</td>\n",
              "      <td>-0.025397</td>\n",
              "      <td>0.00</td>\n",
              "      <td>1.37</td>\n",
              "      <td>0.101533</td>\n",
              "      <td>0.040356</td>\n",
              "      <td>0.016805</td>\n",
              "      <td>-0.082840</td>\n",
              "      <td>...</td>\n",
              "      <td>2.74</td>\n",
              "      <td>-0.024326</td>\n",
              "      <td>9.59</td>\n",
              "      <td>-0.162500</td>\n",
              "      <td>-0.072456</td>\n",
              "      <td>4.11</td>\n",
              "      <td>-0.046135</td>\n",
              "      <td>-0.095613</td>\n",
              "      <td>5.993333</td>\n",
              "      <td>-0.043645</td>\n",
              "    </tr>\n",
              "    <tr>\n",
              "      <th>2831</th>\n",
              "      <td>-0.036835</td>\n",
              "      <td>-0.132340</td>\n",
              "      <td>-0.043749</td>\n",
              "      <td>0.003044</td>\n",
              "      <td>0.00</td>\n",
              "      <td>2.34</td>\n",
              "      <td>0.124019</td>\n",
              "      <td>0.020689</td>\n",
              "      <td>0.044670</td>\n",
              "      <td>-0.060404</td>\n",
              "      <td>...</td>\n",
              "      <td>3.91</td>\n",
              "      <td>0.046885</td>\n",
              "      <td>24.22</td>\n",
              "      <td>-0.146130</td>\n",
              "      <td>-0.080185</td>\n",
              "      <td>1.56</td>\n",
              "      <td>-0.054394</td>\n",
              "      <td>-0.080158</td>\n",
              "      <td>10.250250</td>\n",
              "      <td>-0.069471</td>\n",
              "    </tr>\n",
              "    <tr>\n",
              "      <th>2833</th>\n",
              "      <td>-0.155620</td>\n",
              "      <td>-0.154338</td>\n",
              "      <td>-0.043139</td>\n",
              "      <td>-0.042911</td>\n",
              "      <td>0.00</td>\n",
              "      <td>3.37</td>\n",
              "      <td>0.081161</td>\n",
              "      <td>0.013750</td>\n",
              "      <td>-0.019371</td>\n",
              "      <td>-0.127866</td>\n",
              "      <td>...</td>\n",
              "      <td>0.00</td>\n",
              "      <td>-0.011850</td>\n",
              "      <td>25.84</td>\n",
              "      <td>-0.105458</td>\n",
              "      <td>-0.046845</td>\n",
              "      <td>2.25</td>\n",
              "      <td>-0.025333</td>\n",
              "      <td>-0.107810</td>\n",
              "      <td>0.254444</td>\n",
              "      <td>-0.090399</td>\n",
              "    </tr>\n",
              "    <tr>\n",
              "      <th>2834</th>\n",
              "      <td>0.065038</td>\n",
              "      <td>-0.149209</td>\n",
              "      <td>-0.062214</td>\n",
              "      <td>0.024109</td>\n",
              "      <td>0.74</td>\n",
              "      <td>1.48</td>\n",
              "      <td>0.095134</td>\n",
              "      <td>0.002308</td>\n",
              "      <td>0.018110</td>\n",
              "      <td>-0.012636</td>\n",
              "      <td>...</td>\n",
              "      <td>0.00</td>\n",
              "      <td>0.066044</td>\n",
              "      <td>16.30</td>\n",
              "      <td>-0.217978</td>\n",
              "      <td>-0.123561</td>\n",
              "      <td>2.22</td>\n",
              "      <td>0.019982</td>\n",
              "      <td>-0.136570</td>\n",
              "      <td>8.640664</td>\n",
              "      <td>-0.076501</td>\n",
              "    </tr>\n",
              "    <tr>\n",
              "      <th>2835</th>\n",
              "      <td>-0.058626</td>\n",
              "      <td>-0.089545</td>\n",
              "      <td>-0.063379</td>\n",
              "      <td>-0.052517</td>\n",
              "      <td>0.00</td>\n",
              "      <td>0.00</td>\n",
              "      <td>0.112077</td>\n",
              "      <td>0.036399</td>\n",
              "      <td>0.025450</td>\n",
              "      <td>-0.083864</td>\n",
              "      <td>...</td>\n",
              "      <td>0.00</td>\n",
              "      <td>-0.093122</td>\n",
              "      <td>12.69</td>\n",
              "      <td>-0.159175</td>\n",
              "      <td>-0.056854</td>\n",
              "      <td>0.00</td>\n",
              "      <td>0.011003</td>\n",
              "      <td>-0.135645</td>\n",
              "      <td>9.951524</td>\n",
              "      <td>-0.087100</td>\n",
              "    </tr>\n",
              "  </tbody>\n",
              "</table>\n",
              "<p>1852 rows × 318 columns</p>\n",
              "</div>\n",
              "      <button class=\"colab-df-convert\" onclick=\"convertToInteractive('df-4a943d1a-dd4b-477a-be7c-c71c30d4c8b2')\"\n",
              "              title=\"Convert this dataframe to an interactive table.\"\n",
              "              style=\"display:none;\">\n",
              "        \n",
              "  <svg xmlns=\"http://www.w3.org/2000/svg\" height=\"24px\"viewBox=\"0 0 24 24\"\n",
              "       width=\"24px\">\n",
              "    <path d=\"M0 0h24v24H0V0z\" fill=\"none\"/>\n",
              "    <path d=\"M18.56 5.44l.94 2.06.94-2.06 2.06-.94-2.06-.94-.94-2.06-.94 2.06-2.06.94zm-11 1L8.5 8.5l.94-2.06 2.06-.94-2.06-.94L8.5 2.5l-.94 2.06-2.06.94zm10 10l.94 2.06.94-2.06 2.06-.94-2.06-.94-.94-2.06-.94 2.06-2.06.94z\"/><path d=\"M17.41 7.96l-1.37-1.37c-.4-.4-.92-.59-1.43-.59-.52 0-1.04.2-1.43.59L10.3 9.45l-7.72 7.72c-.78.78-.78 2.05 0 2.83L4 21.41c.39.39.9.59 1.41.59.51 0 1.02-.2 1.41-.59l7.78-7.78 2.81-2.81c.8-.78.8-2.07 0-2.86zM5.41 20L4 18.59l7.72-7.72 1.47 1.35L5.41 20z\"/>\n",
              "  </svg>\n",
              "      </button>\n",
              "      \n",
              "  <style>\n",
              "    .colab-df-container {\n",
              "      display:flex;\n",
              "      flex-wrap:wrap;\n",
              "      gap: 12px;\n",
              "    }\n",
              "\n",
              "    .colab-df-convert {\n",
              "      background-color: #E8F0FE;\n",
              "      border: none;\n",
              "      border-radius: 50%;\n",
              "      cursor: pointer;\n",
              "      display: none;\n",
              "      fill: #1967D2;\n",
              "      height: 32px;\n",
              "      padding: 0 0 0 0;\n",
              "      width: 32px;\n",
              "    }\n",
              "\n",
              "    .colab-df-convert:hover {\n",
              "      background-color: #E2EBFA;\n",
              "      box-shadow: 0px 1px 2px rgba(60, 64, 67, 0.3), 0px 1px 3px 1px rgba(60, 64, 67, 0.15);\n",
              "      fill: #174EA6;\n",
              "    }\n",
              "\n",
              "    [theme=dark] .colab-df-convert {\n",
              "      background-color: #3B4455;\n",
              "      fill: #D2E3FC;\n",
              "    }\n",
              "\n",
              "    [theme=dark] .colab-df-convert:hover {\n",
              "      background-color: #434B5C;\n",
              "      box-shadow: 0px 1px 3px 1px rgba(0, 0, 0, 0.15);\n",
              "      filter: drop-shadow(0px 1px 2px rgba(0, 0, 0, 0.3));\n",
              "      fill: #FFFFFF;\n",
              "    }\n",
              "  </style>\n",
              "\n",
              "      <script>\n",
              "        const buttonEl =\n",
              "          document.querySelector('#df-4a943d1a-dd4b-477a-be7c-c71c30d4c8b2 button.colab-df-convert');\n",
              "        buttonEl.style.display =\n",
              "          google.colab.kernel.accessAllowed ? 'block' : 'none';\n",
              "\n",
              "        async function convertToInteractive(key) {\n",
              "          const element = document.querySelector('#df-4a943d1a-dd4b-477a-be7c-c71c30d4c8b2');\n",
              "          const dataTable =\n",
              "            await google.colab.kernel.invokeFunction('convertToInteractive',\n",
              "                                                     [key], {});\n",
              "          if (!dataTable) return;\n",
              "\n",
              "          const docLinkHtml = 'Like what you see? Visit the ' +\n",
              "            '<a target=\"_blank\" href=https://colab.research.google.com/notebooks/data_table.ipynb>data table notebook</a>'\n",
              "            + ' to learn more about interactive tables.';\n",
              "          element.innerHTML = '';\n",
              "          dataTable['output_type'] = 'display_data';\n",
              "          await google.colab.output.renderOutput(dataTable, element);\n",
              "          const docLink = document.createElement('div');\n",
              "          docLink.innerHTML = docLinkHtml;\n",
              "          element.appendChild(docLink);\n",
              "        }\n",
              "      </script>\n",
              "    </div>\n",
              "  </div>\n",
              "  "
            ]
          },
          "metadata": {},
          "execution_count": 140
        }
      ]
    },
    {
      "cell_type": "code",
      "source": [
        "minmax = MinMaxScaler()"
      ],
      "metadata": {
        "id": "VEgzm1CMJIV7"
      },
      "execution_count": 141,
      "outputs": []
    },
    {
      "cell_type": "code",
      "source": [
        "best_model(X_train[corr_features], y_train, X_test[corr_features], y_test, minmax, LogisticRegression)"
      ],
      "metadata": {
        "colab": {
          "base_uri": "https://localhost:8080/"
        },
        "id": "k4_oz8ElU9U0",
        "outputId": "10ca620a-d7fa-4787-a6a3-356b1c290569"
      },
      "execution_count": 142,
      "outputs": [
        {
          "output_type": "stream",
          "name": "stdout",
          "text": [
            "Training Score: 0.8617710583153347\n",
            "Accuracy Score: 0.7678321678321678\n",
            " \n",
            "Confusion Matrix:\n",
            "[[242 104]\n",
            " [ 62 307]]\n",
            " \n",
            "Classification Report:\n",
            "              precision    recall  f1-score   support\n",
            "\n",
            "           0       0.80      0.70      0.74       346\n",
            "           1       0.75      0.83      0.79       369\n",
            "\n",
            "    accuracy                           0.77       715\n",
            "   macro avg       0.77      0.77      0.77       715\n",
            "weighted avg       0.77      0.77      0.77       715\n",
            "\n"
          ]
        }
      ]
    },
    {
      "cell_type": "markdown",
      "source": [
        "# Until here is the implementation of the article."
      ],
      "metadata": {
        "id": "WzHudBbAF-yn"
      }
    },
    {
      "cell_type": "markdown",
      "source": [
        "## Now we will use cross-validation to evaluate the model"
      ],
      "metadata": {
        "id": "rZ2R4JLtYnA0"
      }
    },
    {
      "cell_type": "code",
      "source": [
        "from sklearn.ensemble import GradientBoostingClassifier, RandomForestClassifier\n",
        "from xgboost import XGBClassifier\n",
        "from sklearn.tree import DecisionTreeClassifier\n",
        "from sklearn.linear_model import LogisticRegression\n",
        "from sklearn.neighbors import KNeighborsClassifier\n",
        "from sklearn.svm import SVC\n",
        "from sklearn.naive_bayes import GaussianNB\n",
        "from sklearn.model_selection import cross_val_score\n",
        "from sklearn.model_selection import RepeatedStratifiedKFold\n",
        "from sklearn.preprocessing import StandardScaler\n",
        "from sklearn.pipeline import make_pipeline\n",
        "\n",
        "import warnings\n",
        "warnings.filterwarnings(action='ignore', category=UserWarning)"
      ],
      "metadata": {
        "id": "fszcXHB2luoG"
      },
      "execution_count": 143,
      "outputs": []
    },
    {
      "cell_type": "code",
      "source": [
        "x_full_data = pd.concat((X_train, X_test), sort=False).reset_index(drop=True)\n",
        "y_full_data = pd.concat((y_train, y_test), sort=False).reset_index(drop=True)"
      ],
      "metadata": {
        "id": "cuqq9FvDluqn"
      },
      "execution_count": 144,
      "outputs": []
    },
    {
      "cell_type": "code",
      "source": [
        "def get_models():\n",
        "  \n",
        "    models = dict()\n",
        "    models['lr'] = make_pipeline(StandardScaler(),LogisticRegression(solver = 'saga', C = 1.0))\n",
        "    models['svm'] = make_pipeline(StandardScaler(),SVC())\n",
        "    models['xgboost'] = XGBClassifier(n_estimators = 17, max_depth = 2)\n",
        "    \n",
        "    return models"
      ],
      "metadata": {
        "id": "zcACA6RYCAzX"
      },
      "execution_count": 145,
      "outputs": []
    },
    {
      "cell_type": "code",
      "source": [
        "# evaluate a given model using cross-validation\n",
        "def evaluate_model(model, X, y):\n",
        "\tcv = RepeatedStratifiedKFold(n_splits=7, n_repeats=3, random_state=42)\n",
        "\tscores = cross_val_score(model, X, y, scoring='f1', cv=cv, n_jobs=-1, error_score='raise')\n",
        "\treturn scores"
      ],
      "metadata": {
        "id": "h4Z1JfTZCDl_"
      },
      "execution_count": 146,
      "outputs": []
    },
    {
      "cell_type": "code",
      "source": [
        "import matplotlib.pyplot as plt\n",
        "%matplotlib inline\n",
        "from numpy import mean\n",
        "from numpy import std\n",
        "\n",
        "models = get_models()\n",
        "\n",
        "# evaluate the models and store results\n",
        "results, names = list(), list()\n",
        "for name, model in models.items():\n",
        "\tscores = evaluate_model(model, x_full_data, y_full_data)\n",
        "\tresults.append(scores)\n",
        "\tnames.append(name)\n",
        "\tprint('> Model: %s F1 score is %.2f, with a standard deviation of (%.2f)' % (name, scores.mean(), std(scores)))\n",
        "# plot model performance for comparison\n",
        "plt.boxplot(results, labels=names, showmeans=True)\n",
        "plt.show()"
      ],
      "metadata": {
        "colab": {
          "base_uri": "https://localhost:8080/",
          "height": 319
        },
        "id": "mLl08NFDCFSu",
        "outputId": "ec4d047a-4166-47df-adf0-8e8e06f25018"
      },
      "execution_count": 147,
      "outputs": [
        {
          "output_type": "stream",
          "name": "stdout",
          "text": [
            "> Model: lr F1 score is 0.83, with a standard deviation of (0.02)\n",
            "> Model: svm F1 score is 0.83, with a standard deviation of (0.02)\n",
            "> Model: xgboost F1 score is 0.82, with a standard deviation of (0.01)\n"
          ]
        },
        {
          "output_type": "display_data",
          "data": {
            "text/plain": [
              "<Figure size 432x288 with 1 Axes>"
            ],
            "image/png": "[encoded data removed]"
          },
          "metadata": {
            "needs_background": "light"
          }
        }
      ]
    },
    {
      "cell_type": "code",
      "source": [
        ""
      ],
      "metadata": {
        "id": "k89PI7dSCHFu"
      },
      "execution_count": 147,
      "outputs": []
    }
  ]
}